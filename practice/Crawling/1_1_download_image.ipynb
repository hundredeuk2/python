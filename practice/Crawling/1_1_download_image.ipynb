{
 "cells": [
  {
   "cell_type": "markdown",
   "metadata": {},
   "source": [
    "# 방법 1"
   ]
  },
  {
   "cell_type": "code",
   "execution_count": 1,
   "metadata": {},
   "outputs": [],
   "source": [
    "import urllib.request"
   ]
  },
  {
   "cell_type": "code",
   "execution_count": 2,
   "metadata": {},
   "outputs": [],
   "source": [
    "url = \"http://uta.pw/shodou/img/28/214.png\"\n",
    "savename = \"test.png\""
   ]
  },
  {
   "cell_type": "code",
   "execution_count": 4,
   "metadata": {},
   "outputs": [
    {
     "name": "stdout",
     "output_type": "stream",
     "text": [
      "저장되었습니다...!\n"
     ]
    }
   ],
   "source": [
    "urllib.request.urlretrieve(url, savename)\n",
    "print(\"저장되었습니다...!\")\n",
    "\n",
    "### 쥬피터 노트북에 있는 폴더에 새로운 이미지가 생김"
   ]
  },
  {
   "cell_type": "markdown",
   "metadata": {},
   "source": [
    "# 방법 2"
   ]
  },
  {
   "cell_type": "code",
   "execution_count": 5,
   "metadata": {},
   "outputs": [],
   "source": [
    "mem = urllib.request.urlopen(url).read()"
   ]
  },
  {
   "cell_type": "code",
   "execution_count": 6,
   "metadata": {},
   "outputs": [
    {
     "name": "stdout",
     "output_type": "stream",
     "text": [
      "저장되었습니다...!\n"
     ]
    }
   ],
   "source": [
    "with open(savename, mode=\"wb\") as f :\n",
    "    f.write(mem)\n",
    "    print(\"저장되었습니다...!\")\n",
    "    \n",
    "### 똑같이 같은 폴더에 새로운 이미지가 생긴다. ( 다른 방식일 뿐임)"
   ]
  },
  {
   "cell_type": "markdown",
   "metadata": {},
   "source": [
    "# 웹 API를 사용한 접속정보 출력"
   ]
  },
  {
   "cell_type": "code",
   "execution_count": 7,
   "metadata": {},
   "outputs": [],
   "source": [
    "import urllib.request\n",
    "\n",
    "url = \"http://api.aoikujira.com/ip/ini\"\n",
    "res = urllib.request.urlopen(url)\n",
    "data = res.read()"
   ]
  },
  {
   "cell_type": "code",
   "execution_count": 8,
   "metadata": {},
   "outputs": [
    {
     "name": "stdout",
     "output_type": "stream",
     "text": [
      "[ip]\n",
      "API_URI=http://api.aoikujira.com/ip/get.php\n",
      "REMOTE_ADDR=166.104.158.73\n",
      "REMOTE_HOST=166.104.158.73\n",
      "REMOTE_PORT=59010\n",
      "HTTP_HOST=api.aoikujira.com\n",
      "HTTP_USER_AGENT=Python-urllib/3.8\n",
      "HTTP_ACCEPT_LANGUAGE=\n",
      "HTTP_ACCEPT_CHARSET=\n",
      "SERVER_PORT=80\n",
      "FORMAT=ini\n",
      "\n",
      "\n"
     ]
    }
   ],
   "source": [
    "text = data.decode(\"utf-8\")\n",
    "print(text)"
   ]
  },
  {
   "cell_type": "markdown",
   "metadata": {},
   "source": [
    "# 매개변수를 추가해 요청을 전송하는 방법"
   ]
  },
  {
   "cell_type": "code",
   "execution_count": 9,
   "metadata": {},
   "outputs": [],
   "source": [
    "# 매개변수 stnld = 기상정보를 알고 싶은 지역을 지정할 수 있음\n",
    "# 전국 108 ,서울/경기 109 , 강원도 105, 충북 131, 충남 133, 전북 146, 전남 156, 경북 143, 경남 159, 제주 184"
   ]
  },
  {
   "cell_type": "code",
   "execution_count": 11,
   "metadata": {},
   "outputs": [],
   "source": [
    "import urllib.request\n",
    "import urllib.parse\n",
    "API = \"http://www.kma.go.kr/weather/forecast/mid-term-rss3.jsp\""
   ]
  },
  {
   "cell_type": "code",
   "execution_count": 12,
   "metadata": {},
   "outputs": [],
   "source": [
    "values = {\n",
    "    'stnld' : '108'\n",
    "}\n",
    "params = urllib.parse.urlencode(values)"
   ]
  },
  {
   "cell_type": "code",
   "execution_count": 13,
   "metadata": {},
   "outputs": [
    {
     "name": "stdout",
     "output_type": "stream",
     "text": [
      "url =  http://www.kma.go.kr/weather/forecast/mid-term-rss3.jsp?stnld=108\n"
     ]
    }
   ],
   "source": [
    "url = API + \"?\" + params\n",
    "print(\"url = \", url)"
   ]
  },
  {
   "cell_type": "markdown",
   "metadata": {},
   "source": [
    "###### 윗 부분의 다른 매개변수 요청 사례는\n",
    "###### http://example.com?key1=value1&key2=value2.....이런식으로\n",
    "###### ?뒤에 key=value형식으로 정하고 여러개를 요청할 시 &를 사이에두고 이어붙이면된다."
   ]
  },
  {
   "cell_type": "code",
   "execution_count": 17,
   "metadata": {
    "scrolled": true
   },
   "outputs": [],
   "source": [
    "data = urllib.request.urlopen(url).read()\n",
    "text = data.decode('utf-8')\n",
    "# print(text)\n",
    "# 깃허브 업로드용은 너무 많은 스크롤을 요구하기때문에 구현이 되고 나서 주석 처리함"
   ]
  },
  {
   "cell_type": "markdown",
   "metadata": {},
   "source": [
    "# 매개변수를 명령줄에서 지정하기"
   ]
  },
  {
   "cell_type": "code",
   "execution_count": 23,
   "metadata": {},
   "outputs": [],
   "source": [
    "import sys\n",
    "import urllib.request as req\n",
    "import urllib.parse as parse"
   ]
  },
  {
   "cell_type": "code",
   "execution_count": 42,
   "metadata": {},
   "outputs": [],
   "source": [
    "if len(sys.argv) <= 1 :\n",
    "    print(\"USAGE : download-forecast-argv <Region Number>\")\n",
    "    sys.exit()\n",
    "regionNumber = sys.argv[1]"
   ]
  },
  {
   "cell_type": "code",
   "execution_count": 43,
   "metadata": {},
   "outputs": [
    {
     "name": "stdout",
     "output_type": "stream",
     "text": [
      "url =  http://www.kma.go.kr/weather/forecast/mid-term-rss3.jsp?stnId=-f\n"
     ]
    }
   ],
   "source": [
    "API = \"http://www.kma.go.kr/weather/forecast/mid-term-rss3.jsp\"\n",
    "values = {\n",
    "    'stnId' : regionNumber\n",
    "}\n",
    "params = parse.urlencode(values)\n",
    "url = API + \"?\" + params\n",
    "print('url = ', url)"
   ]
  },
  {
   "cell_type": "code",
   "execution_count": 44,
   "metadata": {
    "scrolled": true
   },
   "outputs": [
    {
     "name": "stdout",
     "output_type": "stream",
     "text": [
      "\n"
     ]
    }
   ],
   "source": [
    "data = req.urlopen(url).read()\n",
    "text = data.decode(\"utf-8\")\n",
    "print(text)"
   ]
  },
  {
   "cell_type": "code",
   "execution_count": null,
   "metadata": {},
   "outputs": [],
   "source": []
  }
 ],
 "metadata": {
  "kernelspec": {
   "display_name": "Python 3",
   "language": "python",
   "name": "python3"
  },
  "language_info": {
   "codemirror_mode": {
    "name": "ipython",
    "version": 3
   },
   "file_extension": ".py",
   "mimetype": "text/x-python",
   "name": "python",
   "nbconvert_exporter": "python",
   "pygments_lexer": "ipython3",
   "version": "3.8.3"
  }
 },
 "nbformat": 4,
 "nbformat_minor": 4
}

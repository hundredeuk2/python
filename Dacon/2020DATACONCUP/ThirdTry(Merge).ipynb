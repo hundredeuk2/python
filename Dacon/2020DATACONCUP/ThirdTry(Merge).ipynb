{
 "cells": [
  {
   "cell_type": "code",
   "execution_count": 1,
   "metadata": {},
   "outputs": [],
   "source": [
    "import pandas as pd\n",
    "import os\n",
    "from datetime import datetime\n",
    "import seaborn as sns\n",
    "import matplotlib.pyplot as plt\n",
    "import numpy as np\n",
    "\n",
    "# SET WORK DERC\n",
    "\n",
    "#### For my Mac\n",
    "# os.chdir('//Users//patricklee//Desktop//파이썬//DACON//2020DACON_CUP') \n",
    "\n",
    "### For my Desktop\n",
    "os.chdir('C://Users//BIS_COM//data//dacon//2020')"
   ]
  },
  {
   "cell_type": "code",
   "execution_count": 2,
   "metadata": {},
   "outputs": [
    {
     "name": "stderr",
     "output_type": "stream",
     "text": [
      "C:\\Users\\BIS_COM\\anaconda3\\lib\\site-packages\\IPython\\core\\interactiveshell.py:3071: DtypeWarning: Columns (4,5) have mixed types.Specify dtype option on import or set low_memory=False.\n",
      "  has_raised = await self.run_ast_nodes(code_ast.body, cell_name,\n"
     ]
    }
   ],
   "source": [
    "train_df = pd.read_csv(r'./train.csv',encoding='cp949',parse_dates=['DateTime'])\n",
    "login_df = pd.read_csv(r'./info_login.csv',parse_dates=['c_time'],index_col=0)\n",
    "user_df = pd.read_csv(r'./info_user.csv',parse_dates=['c_time'],index_col=0)\n",
    "compe_df = pd.read_csv(r'./info_competition.csv',encoding='cp949',parse_dates=['period_start','period_end'],index_col=0)\n",
    "sub_df = pd.read_csv(r'./info_submission.csv',encoding='cp949',index_col=0,parse_dates=['c_time'])"
   ]
  },
  {
   "cell_type": "code",
   "execution_count": 3,
   "metadata": {},
   "outputs": [],
   "source": [
    "all_data = [train_df,login_df,user_df,compe_df,sub_df]\n",
    "just_data = [login_df,user_df,compe_df]\n",
    "user_data = [user_df,login_df]"
   ]
  },
  {
   "cell_type": "code",
   "execution_count": 4,
   "metadata": {
    "scrolled": true
   },
   "outputs": [
    {
     "name": "stdout",
     "output_type": "stream",
     "text": [
      "--------------------------------------------------\n",
      "<class 'pandas.core.frame.DataFrame'>\n",
      "RangeIndex: 19008 entries, 0 to 19007\n",
      "Data columns (total 5 columns):\n",
      " #   Column    Non-Null Count  Dtype         \n",
      "---  ------    --------------  -----         \n",
      " 0   DateTime  19008 non-null  datetime64[ns]\n",
      " 1   사용자       19008 non-null  int64         \n",
      " 2   세션        19008 non-null  int64         \n",
      " 3   신규방문자     19008 non-null  int64         \n",
      " 4   페이지뷰      19008 non-null  int64         \n",
      "dtypes: datetime64[ns](1), int64(4)\n",
      "memory usage: 742.6 KB\n",
      "--------------------------------------------------\n",
      "<class 'pandas.core.frame.DataFrame'>\n",
      "Float64Index: 151428 entries, 0.0 to nan\n",
      "Data columns (total 5 columns):\n",
      " #   Column    Non-Null Count   Dtype         \n",
      "---  ------    --------------   -----         \n",
      " 0   login_id  148999 non-null  float64       \n",
      " 1   user_id   141585 non-null  float64       \n",
      " 2   c_time    148999 non-null  datetime64[ns]\n",
      " 3   platform  64654 non-null   object        \n",
      " 4   browser   64654 non-null   object        \n",
      "dtypes: datetime64[ns](1), float64(2), object(2)\n",
      "memory usage: 6.9+ MB\n",
      "--------------------------------------------------\n",
      "<class 'pandas.core.frame.DataFrame'>\n",
      "Float64Index: 22103 entries, 0.0 to nan\n",
      "Data columns (total 8 columns):\n",
      " #   Column                   Non-Null Count  Dtype         \n",
      "---  ------                   --------------  -----         \n",
      " 0   id                       21692 non-null  float64       \n",
      " 1   c_time                   21692 non-null  datetime64[ns]\n",
      " 2   entered_competition_cnt  21692 non-null  float64       \n",
      " 3   code_share_cnt           21692 non-null  float64       \n",
      " 4   talk_board_cnt           21692 non-null  float64       \n",
      " 5   country_code             21692 non-null  float64       \n",
      " 6   python_level             21692 non-null  float64       \n",
      " 7   ds_level                 21692 non-null  float64       \n",
      "dtypes: datetime64[ns](1), float64(7)\n",
      "memory usage: 1.5 MB\n",
      "--------------------------------------------------\n",
      "<class 'pandas.core.frame.DataFrame'>\n",
      "Int64Index: 48 entries, 0 to 109\n",
      "Data columns (total 15 columns):\n",
      " #   Column            Non-Null Count  Dtype         \n",
      "---  ------            --------------  -----         \n",
      " 0   cpt_id            48 non-null     int64         \n",
      " 1   is_official       48 non-null     int64         \n",
      " 2   period_start      48 non-null     datetime64[ns]\n",
      " 3   period_end        48 non-null     datetime64[ns]\n",
      " 4   name              48 non-null     object        \n",
      " 5   name_eng          25 non-null     object        \n",
      " 6   keyword           48 non-null     object        \n",
      " 7   keyword_eng       24 non-null     object        \n",
      " 8   participants      48 non-null     int64         \n",
      " 9   max_team_member   48 non-null     int64         \n",
      " 10  max_file_per_day  48 non-null     int64         \n",
      " 11  prize             48 non-null     int64         \n",
      " 12  prize_info        32 non-null     object        \n",
      " 13  merge_deadline    48 non-null     object        \n",
      " 14  winner_show       48 non-null     int64         \n",
      "dtypes: datetime64[ns](2), int64(7), object(6)\n",
      "memory usage: 6.0+ KB\n",
      "--------------------------------------------------\n",
      "<class 'pandas.core.frame.DataFrame'>\n",
      "Float64Index: 103375 entries, 0.0 to nan\n",
      "Data columns (total 5 columns):\n",
      " #   Column   Non-Null Count   Dtype         \n",
      "---  ------   --------------   -----         \n",
      " 0   sub_id   101587 non-null  float64       \n",
      " 1   cpt_id   101587 non-null  float64       \n",
      " 2   team_id  101501 non-null  float64       \n",
      " 3   user_id  99262 non-null   float64       \n",
      " 4   c_time   101587 non-null  datetime64[ns]\n",
      "dtypes: datetime64[ns](1), float64(4)\n",
      "memory usage: 4.7 MB\n"
     ]
    }
   ],
   "source": [
    "for i in all_data :\n",
    "    print('-'*50)\n",
    "    i.info()"
   ]
  },
  {
   "cell_type": "code",
   "execution_count": 5,
   "metadata": {},
   "outputs": [],
   "source": [
    "login_df['c_time'] = login_df['c_time'].dt.date\n",
    "user_df['c_time'] = user_df['c_time'].dt.date\n",
    "compe_df['period_start'] = compe_df['period_start'].dt.date\n",
    "compe_df['period_end'] = compe_df['period_end'].dt.date"
   ]
  },
  {
   "cell_type": "markdown",
   "metadata": {},
   "source": [
    "# User Data Reshape"
   ]
  },
  {
   "cell_type": "code",
   "execution_count": 6,
   "metadata": {
    "scrolled": true
   },
   "outputs": [
    {
     "data": {
      "text/html": [
       "<div>\n",
       "<style scoped>\n",
       "    .dataframe tbody tr th:only-of-type {\n",
       "        vertical-align: middle;\n",
       "    }\n",
       "\n",
       "    .dataframe tbody tr th {\n",
       "        vertical-align: top;\n",
       "    }\n",
       "\n",
       "    .dataframe thead th {\n",
       "        text-align: right;\n",
       "    }\n",
       "</style>\n",
       "<table border=\"1\" class=\"dataframe\">\n",
       "  <thead>\n",
       "    <tr style=\"text-align: right;\">\n",
       "      <th></th>\n",
       "      <th>id</th>\n",
       "      <th>c_time</th>\n",
       "      <th>entered_competition_cnt</th>\n",
       "      <th>code_share_cnt</th>\n",
       "      <th>talk_board_cnt</th>\n",
       "      <th>country_code</th>\n",
       "      <th>python_level</th>\n",
       "      <th>ds_level</th>\n",
       "    </tr>\n",
       "  </thead>\n",
       "  <tbody>\n",
       "    <tr>\n",
       "      <th>0.0</th>\n",
       "      <td>15994.0</td>\n",
       "      <td>2017-05-02</td>\n",
       "      <td>94.0</td>\n",
       "      <td>306.0</td>\n",
       "      <td>477.0</td>\n",
       "      <td>82.0</td>\n",
       "      <td>1.0</td>\n",
       "      <td>1.0</td>\n",
       "    </tr>\n",
       "    <tr>\n",
       "      <th>1.0</th>\n",
       "      <td>19195.0</td>\n",
       "      <td>2018-08-08</td>\n",
       "      <td>1.0</td>\n",
       "      <td>0.0</td>\n",
       "      <td>0.0</td>\n",
       "      <td>82.0</td>\n",
       "      <td>1.0</td>\n",
       "      <td>1.0</td>\n",
       "    </tr>\n",
       "    <tr>\n",
       "      <th>2.0</th>\n",
       "      <td>16339.0</td>\n",
       "      <td>2018-08-08</td>\n",
       "      <td>1.0</td>\n",
       "      <td>0.0</td>\n",
       "      <td>0.0</td>\n",
       "      <td>82.0</td>\n",
       "      <td>1.0</td>\n",
       "      <td>1.0</td>\n",
       "    </tr>\n",
       "    <tr>\n",
       "      <th>3.0</th>\n",
       "      <td>7290.0</td>\n",
       "      <td>2018-08-08</td>\n",
       "      <td>0.0</td>\n",
       "      <td>0.0</td>\n",
       "      <td>0.0</td>\n",
       "      <td>82.0</td>\n",
       "      <td>1.0</td>\n",
       "      <td>1.0</td>\n",
       "    </tr>\n",
       "    <tr>\n",
       "      <th>4.0</th>\n",
       "      <td>21287.0</td>\n",
       "      <td>2018-08-08</td>\n",
       "      <td>0.0</td>\n",
       "      <td>0.0</td>\n",
       "      <td>0.0</td>\n",
       "      <td>82.0</td>\n",
       "      <td>1.0</td>\n",
       "      <td>1.0</td>\n",
       "    </tr>\n",
       "    <tr>\n",
       "      <th>...</th>\n",
       "      <td>...</td>\n",
       "      <td>...</td>\n",
       "      <td>...</td>\n",
       "      <td>...</td>\n",
       "      <td>...</td>\n",
       "      <td>...</td>\n",
       "      <td>...</td>\n",
       "      <td>...</td>\n",
       "    </tr>\n",
       "    <tr>\n",
       "      <th>NaN</th>\n",
       "      <td>NaN</td>\n",
       "      <td>NaN</td>\n",
       "      <td>NaN</td>\n",
       "      <td>NaN</td>\n",
       "      <td>NaN</td>\n",
       "      <td>NaN</td>\n",
       "      <td>NaN</td>\n",
       "      <td>NaN</td>\n",
       "    </tr>\n",
       "    <tr>\n",
       "      <th>NaN</th>\n",
       "      <td>NaN</td>\n",
       "      <td>NaN</td>\n",
       "      <td>NaN</td>\n",
       "      <td>NaN</td>\n",
       "      <td>NaN</td>\n",
       "      <td>NaN</td>\n",
       "      <td>NaN</td>\n",
       "      <td>NaN</td>\n",
       "    </tr>\n",
       "    <tr>\n",
       "      <th>NaN</th>\n",
       "      <td>NaN</td>\n",
       "      <td>NaN</td>\n",
       "      <td>NaN</td>\n",
       "      <td>NaN</td>\n",
       "      <td>NaN</td>\n",
       "      <td>NaN</td>\n",
       "      <td>NaN</td>\n",
       "      <td>NaN</td>\n",
       "    </tr>\n",
       "    <tr>\n",
       "      <th>NaN</th>\n",
       "      <td>NaN</td>\n",
       "      <td>NaN</td>\n",
       "      <td>NaN</td>\n",
       "      <td>NaN</td>\n",
       "      <td>NaN</td>\n",
       "      <td>NaN</td>\n",
       "      <td>NaN</td>\n",
       "      <td>NaN</td>\n",
       "    </tr>\n",
       "    <tr>\n",
       "      <th>NaN</th>\n",
       "      <td>NaN</td>\n",
       "      <td>NaN</td>\n",
       "      <td>NaN</td>\n",
       "      <td>NaN</td>\n",
       "      <td>NaN</td>\n",
       "      <td>NaN</td>\n",
       "      <td>NaN</td>\n",
       "      <td>NaN</td>\n",
       "    </tr>\n",
       "  </tbody>\n",
       "</table>\n",
       "<p>22103 rows × 8 columns</p>\n",
       "</div>"
      ],
      "text/plain": [
       "          id      c_time  entered_competition_cnt  code_share_cnt  \\\n",
       "0.0  15994.0  2017-05-02                     94.0           306.0   \n",
       "1.0  19195.0  2018-08-08                      1.0             0.0   \n",
       "2.0  16339.0  2018-08-08                      1.0             0.0   \n",
       "3.0   7290.0  2018-08-08                      0.0             0.0   \n",
       "4.0  21287.0  2018-08-08                      0.0             0.0   \n",
       "..       ...         ...                      ...             ...   \n",
       "NaN      NaN         NaN                      NaN             NaN   \n",
       "NaN      NaN         NaN                      NaN             NaN   \n",
       "NaN      NaN         NaN                      NaN             NaN   \n",
       "NaN      NaN         NaN                      NaN             NaN   \n",
       "NaN      NaN         NaN                      NaN             NaN   \n",
       "\n",
       "     talk_board_cnt  country_code  python_level  ds_level  \n",
       "0.0           477.0          82.0           1.0       1.0  \n",
       "1.0             0.0          82.0           1.0       1.0  \n",
       "2.0             0.0          82.0           1.0       1.0  \n",
       "3.0             0.0          82.0           1.0       1.0  \n",
       "4.0             0.0          82.0           1.0       1.0  \n",
       "..              ...           ...           ...       ...  \n",
       "NaN             NaN           NaN           NaN       NaN  \n",
       "NaN             NaN           NaN           NaN       NaN  \n",
       "NaN             NaN           NaN           NaN       NaN  \n",
       "NaN             NaN           NaN           NaN       NaN  \n",
       "NaN             NaN           NaN           NaN       NaN  \n",
       "\n",
       "[22103 rows x 8 columns]"
      ]
     },
     "execution_count": 6,
     "metadata": {},
     "output_type": "execute_result"
    }
   ],
   "source": [
    "user_df.sort_values(by='c_time',axis=0)\n",
    "user_df"
   ]
  },
  {
   "cell_type": "code",
   "execution_count": 7,
   "metadata": {
    "scrolled": true
   },
   "outputs": [
    {
     "data": {
      "text/plain": [
       "id                         411\n",
       "c_time                     411\n",
       "entered_competition_cnt    411\n",
       "code_share_cnt             411\n",
       "talk_board_cnt             411\n",
       "country_code               411\n",
       "python_level               411\n",
       "ds_level                   411\n",
       "dtype: int64"
      ]
     },
     "execution_count": 7,
     "metadata": {},
     "output_type": "execute_result"
    }
   ],
   "source": [
    "user_df.isnull().sum()"
   ]
  },
  {
   "cell_type": "code",
   "execution_count": 8,
   "metadata": {},
   "outputs": [
    {
     "data": {
      "text/plain": [
       "(22103, 8)"
      ]
     },
     "execution_count": 8,
     "metadata": {},
     "output_type": "execute_result"
    }
   ],
   "source": [
    "user_df.shape"
   ]
  },
  {
   "cell_type": "code",
   "execution_count": 9,
   "metadata": {},
   "outputs": [],
   "source": [
    "user_df = user_df.dropna(axis=0, how='any')"
   ]
  },
  {
   "cell_type": "code",
   "execution_count": 10,
   "metadata": {},
   "outputs": [
    {
     "data": {
      "text/plain": [
       "(21692, 8)"
      ]
     },
     "execution_count": 10,
     "metadata": {},
     "output_type": "execute_result"
    }
   ],
   "source": [
    "user_df.shape"
   ]
  },
  {
   "cell_type": "code",
   "execution_count": 11,
   "metadata": {
    "scrolled": true
   },
   "outputs": [
    {
     "data": {
      "text/plain": [
       "411"
      ]
     },
     "execution_count": 11,
     "metadata": {},
     "output_type": "execute_result"
    }
   ],
   "source": [
    "22103 - 21692"
   ]
  },
  {
   "cell_type": "code",
   "execution_count": 12,
   "metadata": {
    "scrolled": false
   },
   "outputs": [
    {
     "data": {
      "text/plain": [
       "id                         0\n",
       "c_time                     0\n",
       "entered_competition_cnt    0\n",
       "code_share_cnt             0\n",
       "talk_board_cnt             0\n",
       "country_code               0\n",
       "python_level               0\n",
       "ds_level                   0\n",
       "dtype: int64"
      ]
     },
     "execution_count": 12,
     "metadata": {},
     "output_type": "execute_result"
    }
   ],
   "source": [
    "user_df.isnull().sum()"
   ]
  },
  {
   "cell_type": "markdown",
   "metadata": {},
   "source": [
    "# Login Data reshape"
   ]
  },
  {
   "cell_type": "code",
   "execution_count": 13,
   "metadata": {
    "scrolled": false
   },
   "outputs": [
    {
     "data": {
      "text/plain": [
       "login_id     2429\n",
       "user_id      9843\n",
       "c_time       2429\n",
       "platform    86774\n",
       "browser     86774\n",
       "dtype: int64"
      ]
     },
     "execution_count": 13,
     "metadata": {},
     "output_type": "execute_result"
    }
   ],
   "source": [
    "login_df.isnull().sum()"
   ]
  },
  {
   "cell_type": "code",
   "execution_count": 14,
   "metadata": {},
   "outputs": [
    {
     "data": {
      "text/html": [
       "<div>\n",
       "<style scoped>\n",
       "    .dataframe tbody tr th:only-of-type {\n",
       "        vertical-align: middle;\n",
       "    }\n",
       "\n",
       "    .dataframe tbody tr th {\n",
       "        vertical-align: top;\n",
       "    }\n",
       "\n",
       "    .dataframe thead th {\n",
       "        text-align: right;\n",
       "    }\n",
       "</style>\n",
       "<table border=\"1\" class=\"dataframe\">\n",
       "  <thead>\n",
       "    <tr style=\"text-align: right;\">\n",
       "      <th></th>\n",
       "      <th>login_id</th>\n",
       "      <th>user_id</th>\n",
       "      <th>c_time</th>\n",
       "      <th>platform</th>\n",
       "      <th>browser</th>\n",
       "    </tr>\n",
       "  </thead>\n",
       "  <tbody>\n",
       "    <tr>\n",
       "      <th>0.0</th>\n",
       "      <td>14196.0</td>\n",
       "      <td>19195.0</td>\n",
       "      <td>2018-09-23</td>\n",
       "      <td>Windows 8</td>\n",
       "      <td>Internet Explorer 10.0</td>\n",
       "    </tr>\n",
       "    <tr>\n",
       "      <th>20.0</th>\n",
       "      <td>14322.0</td>\n",
       "      <td>19221.0</td>\n",
       "      <td>2018-09-23</td>\n",
       "      <td>Windows</td>\n",
       "      <td>Chrome 69.0.3497.100</td>\n",
       "    </tr>\n",
       "    <tr>\n",
       "      <th>21.0</th>\n",
       "      <td>14323.0</td>\n",
       "      <td>9771.0</td>\n",
       "      <td>2018-09-23</td>\n",
       "      <td>Apple</td>\n",
       "      <td>Chrome 69.0.3497.100</td>\n",
       "    </tr>\n",
       "    <tr>\n",
       "      <th>22.0</th>\n",
       "      <td>14338.0</td>\n",
       "      <td>91.0</td>\n",
       "      <td>2018-09-23</td>\n",
       "      <td>Apple</td>\n",
       "      <td>Safari 12.0</td>\n",
       "    </tr>\n",
       "    <tr>\n",
       "      <th>23.0</th>\n",
       "      <td>14346.0</td>\n",
       "      <td>17298.0</td>\n",
       "      <td>2018-09-23</td>\n",
       "      <td>Windows</td>\n",
       "      <td>Chrome 68.0.3440.106</td>\n",
       "    </tr>\n",
       "    <tr>\n",
       "      <th>...</th>\n",
       "      <td>...</td>\n",
       "      <td>...</td>\n",
       "      <td>...</td>\n",
       "      <td>...</td>\n",
       "      <td>...</td>\n",
       "    </tr>\n",
       "    <tr>\n",
       "      <th>NaN</th>\n",
       "      <td>NaN</td>\n",
       "      <td>NaN</td>\n",
       "      <td>NaN</td>\n",
       "      <td>NaN</td>\n",
       "      <td>NaN</td>\n",
       "    </tr>\n",
       "    <tr>\n",
       "      <th>NaN</th>\n",
       "      <td>NaN</td>\n",
       "      <td>NaN</td>\n",
       "      <td>NaN</td>\n",
       "      <td>NaN</td>\n",
       "      <td>NaN</td>\n",
       "    </tr>\n",
       "    <tr>\n",
       "      <th>NaN</th>\n",
       "      <td>NaN</td>\n",
       "      <td>NaN</td>\n",
       "      <td>NaN</td>\n",
       "      <td>NaN</td>\n",
       "      <td>NaN</td>\n",
       "    </tr>\n",
       "    <tr>\n",
       "      <th>NaN</th>\n",
       "      <td>NaN</td>\n",
       "      <td>NaN</td>\n",
       "      <td>NaN</td>\n",
       "      <td>NaN</td>\n",
       "      <td>NaN</td>\n",
       "    </tr>\n",
       "    <tr>\n",
       "      <th>NaN</th>\n",
       "      <td>NaN</td>\n",
       "      <td>NaN</td>\n",
       "      <td>NaN</td>\n",
       "      <td>NaN</td>\n",
       "      <td>NaN</td>\n",
       "    </tr>\n",
       "  </tbody>\n",
       "</table>\n",
       "<p>151428 rows × 5 columns</p>\n",
       "</div>"
      ],
      "text/plain": [
       "      login_id  user_id      c_time   platform                 browser\n",
       "0.0    14196.0  19195.0  2018-09-23  Windows 8  Internet Explorer 10.0\n",
       "20.0   14322.0  19221.0  2018-09-23    Windows    Chrome 69.0.3497.100\n",
       "21.0   14323.0   9771.0  2018-09-23      Apple    Chrome 69.0.3497.100\n",
       "22.0   14338.0     91.0  2018-09-23      Apple             Safari 12.0\n",
       "23.0   14346.0  17298.0  2018-09-23    Windows    Chrome 68.0.3440.106\n",
       "...        ...      ...         ...        ...                     ...\n",
       "NaN        NaN      NaN         NaN        NaN                     NaN\n",
       "NaN        NaN      NaN         NaN        NaN                     NaN\n",
       "NaN        NaN      NaN         NaN        NaN                     NaN\n",
       "NaN        NaN      NaN         NaN        NaN                     NaN\n",
       "NaN        NaN      NaN         NaN        NaN                     NaN\n",
       "\n",
       "[151428 rows x 5 columns]"
      ]
     },
     "execution_count": 14,
     "metadata": {},
     "output_type": "execute_result"
    }
   ],
   "source": [
    "login_df.sort_values('c_time')"
   ]
  },
  {
   "cell_type": "code",
   "execution_count": 15,
   "metadata": {
    "scrolled": true
   },
   "outputs": [],
   "source": [
    "login_drop_df = login_df.copy()\n",
    "# login_drop_df['c_time'] = login_drop_df['c_time'].dropna\n",
    "# login_drop_df.head()"
   ]
  },
  {
   "cell_type": "code",
   "execution_count": 16,
   "metadata": {
    "scrolled": true
   },
   "outputs": [
    {
     "data": {
      "text/html": [
       "<div>\n",
       "<style scoped>\n",
       "    .dataframe tbody tr th:only-of-type {\n",
       "        vertical-align: middle;\n",
       "    }\n",
       "\n",
       "    .dataframe tbody tr th {\n",
       "        vertical-align: top;\n",
       "    }\n",
       "\n",
       "    .dataframe thead th {\n",
       "        text-align: right;\n",
       "    }\n",
       "</style>\n",
       "<table border=\"1\" class=\"dataframe\">\n",
       "  <thead>\n",
       "    <tr style=\"text-align: right;\">\n",
       "      <th></th>\n",
       "      <th>login_id</th>\n",
       "      <th>user_id</th>\n",
       "      <th>c_time</th>\n",
       "      <th>platform</th>\n",
       "      <th>browser</th>\n",
       "    </tr>\n",
       "  </thead>\n",
       "  <tbody>\n",
       "    <tr>\n",
       "      <th>0.0</th>\n",
       "      <td>14196.0</td>\n",
       "      <td>19195.0</td>\n",
       "      <td>2018-09-23</td>\n",
       "      <td>Windows 8</td>\n",
       "      <td>Internet Explorer 10.0</td>\n",
       "    </tr>\n",
       "    <tr>\n",
       "      <th>1.0</th>\n",
       "      <td>14234.0</td>\n",
       "      <td>22045.0</td>\n",
       "      <td>2018-09-23</td>\n",
       "      <td>Windows</td>\n",
       "      <td>Chrome 67.0.3396.99</td>\n",
       "    </tr>\n",
       "    <tr>\n",
       "      <th>2.0</th>\n",
       "      <td>14256.0</td>\n",
       "      <td>8790.0</td>\n",
       "      <td>2018-09-23</td>\n",
       "      <td>Windows</td>\n",
       "      <td>Chrome 69.0.3497.100</td>\n",
       "    </tr>\n",
       "    <tr>\n",
       "      <th>3.0</th>\n",
       "      <td>14278.0</td>\n",
       "      <td>NaN</td>\n",
       "      <td>2018-09-23</td>\n",
       "      <td>Windows</td>\n",
       "      <td>Chrome 69.0.3497.100</td>\n",
       "    </tr>\n",
       "    <tr>\n",
       "      <th>4.0</th>\n",
       "      <td>14279.0</td>\n",
       "      <td>NaN</td>\n",
       "      <td>2018-09-23</td>\n",
       "      <td>Windows</td>\n",
       "      <td>Chrome 69.0.3497.100</td>\n",
       "    </tr>\n",
       "  </tbody>\n",
       "</table>\n",
       "</div>"
      ],
      "text/plain": [
       "     login_id  user_id      c_time   platform                 browser\n",
       "0.0   14196.0  19195.0  2018-09-23  Windows 8  Internet Explorer 10.0\n",
       "1.0   14234.0  22045.0  2018-09-23    Windows     Chrome 67.0.3396.99\n",
       "2.0   14256.0   8790.0  2018-09-23    Windows    Chrome 69.0.3497.100\n",
       "3.0   14278.0      NaN  2018-09-23    Windows    Chrome 69.0.3497.100\n",
       "4.0   14279.0      NaN  2018-09-23    Windows    Chrome 69.0.3497.100"
      ]
     },
     "execution_count": 16,
     "metadata": {},
     "output_type": "execute_result"
    }
   ],
   "source": [
    "login_drop_df=login_drop_df.dropna(how='all')\n",
    "login_drop_df.head()"
   ]
  },
  {
   "cell_type": "code",
   "execution_count": 17,
   "metadata": {
    "scrolled": true
   },
   "outputs": [
    {
     "data": {
      "text/plain": [
       "login_id        0\n",
       "user_id      7414\n",
       "c_time          0\n",
       "platform    84345\n",
       "browser     84345\n",
       "dtype: int64"
      ]
     },
     "execution_count": 17,
     "metadata": {},
     "output_type": "execute_result"
    }
   ],
   "source": [
    "login_drop_df.isnull().sum()"
   ]
  },
  {
   "cell_type": "code",
   "execution_count": 18,
   "metadata": {},
   "outputs": [],
   "source": [
    "login_drop_df['user_id'] = login_drop_df['user_id'].fillna(-99)\n",
    "login_drop_df['platform'] = login_drop_df['platform'].fillna('Other')\n",
    "login_drop_df['browser'] = login_drop_df['browser'].fillna('Other')"
   ]
  },
  {
   "cell_type": "code",
   "execution_count": 19,
   "metadata": {},
   "outputs": [
    {
     "data": {
      "text/plain": [
       "login_id    0\n",
       "user_id     0\n",
       "c_time      0\n",
       "platform    0\n",
       "browser     0\n",
       "dtype: int64"
      ]
     },
     "execution_count": 19,
     "metadata": {},
     "output_type": "execute_result"
    }
   ],
   "source": [
    "login_drop_df.isnull().sum()"
   ]
  },
  {
   "cell_type": "code",
   "execution_count": 20,
   "metadata": {
    "scrolled": false
   },
   "outputs": [
    {
     "data": {
      "text/html": [
       "<div>\n",
       "<style scoped>\n",
       "    .dataframe tbody tr th:only-of-type {\n",
       "        vertical-align: middle;\n",
       "    }\n",
       "\n",
       "    .dataframe tbody tr th {\n",
       "        vertical-align: top;\n",
       "    }\n",
       "\n",
       "    .dataframe thead th {\n",
       "        text-align: right;\n",
       "    }\n",
       "</style>\n",
       "<table border=\"1\" class=\"dataframe\">\n",
       "  <thead>\n",
       "    <tr style=\"text-align: right;\">\n",
       "      <th></th>\n",
       "      <th>login_id</th>\n",
       "      <th>user_id</th>\n",
       "      <th>c_time</th>\n",
       "      <th>platform</th>\n",
       "      <th>browser</th>\n",
       "    </tr>\n",
       "  </thead>\n",
       "  <tbody>\n",
       "    <tr>\n",
       "      <th>0.0</th>\n",
       "      <td>14196.0</td>\n",
       "      <td>19195.0</td>\n",
       "      <td>2018-09-23</td>\n",
       "      <td>Windows 8</td>\n",
       "      <td>Internet Explorer 10.0</td>\n",
       "    </tr>\n",
       "    <tr>\n",
       "      <th>1.0</th>\n",
       "      <td>14234.0</td>\n",
       "      <td>22045.0</td>\n",
       "      <td>2018-09-23</td>\n",
       "      <td>Windows</td>\n",
       "      <td>Chrome 67.0.3396.99</td>\n",
       "    </tr>\n",
       "    <tr>\n",
       "      <th>2.0</th>\n",
       "      <td>14256.0</td>\n",
       "      <td>8790.0</td>\n",
       "      <td>2018-09-23</td>\n",
       "      <td>Windows</td>\n",
       "      <td>Chrome 69.0.3497.100</td>\n",
       "    </tr>\n",
       "    <tr>\n",
       "      <th>3.0</th>\n",
       "      <td>14278.0</td>\n",
       "      <td>-99.0</td>\n",
       "      <td>2018-09-23</td>\n",
       "      <td>Windows</td>\n",
       "      <td>Chrome 69.0.3497.100</td>\n",
       "    </tr>\n",
       "    <tr>\n",
       "      <th>4.0</th>\n",
       "      <td>14279.0</td>\n",
       "      <td>-99.0</td>\n",
       "      <td>2018-09-23</td>\n",
       "      <td>Windows</td>\n",
       "      <td>Chrome 69.0.3497.100</td>\n",
       "    </tr>\n",
       "  </tbody>\n",
       "</table>\n",
       "</div>"
      ],
      "text/plain": [
       "     login_id  user_id      c_time   platform                 browser\n",
       "0.0   14196.0  19195.0  2018-09-23  Windows 8  Internet Explorer 10.0\n",
       "1.0   14234.0  22045.0  2018-09-23    Windows     Chrome 67.0.3396.99\n",
       "2.0   14256.0   8790.0  2018-09-23    Windows    Chrome 69.0.3497.100\n",
       "3.0   14278.0    -99.0  2018-09-23    Windows    Chrome 69.0.3497.100\n",
       "4.0   14279.0    -99.0  2018-09-23    Windows    Chrome 69.0.3497.100"
      ]
     },
     "execution_count": 20,
     "metadata": {},
     "output_type": "execute_result"
    }
   ],
   "source": [
    "login_drop_df.head()"
   ]
  },
  {
   "cell_type": "markdown",
   "metadata": {},
   "source": [
    "# New Data Tabel"
   ]
  },
  {
   "cell_type": "code",
   "execution_count": 21,
   "metadata": {},
   "outputs": [
    {
     "data": {
      "text/plain": [
       "Index(['id', 'c_time', 'entered_competition_cnt', 'code_share_cnt',\n",
       "       'talk_board_cnt', 'country_code', 'python_level', 'ds_level'],\n",
       "      dtype='object')"
      ]
     },
     "execution_count": 21,
     "metadata": {},
     "output_type": "execute_result"
    }
   ],
   "source": [
    "user_df.columns"
   ]
  },
  {
   "cell_type": "code",
   "execution_count": 22,
   "metadata": {
    "scrolled": false
   },
   "outputs": [
    {
     "name": "stdout",
     "output_type": "stream",
     "text": [
      "<class 'pandas.core.frame.DataFrame'>\n",
      "Float64Index: 21692 entries, 0.0 to 21691.0\n",
      "Data columns (total 8 columns):\n",
      " #   Column                   Non-Null Count  Dtype  \n",
      "---  ------                   --------------  -----  \n",
      " 0   id                       21692 non-null  float64\n",
      " 1   c_time                   21692 non-null  object \n",
      " 2   entered_competition_cnt  21692 non-null  float64\n",
      " 3   code_share_cnt           21692 non-null  float64\n",
      " 4   talk_board_cnt           21692 non-null  float64\n",
      " 5   country_code             21692 non-null  float64\n",
      " 6   python_level             21692 non-null  float64\n",
      " 7   ds_level                 21692 non-null  float64\n",
      "dtypes: float64(7), object(1)\n",
      "memory usage: 1.5+ MB\n"
     ]
    }
   ],
   "source": [
    "user_df.info()"
   ]
  },
  {
   "cell_type": "code",
   "execution_count": 23,
   "metadata": {
    "scrolled": true
   },
   "outputs": [
    {
     "name": "stderr",
     "output_type": "stream",
     "text": [
      "<ipython-input-23-7968f3b8cbd2>:1: SettingWithCopyWarning: \n",
      "A value is trying to be set on a copy of a slice from a DataFrame.\n",
      "Try using .loc[row_indexer,col_indexer] = value instead\n",
      "\n",
      "See the caveats in the documentation: https://pandas.pydata.org/pandas-docs/stable/user_guide/indexing.html#returning-a-view-versus-a-copy\n",
      "  user_df['c_time'] = pd.to_datetime(user_df['c_time'])\n",
      "<ipython-input-23-7968f3b8cbd2>:2: SettingWithCopyWarning: \n",
      "A value is trying to be set on a copy of a slice from a DataFrame.\n",
      "Try using .loc[row_indexer,col_indexer] = value instead\n",
      "\n",
      "See the caveats in the documentation: https://pandas.pydata.org/pandas-docs/stable/user_guide/indexing.html#returning-a-view-versus-a-copy\n",
      "  user_df['c_time'] = user_df['c_time'].dt.date\n"
     ]
    }
   ],
   "source": [
    "user_df['c_time'] = pd.to_datetime(user_df['c_time'])\n",
    "user_df['c_time'] = user_df['c_time'].dt.date"
   ]
  },
  {
   "cell_type": "code",
   "execution_count": 24,
   "metadata": {},
   "outputs": [],
   "source": [
    "pv_user_df1 = pd.pivot_table(user_df, index='c_time',values=['id'],aggfunc='count')"
   ]
  },
  {
   "cell_type": "code",
   "execution_count": 25,
   "metadata": {},
   "outputs": [
    {
     "data": {
      "text/html": [
       "<div>\n",
       "<style scoped>\n",
       "    .dataframe tbody tr th:only-of-type {\n",
       "        vertical-align: middle;\n",
       "    }\n",
       "\n",
       "    .dataframe tbody tr th {\n",
       "        vertical-align: top;\n",
       "    }\n",
       "\n",
       "    .dataframe thead th {\n",
       "        text-align: right;\n",
       "    }\n",
       "</style>\n",
       "<table border=\"1\" class=\"dataframe\">\n",
       "  <thead>\n",
       "    <tr style=\"text-align: right;\">\n",
       "      <th></th>\n",
       "      <th>id</th>\n",
       "    </tr>\n",
       "    <tr>\n",
       "      <th>c_time</th>\n",
       "      <th></th>\n",
       "    </tr>\n",
       "  </thead>\n",
       "  <tbody>\n",
       "    <tr>\n",
       "      <th>2017-05-02</th>\n",
       "      <td>1</td>\n",
       "    </tr>\n",
       "    <tr>\n",
       "      <th>2018-08-08</th>\n",
       "      <td>6</td>\n",
       "    </tr>\n",
       "    <tr>\n",
       "      <th>2018-08-09</th>\n",
       "      <td>1</td>\n",
       "    </tr>\n",
       "    <tr>\n",
       "      <th>2018-08-10</th>\n",
       "      <td>2</td>\n",
       "    </tr>\n",
       "    <tr>\n",
       "      <th>2018-08-12</th>\n",
       "      <td>1</td>\n",
       "    </tr>\n",
       "    <tr>\n",
       "      <th>...</th>\n",
       "      <td>...</td>\n",
       "    </tr>\n",
       "    <tr>\n",
       "      <th>2020-12-04</th>\n",
       "      <td>42</td>\n",
       "    </tr>\n",
       "    <tr>\n",
       "      <th>2020-12-05</th>\n",
       "      <td>31</td>\n",
       "    </tr>\n",
       "    <tr>\n",
       "      <th>2020-12-06</th>\n",
       "      <td>24</td>\n",
       "    </tr>\n",
       "    <tr>\n",
       "      <th>2020-12-07</th>\n",
       "      <td>70</td>\n",
       "    </tr>\n",
       "    <tr>\n",
       "      <th>2020-12-08</th>\n",
       "      <td>70</td>\n",
       "    </tr>\n",
       "  </tbody>\n",
       "</table>\n",
       "<p>843 rows × 1 columns</p>\n",
       "</div>"
      ],
      "text/plain": [
       "            id\n",
       "c_time        \n",
       "2017-05-02   1\n",
       "2018-08-08   6\n",
       "2018-08-09   1\n",
       "2018-08-10   2\n",
       "2018-08-12   1\n",
       "...         ..\n",
       "2020-12-04  42\n",
       "2020-12-05  31\n",
       "2020-12-06  24\n",
       "2020-12-07  70\n",
       "2020-12-08  70\n",
       "\n",
       "[843 rows x 1 columns]"
      ]
     },
     "execution_count": 25,
     "metadata": {},
     "output_type": "execute_result"
    }
   ],
   "source": [
    "pv_user_df1"
   ]
  },
  {
   "cell_type": "code",
   "execution_count": 26,
   "metadata": {
    "scrolled": false
   },
   "outputs": [
    {
     "name": "stdout",
     "output_type": "stream",
     "text": [
      "<class 'pandas.core.frame.DataFrame'>\n",
      "Index: 843 entries, 2017-05-02 to 2020-12-08\n",
      "Data columns (total 1 columns):\n",
      " #   Column  Non-Null Count  Dtype\n",
      "---  ------  --------------  -----\n",
      " 0   id      843 non-null    int64\n",
      "dtypes: int64(1)\n",
      "memory usage: 13.2+ KB\n"
     ]
    }
   ],
   "source": [
    "pv_user_df1.info()"
   ]
  },
  {
   "cell_type": "code",
   "execution_count": 27,
   "metadata": {},
   "outputs": [],
   "source": [
    "pv_user_df2 = pd.pivot_table(user_df, index='c_time',values=['ds_level'],aggfunc='mean')"
   ]
  },
  {
   "cell_type": "code",
   "execution_count": 28,
   "metadata": {},
   "outputs": [
    {
     "data": {
      "text/html": [
       "<div>\n",
       "<style scoped>\n",
       "    .dataframe tbody tr th:only-of-type {\n",
       "        vertical-align: middle;\n",
       "    }\n",
       "\n",
       "    .dataframe tbody tr th {\n",
       "        vertical-align: top;\n",
       "    }\n",
       "\n",
       "    .dataframe thead th {\n",
       "        text-align: right;\n",
       "    }\n",
       "</style>\n",
       "<table border=\"1\" class=\"dataframe\">\n",
       "  <thead>\n",
       "    <tr style=\"text-align: right;\">\n",
       "      <th></th>\n",
       "      <th>ds_level</th>\n",
       "    </tr>\n",
       "    <tr>\n",
       "      <th>c_time</th>\n",
       "      <th></th>\n",
       "    </tr>\n",
       "  </thead>\n",
       "  <tbody>\n",
       "    <tr>\n",
       "      <th>2017-05-02</th>\n",
       "      <td>1.0</td>\n",
       "    </tr>\n",
       "    <tr>\n",
       "      <th>2018-08-08</th>\n",
       "      <td>1.0</td>\n",
       "    </tr>\n",
       "    <tr>\n",
       "      <th>2018-08-09</th>\n",
       "      <td>1.0</td>\n",
       "    </tr>\n",
       "    <tr>\n",
       "      <th>2018-08-10</th>\n",
       "      <td>1.0</td>\n",
       "    </tr>\n",
       "    <tr>\n",
       "      <th>2018-08-12</th>\n",
       "      <td>1.0</td>\n",
       "    </tr>\n",
       "    <tr>\n",
       "      <th>...</th>\n",
       "      <td>...</td>\n",
       "    </tr>\n",
       "    <tr>\n",
       "      <th>2020-12-04</th>\n",
       "      <td>1.0</td>\n",
       "    </tr>\n",
       "    <tr>\n",
       "      <th>2020-12-05</th>\n",
       "      <td>1.0</td>\n",
       "    </tr>\n",
       "    <tr>\n",
       "      <th>2020-12-06</th>\n",
       "      <td>1.0</td>\n",
       "    </tr>\n",
       "    <tr>\n",
       "      <th>2020-12-07</th>\n",
       "      <td>1.0</td>\n",
       "    </tr>\n",
       "    <tr>\n",
       "      <th>2020-12-08</th>\n",
       "      <td>1.0</td>\n",
       "    </tr>\n",
       "  </tbody>\n",
       "</table>\n",
       "<p>843 rows × 1 columns</p>\n",
       "</div>"
      ],
      "text/plain": [
       "            ds_level\n",
       "c_time              \n",
       "2017-05-02       1.0\n",
       "2018-08-08       1.0\n",
       "2018-08-09       1.0\n",
       "2018-08-10       1.0\n",
       "2018-08-12       1.0\n",
       "...              ...\n",
       "2020-12-04       1.0\n",
       "2020-12-05       1.0\n",
       "2020-12-06       1.0\n",
       "2020-12-07       1.0\n",
       "2020-12-08       1.0\n",
       "\n",
       "[843 rows x 1 columns]"
      ]
     },
     "execution_count": 28,
     "metadata": {},
     "output_type": "execute_result"
    }
   ],
   "source": [
    "pv_user_df2"
   ]
  },
  {
   "cell_type": "code",
   "execution_count": 29,
   "metadata": {},
   "outputs": [],
   "source": [
    "pv_user_df3 = pd.pivot_table(user_df, index='c_time',values=['country_code'],aggfunc='nunique')"
   ]
  },
  {
   "cell_type": "code",
   "execution_count": 30,
   "metadata": {
    "scrolled": false
   },
   "outputs": [
    {
     "data": {
      "text/html": [
       "<div>\n",
       "<style scoped>\n",
       "    .dataframe tbody tr th:only-of-type {\n",
       "        vertical-align: middle;\n",
       "    }\n",
       "\n",
       "    .dataframe tbody tr th {\n",
       "        vertical-align: top;\n",
       "    }\n",
       "\n",
       "    .dataframe thead th {\n",
       "        text-align: right;\n",
       "    }\n",
       "</style>\n",
       "<table border=\"1\" class=\"dataframe\">\n",
       "  <thead>\n",
       "    <tr style=\"text-align: right;\">\n",
       "      <th></th>\n",
       "      <th>c_time</th>\n",
       "      <th>country_code</th>\n",
       "    </tr>\n",
       "    <tr>\n",
       "      <th>c_time</th>\n",
       "      <th></th>\n",
       "      <th></th>\n",
       "    </tr>\n",
       "  </thead>\n",
       "  <tbody>\n",
       "    <tr>\n",
       "      <th>2017-05-02</th>\n",
       "      <td>1</td>\n",
       "      <td>1</td>\n",
       "    </tr>\n",
       "    <tr>\n",
       "      <th>2018-08-08</th>\n",
       "      <td>1</td>\n",
       "      <td>1</td>\n",
       "    </tr>\n",
       "    <tr>\n",
       "      <th>2018-08-09</th>\n",
       "      <td>1</td>\n",
       "      <td>1</td>\n",
       "    </tr>\n",
       "    <tr>\n",
       "      <th>2018-08-10</th>\n",
       "      <td>1</td>\n",
       "      <td>1</td>\n",
       "    </tr>\n",
       "    <tr>\n",
       "      <th>2018-08-12</th>\n",
       "      <td>1</td>\n",
       "      <td>1</td>\n",
       "    </tr>\n",
       "    <tr>\n",
       "      <th>...</th>\n",
       "      <td>...</td>\n",
       "      <td>...</td>\n",
       "    </tr>\n",
       "    <tr>\n",
       "      <th>2020-12-04</th>\n",
       "      <td>1</td>\n",
       "      <td>2</td>\n",
       "    </tr>\n",
       "    <tr>\n",
       "      <th>2020-12-05</th>\n",
       "      <td>1</td>\n",
       "      <td>1</td>\n",
       "    </tr>\n",
       "    <tr>\n",
       "      <th>2020-12-06</th>\n",
       "      <td>1</td>\n",
       "      <td>1</td>\n",
       "    </tr>\n",
       "    <tr>\n",
       "      <th>2020-12-07</th>\n",
       "      <td>1</td>\n",
       "      <td>3</td>\n",
       "    </tr>\n",
       "    <tr>\n",
       "      <th>2020-12-08</th>\n",
       "      <td>1</td>\n",
       "      <td>1</td>\n",
       "    </tr>\n",
       "  </tbody>\n",
       "</table>\n",
       "<p>843 rows × 2 columns</p>\n",
       "</div>"
      ],
      "text/plain": [
       "            c_time  country_code\n",
       "c_time                          \n",
       "2017-05-02       1             1\n",
       "2018-08-08       1             1\n",
       "2018-08-09       1             1\n",
       "2018-08-10       1             1\n",
       "2018-08-12       1             1\n",
       "...            ...           ...\n",
       "2020-12-04       1             2\n",
       "2020-12-05       1             1\n",
       "2020-12-06       1             1\n",
       "2020-12-07       1             3\n",
       "2020-12-08       1             1\n",
       "\n",
       "[843 rows x 2 columns]"
      ]
     },
     "execution_count": 30,
     "metadata": {},
     "output_type": "execute_result"
    }
   ],
   "source": [
    "pv_user_df3"
   ]
  },
  {
   "cell_type": "code",
   "execution_count": 31,
   "metadata": {},
   "outputs": [],
   "source": [
    "pv_user_df3=pv_user_df3.drop(axis=1,columns='c_time')"
   ]
  },
  {
   "cell_type": "code",
   "execution_count": 32,
   "metadata": {},
   "outputs": [],
   "source": [
    "new_user_df = pd.merge(pv_user_df1, pv_user_df2, how='outer',on='c_time')"
   ]
  },
  {
   "cell_type": "code",
   "execution_count": 33,
   "metadata": {},
   "outputs": [
    {
     "data": {
      "text/html": [
       "<div>\n",
       "<style scoped>\n",
       "    .dataframe tbody tr th:only-of-type {\n",
       "        vertical-align: middle;\n",
       "    }\n",
       "\n",
       "    .dataframe tbody tr th {\n",
       "        vertical-align: top;\n",
       "    }\n",
       "\n",
       "    .dataframe thead th {\n",
       "        text-align: right;\n",
       "    }\n",
       "</style>\n",
       "<table border=\"1\" class=\"dataframe\">\n",
       "  <thead>\n",
       "    <tr style=\"text-align: right;\">\n",
       "      <th></th>\n",
       "      <th>id</th>\n",
       "      <th>ds_level</th>\n",
       "    </tr>\n",
       "    <tr>\n",
       "      <th>c_time</th>\n",
       "      <th></th>\n",
       "      <th></th>\n",
       "    </tr>\n",
       "  </thead>\n",
       "  <tbody>\n",
       "    <tr>\n",
       "      <th>2017-05-02</th>\n",
       "      <td>1</td>\n",
       "      <td>1.0</td>\n",
       "    </tr>\n",
       "    <tr>\n",
       "      <th>2018-08-08</th>\n",
       "      <td>6</td>\n",
       "      <td>1.0</td>\n",
       "    </tr>\n",
       "    <tr>\n",
       "      <th>2018-08-09</th>\n",
       "      <td>1</td>\n",
       "      <td>1.0</td>\n",
       "    </tr>\n",
       "    <tr>\n",
       "      <th>2018-08-10</th>\n",
       "      <td>2</td>\n",
       "      <td>1.0</td>\n",
       "    </tr>\n",
       "    <tr>\n",
       "      <th>2018-08-12</th>\n",
       "      <td>1</td>\n",
       "      <td>1.0</td>\n",
       "    </tr>\n",
       "    <tr>\n",
       "      <th>...</th>\n",
       "      <td>...</td>\n",
       "      <td>...</td>\n",
       "    </tr>\n",
       "    <tr>\n",
       "      <th>2020-12-04</th>\n",
       "      <td>42</td>\n",
       "      <td>1.0</td>\n",
       "    </tr>\n",
       "    <tr>\n",
       "      <th>2020-12-05</th>\n",
       "      <td>31</td>\n",
       "      <td>1.0</td>\n",
       "    </tr>\n",
       "    <tr>\n",
       "      <th>2020-12-06</th>\n",
       "      <td>24</td>\n",
       "      <td>1.0</td>\n",
       "    </tr>\n",
       "    <tr>\n",
       "      <th>2020-12-07</th>\n",
       "      <td>70</td>\n",
       "      <td>1.0</td>\n",
       "    </tr>\n",
       "    <tr>\n",
       "      <th>2020-12-08</th>\n",
       "      <td>70</td>\n",
       "      <td>1.0</td>\n",
       "    </tr>\n",
       "  </tbody>\n",
       "</table>\n",
       "<p>843 rows × 2 columns</p>\n",
       "</div>"
      ],
      "text/plain": [
       "            id  ds_level\n",
       "c_time                  \n",
       "2017-05-02   1       1.0\n",
       "2018-08-08   6       1.0\n",
       "2018-08-09   1       1.0\n",
       "2018-08-10   2       1.0\n",
       "2018-08-12   1       1.0\n",
       "...         ..       ...\n",
       "2020-12-04  42       1.0\n",
       "2020-12-05  31       1.0\n",
       "2020-12-06  24       1.0\n",
       "2020-12-07  70       1.0\n",
       "2020-12-08  70       1.0\n",
       "\n",
       "[843 rows x 2 columns]"
      ]
     },
     "execution_count": 33,
     "metadata": {},
     "output_type": "execute_result"
    }
   ],
   "source": [
    "new_user_df"
   ]
  },
  {
   "cell_type": "code",
   "execution_count": 34,
   "metadata": {},
   "outputs": [],
   "source": [
    "new_user_df = pd.merge(new_user_df, pv_user_df3, how='outer',on='c_time')"
   ]
  },
  {
   "cell_type": "code",
   "execution_count": 35,
   "metadata": {
    "scrolled": true
   },
   "outputs": [
    {
     "data": {
      "text/html": [
       "<div>\n",
       "<style scoped>\n",
       "    .dataframe tbody tr th:only-of-type {\n",
       "        vertical-align: middle;\n",
       "    }\n",
       "\n",
       "    .dataframe tbody tr th {\n",
       "        vertical-align: top;\n",
       "    }\n",
       "\n",
       "    .dataframe thead th {\n",
       "        text-align: right;\n",
       "    }\n",
       "</style>\n",
       "<table border=\"1\" class=\"dataframe\">\n",
       "  <thead>\n",
       "    <tr style=\"text-align: right;\">\n",
       "      <th></th>\n",
       "      <th>id</th>\n",
       "      <th>ds_level</th>\n",
       "      <th>country_code</th>\n",
       "    </tr>\n",
       "    <tr>\n",
       "      <th>c_time</th>\n",
       "      <th></th>\n",
       "      <th></th>\n",
       "      <th></th>\n",
       "    </tr>\n",
       "  </thead>\n",
       "  <tbody>\n",
       "    <tr>\n",
       "      <th>2017-05-02</th>\n",
       "      <td>1</td>\n",
       "      <td>1.0</td>\n",
       "      <td>1</td>\n",
       "    </tr>\n",
       "    <tr>\n",
       "      <th>2018-08-08</th>\n",
       "      <td>6</td>\n",
       "      <td>1.0</td>\n",
       "      <td>1</td>\n",
       "    </tr>\n",
       "    <tr>\n",
       "      <th>2018-08-09</th>\n",
       "      <td>1</td>\n",
       "      <td>1.0</td>\n",
       "      <td>1</td>\n",
       "    </tr>\n",
       "    <tr>\n",
       "      <th>2018-08-10</th>\n",
       "      <td>2</td>\n",
       "      <td>1.0</td>\n",
       "      <td>1</td>\n",
       "    </tr>\n",
       "    <tr>\n",
       "      <th>2018-08-12</th>\n",
       "      <td>1</td>\n",
       "      <td>1.0</td>\n",
       "      <td>1</td>\n",
       "    </tr>\n",
       "    <tr>\n",
       "      <th>...</th>\n",
       "      <td>...</td>\n",
       "      <td>...</td>\n",
       "      <td>...</td>\n",
       "    </tr>\n",
       "    <tr>\n",
       "      <th>2020-12-04</th>\n",
       "      <td>42</td>\n",
       "      <td>1.0</td>\n",
       "      <td>2</td>\n",
       "    </tr>\n",
       "    <tr>\n",
       "      <th>2020-12-05</th>\n",
       "      <td>31</td>\n",
       "      <td>1.0</td>\n",
       "      <td>1</td>\n",
       "    </tr>\n",
       "    <tr>\n",
       "      <th>2020-12-06</th>\n",
       "      <td>24</td>\n",
       "      <td>1.0</td>\n",
       "      <td>1</td>\n",
       "    </tr>\n",
       "    <tr>\n",
       "      <th>2020-12-07</th>\n",
       "      <td>70</td>\n",
       "      <td>1.0</td>\n",
       "      <td>3</td>\n",
       "    </tr>\n",
       "    <tr>\n",
       "      <th>2020-12-08</th>\n",
       "      <td>70</td>\n",
       "      <td>1.0</td>\n",
       "      <td>1</td>\n",
       "    </tr>\n",
       "  </tbody>\n",
       "</table>\n",
       "<p>843 rows × 3 columns</p>\n",
       "</div>"
      ],
      "text/plain": [
       "            id  ds_level  country_code\n",
       "c_time                                \n",
       "2017-05-02   1       1.0             1\n",
       "2018-08-08   6       1.0             1\n",
       "2018-08-09   1       1.0             1\n",
       "2018-08-10   2       1.0             1\n",
       "2018-08-12   1       1.0             1\n",
       "...         ..       ...           ...\n",
       "2020-12-04  42       1.0             2\n",
       "2020-12-05  31       1.0             1\n",
       "2020-12-06  24       1.0             1\n",
       "2020-12-07  70       1.0             3\n",
       "2020-12-08  70       1.0             1\n",
       "\n",
       "[843 rows x 3 columns]"
      ]
     },
     "execution_count": 35,
     "metadata": {},
     "output_type": "execute_result"
    }
   ],
   "source": [
    "new_user_df"
   ]
  },
  {
   "cell_type": "markdown",
   "metadata": {},
   "source": []
  },
  {
   "cell_type": "code",
   "execution_count": 36,
   "metadata": {},
   "outputs": [
    {
     "name": "stdout",
     "output_type": "stream",
     "text": [
      "<class 'pandas.core.frame.DataFrame'>\n",
      "Float64Index: 148999 entries, 0.0 to 148998.0\n",
      "Data columns (total 5 columns):\n",
      " #   Column    Non-Null Count   Dtype  \n",
      "---  ------    --------------   -----  \n",
      " 0   login_id  148999 non-null  float64\n",
      " 1   user_id   148999 non-null  float64\n",
      " 2   c_time    148999 non-null  object \n",
      " 3   platform  148999 non-null  object \n",
      " 4   browser   148999 non-null  object \n",
      "dtypes: float64(2), object(3)\n",
      "memory usage: 6.8+ MB\n"
     ]
    }
   ],
   "source": [
    "login_drop_df.info()"
   ]
  },
  {
   "cell_type": "code",
   "execution_count": null,
   "metadata": {},
   "outputs": [],
   "source": []
  }
 ],
 "metadata": {
  "kernelspec": {
   "display_name": "Python 3",
   "language": "python",
   "name": "python3"
  },
  "language_info": {
   "codemirror_mode": {
    "name": "ipython",
    "version": 3
   },
   "file_extension": ".py",
   "mimetype": "text/x-python",
   "name": "python",
   "nbconvert_exporter": "python",
   "pygments_lexer": "ipython3",
   "version": "3.8.3"
  }
 },
 "nbformat": 4,
 "nbformat_minor": 4
}

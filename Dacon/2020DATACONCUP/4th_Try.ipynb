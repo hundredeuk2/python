{
 "cells": [
  {
   "cell_type": "code",
   "execution_count": 1,
   "metadata": {},
   "outputs": [],
   "source": [
    "import pandas as pd\n",
    "import os\n",
    "from datetime import datetime\n",
    "import seaborn as sns\n",
    "import matplotlib.pyplot as plt\n",
    "import numpy as np\n",
    "\n",
    "# SET WORK DERC\n",
    "\n",
    "#### For my Mac\n",
    "# os.chdir('//Users//patricklee//Desktop//파이썬//DACON//2020DACON_CUP') \n",
    "\n",
    "### For my Desktop\n",
    "os.chdir('C://Users//BIS_COM//data//dacon//2020')"
   ]
  },
  {
   "cell_type": "code",
   "execution_count": 2,
   "metadata": {},
   "outputs": [
    {
     "name": "stderr",
     "output_type": "stream",
     "text": [
      "C:\\Users\\BIS_COM\\anaconda3\\lib\\site-packages\\IPython\\core\\interactiveshell.py:3071: DtypeWarning: Columns (4,5) have mixed types.Specify dtype option on import or set low_memory=False.\n",
      "  has_raised = await self.run_ast_nodes(code_ast.body, cell_name,\n"
     ]
    }
   ],
   "source": [
    "train_df = pd.read_csv(r'./train.csv',encoding='cp949',parse_dates=['DateTime'])\n",
    "login_df = pd.read_csv(r'./info_login.csv',parse_dates=['c_time'],index_col=0)\n",
    "user_df = pd.read_csv(r'./info_user.csv',parse_dates=['c_time'],index_col=0)\n",
    "compe_df = pd.read_csv(r'./info_competition.csv',encoding='cp949',parse_dates=['period_start','period_end'],index_col=0)\n",
    "sub_df = pd.read_csv(r'./info_submission.csv',encoding='cp949',index_col=0,parse_dates=['c_time'])"
   ]
  },
  {
   "cell_type": "code",
   "execution_count": 3,
   "metadata": {},
   "outputs": [],
   "source": [
    "login_df['c_time'] = login_df['c_time'].dt.date\n",
    "user_df['c_time'] = user_df['c_time'].dt.date\n",
    "compe_df['period_start'] = compe_df['period_start'].dt.date\n",
    "compe_df['period_end'] = compe_df['period_end'].dt.date\n",
    "train_df['DateTime'] = train_df['DateTime'].dt.date"
   ]
  },
  {
   "cell_type": "code",
   "execution_count": 4,
   "metadata": {},
   "outputs": [
    {
     "data": {
      "text/html": [
       "<div>\n",
       "<style scoped>\n",
       "    .dataframe tbody tr th:only-of-type {\n",
       "        vertical-align: middle;\n",
       "    }\n",
       "\n",
       "    .dataframe tbody tr th {\n",
       "        vertical-align: top;\n",
       "    }\n",
       "\n",
       "    .dataframe thead th {\n",
       "        text-align: right;\n",
       "    }\n",
       "</style>\n",
       "<table border=\"1\" class=\"dataframe\">\n",
       "  <thead>\n",
       "    <tr style=\"text-align: right;\">\n",
       "      <th></th>\n",
       "      <th>DateTime</th>\n",
       "      <th>사용자</th>\n",
       "      <th>세션</th>\n",
       "      <th>신규방문자</th>\n",
       "      <th>페이지뷰</th>\n",
       "    </tr>\n",
       "  </thead>\n",
       "  <tbody>\n",
       "    <tr>\n",
       "      <th>19003</th>\n",
       "      <td>2020-11-08</td>\n",
       "      <td>124</td>\n",
       "      <td>123</td>\n",
       "      <td>19</td>\n",
       "      <td>3128</td>\n",
       "    </tr>\n",
       "    <tr>\n",
       "      <th>19004</th>\n",
       "      <td>2020-11-08</td>\n",
       "      <td>166</td>\n",
       "      <td>159</td>\n",
       "      <td>29</td>\n",
       "      <td>4864</td>\n",
       "    </tr>\n",
       "    <tr>\n",
       "      <th>19005</th>\n",
       "      <td>2020-11-08</td>\n",
       "      <td>184</td>\n",
       "      <td>173</td>\n",
       "      <td>32</td>\n",
       "      <td>3426</td>\n",
       "    </tr>\n",
       "    <tr>\n",
       "      <th>19006</th>\n",
       "      <td>2020-11-08</td>\n",
       "      <td>163</td>\n",
       "      <td>155</td>\n",
       "      <td>34</td>\n",
       "      <td>2845</td>\n",
       "    </tr>\n",
       "    <tr>\n",
       "      <th>19007</th>\n",
       "      <td>2020-11-08</td>\n",
       "      <td>160</td>\n",
       "      <td>152</td>\n",
       "      <td>33</td>\n",
       "      <td>3293</td>\n",
       "    </tr>\n",
       "  </tbody>\n",
       "</table>\n",
       "</div>"
      ],
      "text/plain": [
       "         DateTime  사용자   세션  신규방문자  페이지뷰\n",
       "19003  2020-11-08  124  123     19  3128\n",
       "19004  2020-11-08  166  159     29  4864\n",
       "19005  2020-11-08  184  173     32  3426\n",
       "19006  2020-11-08  163  155     34  2845\n",
       "19007  2020-11-08  160  152     33  3293"
      ]
     },
     "execution_count": 4,
     "metadata": {},
     "output_type": "execute_result"
    }
   ],
   "source": [
    "train_df.tail()"
   ]
  },
  {
   "cell_type": "code",
   "execution_count": null,
   "metadata": {},
   "outputs": [],
   "source": []
  }
 ],
 "metadata": {
  "kernelspec": {
   "display_name": "Python 3",
   "language": "python",
   "name": "python3"
  },
  "language_info": {
   "codemirror_mode": {
    "name": "ipython",
    "version": 3
   },
   "file_extension": ".py",
   "mimetype": "text/x-python",
   "name": "python",
   "nbconvert_exporter": "python",
   "pygments_lexer": "ipython3",
   "version": "3.8.3"
  }
 },
 "nbformat": 4,
 "nbformat_minor": 4
}

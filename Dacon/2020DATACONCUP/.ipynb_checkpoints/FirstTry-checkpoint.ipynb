{
 "cells": [
  {
   "cell_type": "code",
   "execution_count": 1,
   "metadata": {},
   "outputs": [],
   "source": [
    "import pandas as pd"
   ]
  },
  {
   "cell_type": "code",
   "execution_count": 8,
   "metadata": {},
   "outputs": [],
   "source": [
    "train_df = pd.read_csv(r'C:\\Users\\BIS_COM\\data\\dacon\\2020\\train.csv',encoding='cp949')\n",
    "login_df = pd.read_csv(r'C:\\Users\\BIS_COM\\data\\dacon\\2020\\info_login.csv')\n",
    "user_df = pd.read_csv(r'C:\\Users\\BIS_COM\\data\\dacon\\2020\\info_user.csv')\n",
    "compe_df = pd.read_csv(r'C:\\Users\\BIS_COM\\data\\dacon\\2020\\info_competition.csv',encoding='cp949')"
   ]
  },
  {
   "cell_type": "code",
   "execution_count": 11,
   "metadata": {},
   "outputs": [],
   "source": [
    "all_data = [train_df,login_df,user_df,compe_df]"
   ]
  },
  {
   "cell_type": "code",
   "execution_count": 23,
   "metadata": {},
   "outputs": [
    {
     "name": "stdout",
     "output_type": "stream",
     "text": [
      "--------------------------------------------------\n",
      "<class 'pandas.core.frame.DataFrame'>\n",
      "RangeIndex: 19008 entries, 0 to 19007\n",
      "Data columns (total 5 columns):\n",
      " #   Column    Non-Null Count  Dtype \n",
      "---  ------    --------------  ----- \n",
      " 0   DateTime  19008 non-null  object\n",
      " 1   사용자       19008 non-null  int64 \n",
      " 2   세션        19008 non-null  int64 \n",
      " 3   신규방문자     19008 non-null  int64 \n",
      " 4   페이지뷰      19008 non-null  int64 \n",
      "dtypes: int64(4), object(1)\n",
      "memory usage: 742.6+ KB\n",
      "--------------------------------------------------\n",
      "<class 'pandas.core.frame.DataFrame'>\n",
      "RangeIndex: 151428 entries, 0 to 151427\n",
      "Data columns (total 6 columns):\n",
      " #   Column      Non-Null Count   Dtype  \n",
      "---  ------      --------------   -----  \n",
      " 0   Unnamed: 0  148999 non-null  float64\n",
      " 1   login_id    148999 non-null  float64\n",
      " 2   user_id     141585 non-null  float64\n",
      " 3   c_time      148999 non-null  object \n",
      " 4   platform    64654 non-null   object \n",
      " 5   browser     64654 non-null   object \n",
      "dtypes: float64(3), object(3)\n",
      "memory usage: 6.9+ MB\n",
      "--------------------------------------------------\n",
      "<class 'pandas.core.frame.DataFrame'>\n",
      "RangeIndex: 22103 entries, 0 to 22102\n",
      "Data columns (total 9 columns):\n",
      " #   Column                   Non-Null Count  Dtype  \n",
      "---  ------                   --------------  -----  \n",
      " 0   Unnamed: 0               21692 non-null  float64\n",
      " 1   id                       21692 non-null  float64\n",
      " 2   c_time                   21692 non-null  object \n",
      " 3   entered_competition_cnt  21692 non-null  float64\n",
      " 4   code_share_cnt           21692 non-null  float64\n",
      " 5   talk_board_cnt           21692 non-null  float64\n",
      " 6   country_code             21692 non-null  float64\n",
      " 7   python_level             21692 non-null  float64\n",
      " 8   ds_level                 21692 non-null  float64\n",
      "dtypes: float64(8), object(1)\n",
      "memory usage: 1.5+ MB\n",
      "--------------------------------------------------\n",
      "<class 'pandas.core.frame.DataFrame'>\n",
      "RangeIndex: 48 entries, 0 to 47\n",
      "Data columns (total 16 columns):\n",
      " #   Column            Non-Null Count  Dtype \n",
      "---  ------            --------------  ----- \n",
      " 0   Unnamed: 0        48 non-null     int64 \n",
      " 1   cpt_id            48 non-null     int64 \n",
      " 2   is_official       48 non-null     int64 \n",
      " 3   period_start      48 non-null     object\n",
      " 4   period_end        48 non-null     object\n",
      " 5   name              48 non-null     object\n",
      " 6   name_eng          25 non-null     object\n",
      " 7   keyword           48 non-null     object\n",
      " 8   keyword_eng       24 non-null     object\n",
      " 9   participants      48 non-null     int64 \n",
      " 10  max_team_member   48 non-null     int64 \n",
      " 11  max_file_per_day  48 non-null     int64 \n",
      " 12  prize             48 non-null     int64 \n",
      " 13  prize_info        32 non-null     object\n",
      " 14  merge_deadline    48 non-null     object\n",
      " 15  winner_show       48 non-null     int64 \n",
      "dtypes: int64(8), object(8)\n",
      "memory usage: 6.1+ KB\n"
     ]
    }
   ],
   "source": [
    "for i in all_data :\n",
    "    print('-'*50)\n",
    "    i.info()"
   ]
  },
  {
   "cell_type": "code",
   "execution_count": 26,
   "metadata": {},
   "outputs": [
    {
     "name": "stdout",
     "output_type": "stream",
     "text": [
      "--------------------------------------------------\n",
      "DateTime    0\n",
      "사용자         0\n",
      "세션          0\n",
      "신규방문자       0\n",
      "페이지뷰        0\n",
      "dtype: int64\n",
      "--------------------------------------------------\n",
      "Unnamed: 0     2429\n",
      "login_id       2429\n",
      "user_id        9843\n",
      "c_time         2429\n",
      "platform      86774\n",
      "browser       86774\n",
      "dtype: int64\n",
      "--------------------------------------------------\n",
      "Unnamed: 0                 411\n",
      "id                         411\n",
      "c_time                     411\n",
      "entered_competition_cnt    411\n",
      "code_share_cnt             411\n",
      "talk_board_cnt             411\n",
      "country_code               411\n",
      "python_level               411\n",
      "ds_level                   411\n",
      "dtype: int64\n",
      "--------------------------------------------------\n",
      "Unnamed: 0           0\n",
      "cpt_id               0\n",
      "is_official          0\n",
      "period_start         0\n",
      "period_end           0\n",
      "name                 0\n",
      "name_eng            23\n",
      "keyword              0\n",
      "keyword_eng         24\n",
      "participants         0\n",
      "max_team_member      0\n",
      "max_file_per_day     0\n",
      "prize                0\n",
      "prize_info          16\n",
      "merge_deadline       0\n",
      "winner_show          0\n",
      "dtype: int64\n"
     ]
    }
   ],
   "source": [
    "for i in all_data:\n",
    "    print('-'*50)\n",
    "    print(i.isnull().sum())"
   ]
  },
  {
   "cell_type": "code",
   "execution_count": null,
   "metadata": {},
   "outputs": [],
   "source": []
  }
 ],
 "metadata": {
  "kernelspec": {
   "display_name": "Python 3",
   "language": "python",
   "name": "python3"
  },
  "language_info": {
   "codemirror_mode": {
    "name": "ipython",
    "version": 3
   },
   "file_extension": ".py",
   "mimetype": "text/x-python",
   "name": "python",
   "nbconvert_exporter": "python",
   "pygments_lexer": "ipython3",
   "version": "3.8.3"
  }
 },
 "nbformat": 4,
 "nbformat_minor": 4
}

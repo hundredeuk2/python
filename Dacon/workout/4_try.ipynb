{
 "cells": [
  {
   "cell_type": "code",
   "execution_count": 43,
   "metadata": {},
   "outputs": [],
   "source": [
    "import pandas as pd\n",
    "import numpy as np\n",
    "import os\n",
    "import tensorflow as tf\n",
    "import matplotlib.pyplot as plt\n",
    "# SET WORK DERC\n",
    "\n",
    "# For my Mac\n",
    "# os.chdir('//Users//patricklee//Desktop//파이썬//DACON//AI_workout')\n",
    "\n",
    "# For my Desktop\n",
    "os.chdir('C://Users//BIS_COM//data//dacon/workout/')"
   ]
  },
  {
   "cell_type": "code",
   "execution_count": 2,
   "metadata": {},
   "outputs": [],
   "source": [
    "train=pd.read_csv('./new_value_df.csv',)\n",
    "train_labels=pd.read_csv('./train_labels.csv')\n",
    "test=pd.read_csv('./new_test_df.csv')\n",
    "submission=pd.read_csv('./sample_submission.csv')"
   ]
  },
  {
   "cell_type": "code",
   "execution_count": 3,
   "metadata": {
    "scrolled": true
   },
   "outputs": [
    {
     "data": {
      "text/html": [
       "<div>\n",
       "<style scoped>\n",
       "    .dataframe tbody tr th:only-of-type {\n",
       "        vertical-align: middle;\n",
       "    }\n",
       "\n",
       "    .dataframe tbody tr th {\n",
       "        vertical-align: top;\n",
       "    }\n",
       "\n",
       "    .dataframe thead th {\n",
       "        text-align: right;\n",
       "    }\n",
       "</style>\n",
       "<table border=\"1\" class=\"dataframe\">\n",
       "  <thead>\n",
       "    <tr style=\"text-align: right;\">\n",
       "      <th></th>\n",
       "      <th>id</th>\n",
       "      <th>time</th>\n",
       "      <th>acc_x</th>\n",
       "      <th>acc_y</th>\n",
       "      <th>acc_z</th>\n",
       "      <th>gy_x</th>\n",
       "      <th>gy_y</th>\n",
       "      <th>gy_z</th>\n",
       "      <th>pitch</th>\n",
       "      <th>roll</th>\n",
       "      <th>angle_z</th>\n",
       "      <th>gg_x</th>\n",
       "      <th>gg_y</th>\n",
       "      <th>gg_z</th>\n",
       "    </tr>\n",
       "  </thead>\n",
       "  <tbody>\n",
       "    <tr>\n",
       "      <th>0</th>\n",
       "      <td>0</td>\n",
       "      <td>0</td>\n",
       "      <td>1.206087</td>\n",
       "      <td>-0.179371</td>\n",
       "      <td>-0.148447</td>\n",
       "      <td>-0.591608</td>\n",
       "      <td>-30.549010</td>\n",
       "      <td>-31.676112</td>\n",
       "      <td>79.073624</td>\n",
       "      <td>-8.396683</td>\n",
       "      <td>-83.058839</td>\n",
       "      <td>-0.011832</td>\n",
       "      <td>-0.610980</td>\n",
       "      <td>-0.633522</td>\n",
       "    </tr>\n",
       "    <tr>\n",
       "      <th>1</th>\n",
       "      <td>0</td>\n",
       "      <td>1</td>\n",
       "      <td>1.287696</td>\n",
       "      <td>-0.198974</td>\n",
       "      <td>-0.182444</td>\n",
       "      <td>0.303100</td>\n",
       "      <td>-39.139103</td>\n",
       "      <td>-24.927216</td>\n",
       "      <td>78.159835</td>\n",
       "      <td>-8.698302</td>\n",
       "      <td>-82.029235</td>\n",
       "      <td>0.006062</td>\n",
       "      <td>-0.782782</td>\n",
       "      <td>-0.498544</td>\n",
       "    </tr>\n",
       "    <tr>\n",
       "      <th>2</th>\n",
       "      <td>0</td>\n",
       "      <td>2</td>\n",
       "      <td>1.304609</td>\n",
       "      <td>-0.195114</td>\n",
       "      <td>-0.253382</td>\n",
       "      <td>-3.617278</td>\n",
       "      <td>-44.122565</td>\n",
       "      <td>-25.019629</td>\n",
       "      <td>76.226605</td>\n",
       "      <td>-8.352177</td>\n",
       "      <td>-79.126797</td>\n",
       "      <td>-0.072346</td>\n",
       "      <td>-0.882451</td>\n",
       "      <td>-0.500393</td>\n",
       "    </tr>\n",
       "    <tr>\n",
       "      <th>3</th>\n",
       "      <td>0</td>\n",
       "      <td>3</td>\n",
       "      <td>1.293095</td>\n",
       "      <td>-0.230366</td>\n",
       "      <td>-0.215210</td>\n",
       "      <td>2.712986</td>\n",
       "      <td>-53.597843</td>\n",
       "      <td>-27.454013</td>\n",
       "      <td>76.298763</td>\n",
       "      <td>-9.967037</td>\n",
       "      <td>-80.694753</td>\n",
       "      <td>0.054260</td>\n",
       "      <td>-1.071957</td>\n",
       "      <td>-0.549080</td>\n",
       "    </tr>\n",
       "    <tr>\n",
       "      <th>4</th>\n",
       "      <td>0</td>\n",
       "      <td>4</td>\n",
       "      <td>1.300887</td>\n",
       "      <td>-0.187757</td>\n",
       "      <td>-0.222523</td>\n",
       "      <td>4.286707</td>\n",
       "      <td>-57.906561</td>\n",
       "      <td>-27.961234</td>\n",
       "      <td>77.384519</td>\n",
       "      <td>-8.096783</td>\n",
       "      <td>-80.390898</td>\n",
       "      <td>0.085734</td>\n",
       "      <td>-1.158131</td>\n",
       "      <td>-0.559225</td>\n",
       "    </tr>\n",
       "    <tr>\n",
       "      <th>...</th>\n",
       "      <td>...</td>\n",
       "      <td>...</td>\n",
       "      <td>...</td>\n",
       "      <td>...</td>\n",
       "      <td>...</td>\n",
       "      <td>...</td>\n",
       "      <td>...</td>\n",
       "      <td>...</td>\n",
       "      <td>...</td>\n",
       "      <td>...</td>\n",
       "      <td>...</td>\n",
       "      <td>...</td>\n",
       "      <td>...</td>\n",
       "      <td>...</td>\n",
       "    </tr>\n",
       "    <tr>\n",
       "      <th>1874995</th>\n",
       "      <td>3124</td>\n",
       "      <td>595</td>\n",
       "      <td>-0.712530</td>\n",
       "      <td>-0.658357</td>\n",
       "      <td>0.293707</td>\n",
       "      <td>-29.367857</td>\n",
       "      <td>-104.013664</td>\n",
       "      <td>-76.290437</td>\n",
       "      <td>-44.665405</td>\n",
       "      <td>-40.505406</td>\n",
       "      <td>73.156120</td>\n",
       "      <td>-0.587357</td>\n",
       "      <td>-2.080273</td>\n",
       "      <td>-1.525809</td>\n",
       "    </tr>\n",
       "    <tr>\n",
       "      <th>1874996</th>\n",
       "      <td>3124</td>\n",
       "      <td>596</td>\n",
       "      <td>-0.683037</td>\n",
       "      <td>-0.658466</td>\n",
       "      <td>0.329223</td>\n",
       "      <td>-30.149089</td>\n",
       "      <td>-101.796809</td>\n",
       "      <td>-76.625087</td>\n",
       "      <td>-42.855425</td>\n",
       "      <td>-40.971520</td>\n",
       "      <td>70.862773</td>\n",
       "      <td>-0.602982</td>\n",
       "      <td>-2.035936</td>\n",
       "      <td>-1.532502</td>\n",
       "    </tr>\n",
       "    <tr>\n",
       "      <th>1874997</th>\n",
       "      <td>3124</td>\n",
       "      <td>597</td>\n",
       "      <td>-0.664730</td>\n",
       "      <td>-0.666625</td>\n",
       "      <td>0.364114</td>\n",
       "      <td>-27.873095</td>\n",
       "      <td>-98.776072</td>\n",
       "      <td>-79.365125</td>\n",
       "      <td>-41.189947</td>\n",
       "      <td>-41.333028</td>\n",
       "      <td>68.854788</td>\n",
       "      <td>-0.557462</td>\n",
       "      <td>-1.975521</td>\n",
       "      <td>-1.587302</td>\n",
       "    </tr>\n",
       "    <tr>\n",
       "      <th>1874998</th>\n",
       "      <td>3124</td>\n",
       "      <td>598</td>\n",
       "      <td>-0.630534</td>\n",
       "      <td>-0.682565</td>\n",
       "      <td>0.373696</td>\n",
       "      <td>-23.636550</td>\n",
       "      <td>-99.139495</td>\n",
       "      <td>-80.259478</td>\n",
       "      <td>-39.017186</td>\n",
       "      <td>-42.961261</td>\n",
       "      <td>68.092120</td>\n",
       "      <td>-0.472731</td>\n",
       "      <td>-1.982790</td>\n",
       "      <td>-1.605190</td>\n",
       "    </tr>\n",
       "    <tr>\n",
       "      <th>1874999</th>\n",
       "      <td>3124</td>\n",
       "      <td>599</td>\n",
       "      <td>-0.578351</td>\n",
       "      <td>-0.700235</td>\n",
       "      <td>0.384390</td>\n",
       "      <td>-17.917626</td>\n",
       "      <td>-100.181873</td>\n",
       "      <td>-80.676229</td>\n",
       "      <td>-35.905420</td>\n",
       "      <td>-45.238106</td>\n",
       "      <td>67.059711</td>\n",
       "      <td>-0.358353</td>\n",
       "      <td>-2.003637</td>\n",
       "      <td>-1.613525</td>\n",
       "    </tr>\n",
       "  </tbody>\n",
       "</table>\n",
       "<p>1875000 rows × 14 columns</p>\n",
       "</div>"
      ],
      "text/plain": [
       "           id  time     acc_x     acc_y     acc_z       gy_x        gy_y  \\\n",
       "0           0     0  1.206087 -0.179371 -0.148447  -0.591608  -30.549010   \n",
       "1           0     1  1.287696 -0.198974 -0.182444   0.303100  -39.139103   \n",
       "2           0     2  1.304609 -0.195114 -0.253382  -3.617278  -44.122565   \n",
       "3           0     3  1.293095 -0.230366 -0.215210   2.712986  -53.597843   \n",
       "4           0     4  1.300887 -0.187757 -0.222523   4.286707  -57.906561   \n",
       "...       ...   ...       ...       ...       ...        ...         ...   \n",
       "1874995  3124   595 -0.712530 -0.658357  0.293707 -29.367857 -104.013664   \n",
       "1874996  3124   596 -0.683037 -0.658466  0.329223 -30.149089 -101.796809   \n",
       "1874997  3124   597 -0.664730 -0.666625  0.364114 -27.873095  -98.776072   \n",
       "1874998  3124   598 -0.630534 -0.682565  0.373696 -23.636550  -99.139495   \n",
       "1874999  3124   599 -0.578351 -0.700235  0.384390 -17.917626 -100.181873   \n",
       "\n",
       "              gy_z      pitch       roll    angle_z      gg_x      gg_y  \\\n",
       "0       -31.676112  79.073624  -8.396683 -83.058839 -0.011832 -0.610980   \n",
       "1       -24.927216  78.159835  -8.698302 -82.029235  0.006062 -0.782782   \n",
       "2       -25.019629  76.226605  -8.352177 -79.126797 -0.072346 -0.882451   \n",
       "3       -27.454013  76.298763  -9.967037 -80.694753  0.054260 -1.071957   \n",
       "4       -27.961234  77.384519  -8.096783 -80.390898  0.085734 -1.158131   \n",
       "...            ...        ...        ...        ...       ...       ...   \n",
       "1874995 -76.290437 -44.665405 -40.505406  73.156120 -0.587357 -2.080273   \n",
       "1874996 -76.625087 -42.855425 -40.971520  70.862773 -0.602982 -2.035936   \n",
       "1874997 -79.365125 -41.189947 -41.333028  68.854788 -0.557462 -1.975521   \n",
       "1874998 -80.259478 -39.017186 -42.961261  68.092120 -0.472731 -1.982790   \n",
       "1874999 -80.676229 -35.905420 -45.238106  67.059711 -0.358353 -2.003637   \n",
       "\n",
       "             gg_z  \n",
       "0       -0.633522  \n",
       "1       -0.498544  \n",
       "2       -0.500393  \n",
       "3       -0.549080  \n",
       "4       -0.559225  \n",
       "...           ...  \n",
       "1874995 -1.525809  \n",
       "1874996 -1.532502  \n",
       "1874997 -1.587302  \n",
       "1874998 -1.605190  \n",
       "1874999 -1.613525  \n",
       "\n",
       "[1875000 rows x 14 columns]"
      ]
     },
     "execution_count": 3,
     "metadata": {},
     "output_type": "execute_result"
    }
   ],
   "source": [
    "train"
   ]
  },
  {
   "cell_type": "code",
   "execution_count": 11,
   "metadata": {},
   "outputs": [],
   "source": [
    "from sklearn.preprocessing import StandardScaler\n",
    "\n",
    "scaler = StandardScaler()\n",
    "X_scale = scaler.fit_transform(train.iloc[:,2:8])"
   ]
  },
  {
   "cell_type": "code",
   "execution_count": 13,
   "metadata": {
    "scrolled": true
   },
   "outputs": [
    {
     "data": {
      "text/plain": [
       "(1875000, 6)"
      ]
     },
     "execution_count": 13,
     "metadata": {},
     "output_type": "execute_result"
    }
   ],
   "source": [
    "X_scale.shape"
   ]
  },
  {
   "cell_type": "code",
   "execution_count": 17,
   "metadata": {},
   "outputs": [
    {
     "data": {
      "text/plain": [
       "array([[ 2.30731395, -0.02993881, -0.43210379,  0.01177622, -0.41085858,\n",
       "        -0.4610072 ],\n",
       "       [ 2.4210864 , -0.06332135, -0.50405798,  0.02648401, -0.52805221,\n",
       "        -0.36545902],\n",
       "       [ 2.44466434, -0.05674912, -0.65419852, -0.03796168, -0.59604099,\n",
       "        -0.36676736],\n",
       "       ...,\n",
       "       [-0.30079408, -0.85972807,  0.65272173, -0.43669443, -1.34167232,\n",
       "        -1.13616922],\n",
       "       [-0.25312047, -0.88687322,  0.67300217, -0.36705138, -1.34663045,\n",
       "        -1.14883112],\n",
       "       [-0.18037304, -0.91696552,  0.69563447, -0.27304002, -1.36085149,\n",
       "        -1.15473132]])"
      ]
     },
     "execution_count": 17,
     "metadata": {},
     "output_type": "execute_result"
    }
   ],
   "source": [
    "X_scale"
   ]
  },
  {
   "cell_type": "code",
   "execution_count": 15,
   "metadata": {},
   "outputs": [],
   "source": [
    "train.iloc[:,2:8] = X_scale"
   ]
  },
  {
   "cell_type": "code",
   "execution_count": 16,
   "metadata": {
    "scrolled": true
   },
   "outputs": [
    {
     "data": {
      "text/html": [
       "<div>\n",
       "<style scoped>\n",
       "    .dataframe tbody tr th:only-of-type {\n",
       "        vertical-align: middle;\n",
       "    }\n",
       "\n",
       "    .dataframe tbody tr th {\n",
       "        vertical-align: top;\n",
       "    }\n",
       "\n",
       "    .dataframe thead th {\n",
       "        text-align: right;\n",
       "    }\n",
       "</style>\n",
       "<table border=\"1\" class=\"dataframe\">\n",
       "  <thead>\n",
       "    <tr style=\"text-align: right;\">\n",
       "      <th></th>\n",
       "      <th>id</th>\n",
       "      <th>time</th>\n",
       "      <th>acc_x</th>\n",
       "      <th>acc_y</th>\n",
       "      <th>acc_z</th>\n",
       "      <th>gy_x</th>\n",
       "      <th>gy_y</th>\n",
       "      <th>gy_z</th>\n",
       "      <th>pitch</th>\n",
       "      <th>roll</th>\n",
       "      <th>angle_z</th>\n",
       "      <th>gg_x</th>\n",
       "      <th>gg_y</th>\n",
       "      <th>gg_z</th>\n",
       "    </tr>\n",
       "  </thead>\n",
       "  <tbody>\n",
       "    <tr>\n",
       "      <th>0</th>\n",
       "      <td>0</td>\n",
       "      <td>0</td>\n",
       "      <td>2.307314</td>\n",
       "      <td>-0.029939</td>\n",
       "      <td>-0.432104</td>\n",
       "      <td>0.011776</td>\n",
       "      <td>-0.410859</td>\n",
       "      <td>-0.461007</td>\n",
       "      <td>79.073624</td>\n",
       "      <td>-8.396683</td>\n",
       "      <td>-83.058839</td>\n",
       "      <td>-0.011832</td>\n",
       "      <td>-0.610980</td>\n",
       "      <td>-0.633522</td>\n",
       "    </tr>\n",
       "    <tr>\n",
       "      <th>1</th>\n",
       "      <td>0</td>\n",
       "      <td>1</td>\n",
       "      <td>2.421086</td>\n",
       "      <td>-0.063321</td>\n",
       "      <td>-0.504058</td>\n",
       "      <td>0.026484</td>\n",
       "      <td>-0.528052</td>\n",
       "      <td>-0.365459</td>\n",
       "      <td>78.159835</td>\n",
       "      <td>-8.698302</td>\n",
       "      <td>-82.029235</td>\n",
       "      <td>0.006062</td>\n",
       "      <td>-0.782782</td>\n",
       "      <td>-0.498544</td>\n",
       "    </tr>\n",
       "    <tr>\n",
       "      <th>2</th>\n",
       "      <td>0</td>\n",
       "      <td>2</td>\n",
       "      <td>2.444664</td>\n",
       "      <td>-0.056749</td>\n",
       "      <td>-0.654199</td>\n",
       "      <td>-0.037962</td>\n",
       "      <td>-0.596041</td>\n",
       "      <td>-0.366767</td>\n",
       "      <td>76.226605</td>\n",
       "      <td>-8.352177</td>\n",
       "      <td>-79.126797</td>\n",
       "      <td>-0.072346</td>\n",
       "      <td>-0.882451</td>\n",
       "      <td>-0.500393</td>\n",
       "    </tr>\n",
       "    <tr>\n",
       "      <th>3</th>\n",
       "      <td>0</td>\n",
       "      <td>3</td>\n",
       "      <td>2.428612</td>\n",
       "      <td>-0.116782</td>\n",
       "      <td>-0.573407</td>\n",
       "      <td>0.066099</td>\n",
       "      <td>-0.725311</td>\n",
       "      <td>-0.401232</td>\n",
       "      <td>76.298763</td>\n",
       "      <td>-9.967037</td>\n",
       "      <td>-80.694753</td>\n",
       "      <td>0.054260</td>\n",
       "      <td>-1.071957</td>\n",
       "      <td>-0.549080</td>\n",
       "    </tr>\n",
       "    <tr>\n",
       "      <th>4</th>\n",
       "      <td>0</td>\n",
       "      <td>4</td>\n",
       "      <td>2.439475</td>\n",
       "      <td>-0.044220</td>\n",
       "      <td>-0.588886</td>\n",
       "      <td>0.091969</td>\n",
       "      <td>-0.784094</td>\n",
       "      <td>-0.408413</td>\n",
       "      <td>77.384519</td>\n",
       "      <td>-8.096783</td>\n",
       "      <td>-80.390898</td>\n",
       "      <td>0.085734</td>\n",
       "      <td>-1.158131</td>\n",
       "      <td>-0.559225</td>\n",
       "    </tr>\n",
       "    <tr>\n",
       "      <th>...</th>\n",
       "      <td>...</td>\n",
       "      <td>...</td>\n",
       "      <td>...</td>\n",
       "      <td>...</td>\n",
       "      <td>...</td>\n",
       "      <td>...</td>\n",
       "      <td>...</td>\n",
       "      <td>...</td>\n",
       "      <td>...</td>\n",
       "      <td>...</td>\n",
       "      <td>...</td>\n",
       "      <td>...</td>\n",
       "      <td>...</td>\n",
       "      <td>...</td>\n",
       "    </tr>\n",
       "    <tr>\n",
       "      <th>1874995</th>\n",
       "      <td>3124</td>\n",
       "      <td>595</td>\n",
       "      <td>-0.367432</td>\n",
       "      <td>-0.845648</td>\n",
       "      <td>0.503707</td>\n",
       "      <td>-0.461266</td>\n",
       "      <td>-1.413128</td>\n",
       "      <td>-1.092639</td>\n",
       "      <td>-44.665405</td>\n",
       "      <td>-40.505406</td>\n",
       "      <td>73.156120</td>\n",
       "      <td>-0.587357</td>\n",
       "      <td>-2.080273</td>\n",
       "      <td>-1.525809</td>\n",
       "    </tr>\n",
       "    <tr>\n",
       "      <th>1874996</th>\n",
       "      <td>3124</td>\n",
       "      <td>596</td>\n",
       "      <td>-0.326315</td>\n",
       "      <td>-0.845833</td>\n",
       "      <td>0.578875</td>\n",
       "      <td>-0.474109</td>\n",
       "      <td>-1.382884</td>\n",
       "      <td>-1.097377</td>\n",
       "      <td>-42.855425</td>\n",
       "      <td>-40.971520</td>\n",
       "      <td>70.862773</td>\n",
       "      <td>-0.602982</td>\n",
       "      <td>-2.035936</td>\n",
       "      <td>-1.532502</td>\n",
       "    </tr>\n",
       "    <tr>\n",
       "      <th>1874997</th>\n",
       "      <td>3124</td>\n",
       "      <td>597</td>\n",
       "      <td>-0.300794</td>\n",
       "      <td>-0.859728</td>\n",
       "      <td>0.652722</td>\n",
       "      <td>-0.436694</td>\n",
       "      <td>-1.341672</td>\n",
       "      <td>-1.136169</td>\n",
       "      <td>-41.189947</td>\n",
       "      <td>-41.333028</td>\n",
       "      <td>68.854788</td>\n",
       "      <td>-0.557462</td>\n",
       "      <td>-1.975521</td>\n",
       "      <td>-1.587302</td>\n",
       "    </tr>\n",
       "    <tr>\n",
       "      <th>1874998</th>\n",
       "      <td>3124</td>\n",
       "      <td>598</td>\n",
       "      <td>-0.253120</td>\n",
       "      <td>-0.886873</td>\n",
       "      <td>0.673002</td>\n",
       "      <td>-0.367051</td>\n",
       "      <td>-1.346630</td>\n",
       "      <td>-1.148831</td>\n",
       "      <td>-39.017186</td>\n",
       "      <td>-42.961261</td>\n",
       "      <td>68.092120</td>\n",
       "      <td>-0.472731</td>\n",
       "      <td>-1.982790</td>\n",
       "      <td>-1.605190</td>\n",
       "    </tr>\n",
       "    <tr>\n",
       "      <th>1874999</th>\n",
       "      <td>3124</td>\n",
       "      <td>599</td>\n",
       "      <td>-0.180373</td>\n",
       "      <td>-0.916966</td>\n",
       "      <td>0.695634</td>\n",
       "      <td>-0.273040</td>\n",
       "      <td>-1.360851</td>\n",
       "      <td>-1.154731</td>\n",
       "      <td>-35.905420</td>\n",
       "      <td>-45.238106</td>\n",
       "      <td>67.059711</td>\n",
       "      <td>-0.358353</td>\n",
       "      <td>-2.003637</td>\n",
       "      <td>-1.613525</td>\n",
       "    </tr>\n",
       "  </tbody>\n",
       "</table>\n",
       "<p>1875000 rows × 14 columns</p>\n",
       "</div>"
      ],
      "text/plain": [
       "           id  time     acc_x     acc_y     acc_z      gy_x      gy_y  \\\n",
       "0           0     0  2.307314 -0.029939 -0.432104  0.011776 -0.410859   \n",
       "1           0     1  2.421086 -0.063321 -0.504058  0.026484 -0.528052   \n",
       "2           0     2  2.444664 -0.056749 -0.654199 -0.037962 -0.596041   \n",
       "3           0     3  2.428612 -0.116782 -0.573407  0.066099 -0.725311   \n",
       "4           0     4  2.439475 -0.044220 -0.588886  0.091969 -0.784094   \n",
       "...       ...   ...       ...       ...       ...       ...       ...   \n",
       "1874995  3124   595 -0.367432 -0.845648  0.503707 -0.461266 -1.413128   \n",
       "1874996  3124   596 -0.326315 -0.845833  0.578875 -0.474109 -1.382884   \n",
       "1874997  3124   597 -0.300794 -0.859728  0.652722 -0.436694 -1.341672   \n",
       "1874998  3124   598 -0.253120 -0.886873  0.673002 -0.367051 -1.346630   \n",
       "1874999  3124   599 -0.180373 -0.916966  0.695634 -0.273040 -1.360851   \n",
       "\n",
       "             gy_z      pitch       roll    angle_z      gg_x      gg_y  \\\n",
       "0       -0.461007  79.073624  -8.396683 -83.058839 -0.011832 -0.610980   \n",
       "1       -0.365459  78.159835  -8.698302 -82.029235  0.006062 -0.782782   \n",
       "2       -0.366767  76.226605  -8.352177 -79.126797 -0.072346 -0.882451   \n",
       "3       -0.401232  76.298763  -9.967037 -80.694753  0.054260 -1.071957   \n",
       "4       -0.408413  77.384519  -8.096783 -80.390898  0.085734 -1.158131   \n",
       "...           ...        ...        ...        ...       ...       ...   \n",
       "1874995 -1.092639 -44.665405 -40.505406  73.156120 -0.587357 -2.080273   \n",
       "1874996 -1.097377 -42.855425 -40.971520  70.862773 -0.602982 -2.035936   \n",
       "1874997 -1.136169 -41.189947 -41.333028  68.854788 -0.557462 -1.975521   \n",
       "1874998 -1.148831 -39.017186 -42.961261  68.092120 -0.472731 -1.982790   \n",
       "1874999 -1.154731 -35.905420 -45.238106  67.059711 -0.358353 -2.003637   \n",
       "\n",
       "             gg_z  \n",
       "0       -0.633522  \n",
       "1       -0.498544  \n",
       "2       -0.500393  \n",
       "3       -0.549080  \n",
       "4       -0.559225  \n",
       "...           ...  \n",
       "1874995 -1.525809  \n",
       "1874996 -1.532502  \n",
       "1874997 -1.587302  \n",
       "1874998 -1.605190  \n",
       "1874999 -1.613525  \n",
       "\n",
       "[1875000 rows x 14 columns]"
      ]
     },
     "execution_count": 16,
     "metadata": {},
     "output_type": "execute_result"
    }
   ],
   "source": [
    "train"
   ]
  },
  {
   "cell_type": "code",
   "execution_count": 18,
   "metadata": {},
   "outputs": [
    {
     "data": {
      "text/plain": [
       "TensorShape([3125, 600, 12])"
      ]
     },
     "execution_count": 18,
     "metadata": {},
     "output_type": "execute_result"
    }
   ],
   "source": [
    "X=tf.reshape(np.array(train.iloc[:,2:]),[-1, 600, 12])\n",
    "X.shape"
   ]
  },
  {
   "cell_type": "code",
   "execution_count": 19,
   "metadata": {
    "scrolled": true
   },
   "outputs": [
    {
     "data": {
      "text/plain": [
       "(3125, 61)"
      ]
     },
     "execution_count": 19,
     "metadata": {},
     "output_type": "execute_result"
    }
   ],
   "source": [
    "y = tf.keras.utils.to_categorical(train_labels['label']) \n",
    "y.shape"
   ]
  },
  {
   "cell_type": "code",
   "execution_count": 20,
   "metadata": {},
   "outputs": [],
   "source": [
    "from keras.models import Sequential\n",
    "from keras.layers.convolutional import Conv1D\n",
    "from keras.layers.convolutional import MaxPooling1D\n",
    "from keras.layers import Dense, LSTM,Dropout, GRU"
   ]
  },
  {
   "cell_type": "code",
   "execution_count": 58,
   "metadata": {
    "scrolled": true
   },
   "outputs": [
    {
     "name": "stdout",
     "output_type": "stream",
     "text": [
      "Model: \"sequential_6\"\n",
      "_________________________________________________________________\n",
      "Layer (type)                 Output Shape              Param #   \n",
      "=================================================================\n",
      "conv1d_9 (Conv1D)            (None, 599, 12)           300       \n",
      "_________________________________________________________________\n",
      "conv1d_10 (Conv1D)           (None, 598, 6)            150       \n",
      "_________________________________________________________________\n",
      "max_pooling1d_4 (MaxPooling1 (None, 299, 6)            0         \n",
      "_________________________________________________________________\n",
      "dropout_3 (Dropout)          (None, 299, 6)            0         \n",
      "_________________________________________________________________\n",
      "lstm_3 (LSTM)                (None, 50)                11400     \n",
      "_________________________________________________________________\n",
      "dense_3 (Dense)              (None, 61)                3111      \n",
      "=================================================================\n",
      "Total params: 14,961\n",
      "Trainable params: 14,961\n",
      "Non-trainable params: 0\n",
      "_________________________________________________________________\n"
     ]
    }
   ],
   "source": [
    "model = Sequential()\n",
    "model.add(Conv1D(filters=12, kernel_size=2, input_shape=(600,12)))\n",
    "model.add(Conv1D(filters=6, kernel_size=2, input_shape=(600,12), activation='tanh'))\n",
    "model.add(MaxPooling1D(pool_size=2))\n",
    "model.add(Dropout(0.2))\n",
    "model.add(LSTM(50))\n",
    "model.add(Dense(61, activation='softmax'))\n",
    "model.summary()\n",
    "\n",
    "model.compile(optimizer='Adam', loss='categorical_crossentropy', metrics=['accuracy'])"
   ]
  },
  {
   "cell_type": "code",
   "execution_count": 59,
   "metadata": {},
   "outputs": [],
   "source": [
    "history = model.fit(X,y, epochs=500, batch_size=128, validation_split=0.2, verbose=0)"
   ]
  },
  {
   "cell_type": "code",
   "execution_count": 60,
   "metadata": {},
   "outputs": [
    {
     "data": {
      "text/plain": [
       "range(1, 501)"
      ]
     },
     "execution_count": 60,
     "metadata": {},
     "output_type": "execute_result"
    }
   ],
   "source": [
    "acc = history.history['accuracy']\n",
    "val_acc = history.history['val_accuracy']\n",
    "loss = history.history['loss']\n",
    "val_loss = history.history['val_loss']\n",
    "                      \n",
    "Epoch_range = range(1, len(acc) + 1)\n",
    "Epoch_range"
   ]
  },
  {
   "cell_type": "code",
   "execution_count": 61,
   "metadata": {},
   "outputs": [],
   "source": [
    "def smooth_curve(points, factor=0.9):\n",
    "    smoothed_points = []\n",
    "    for point in points:\n",
    "        if smoothed_points:\n",
    "            previous = smoothed_points[-1]\n",
    "            smoothed_points.append(previous * factor + point * (1 - factor))\n",
    "        else:\n",
    "            smoothed_points.append(point)\n",
    "    return smoothed_points"
   ]
  },
  {
   "cell_type": "code",
   "execution_count": 62,
   "metadata": {},
   "outputs": [
    {
     "data": {
      "image/png": "[encoded data removed]",
      "text/plain": [
       "<Figure size 432x288 with 1 Axes>"
      ]
     },
     "metadata": {
      "needs_background": "light"
     },
     "output_type": "display_data"
    }
   ],
   "source": [
    "smooth_val_loss_history = smooth_curve(val_loss[0:])\n",
    "smooth_loss_history = smooth_curve(loss[0:])\n",
    "\n",
    "plt.plot(Epoch_range, smooth_val_loss_history,label=\"Validation Loss\")\n",
    "plt.plot(Epoch_range, smooth_loss_history, label=\"Training Loss\")\n",
    "plt.xlabel('Epochs')\n",
    "plt.ylabel('Loss')\n",
    "plt.legend()\n",
    "plt.show()"
   ]
  },
  {
   "cell_type": "code",
   "execution_count": 63,
   "metadata": {
    "scrolled": false
   },
   "outputs": [
    {
     "data": {
      "image/png": "[encoded data removed]",
      "text/plain": [
       "<Figure size 432x288 with 1 Axes>"
      ]
     },
     "metadata": {
      "needs_background": "light"
     },
     "output_type": "display_data"
    }
   ],
   "source": [
    "smooth_val_loss_history = smooth_curve(val_acc[0:])\n",
    "smooth_loss_history = smooth_curve(acc[0:])\n",
    "\n",
    "plt.plot(Epoch_range, smooth_val_loss_history,label=\"Validation Acc\")\n",
    "plt.plot(Epoch_range, smooth_loss_history, label=\"Training Acc\")\n",
    "plt.xlabel('Epochs')\n",
    "plt.ylabel('Acc')\n",
    "plt.legend()\n",
    "plt.show()"
   ]
  },
  {
   "cell_type": "markdown",
   "metadata": {},
   "source": [
    "# concatenate LSTM\n",
    "# https://www.kaggle.com/frlemarchand/covid-19-forecasting-with-an-rnn"
   ]
  },
  {
   "cell_type": "code",
   "execution_count": 106,
   "metadata": {
    "scrolled": false
   },
   "outputs": [
    {
     "ename": "NameError",
     "evalue": "name 'Input' is not defined",
     "output_type": "error",
     "traceback": [
      "\u001b[1;31m---------------------------------------------------------------------------\u001b[0m",
      "\u001b[1;31mNameError\u001b[0m                                 Traceback (most recent call last)",
      "\u001b[1;32m<ipython-input-106-42395303b012>\u001b[0m in \u001b[0;36m<module>\u001b[1;34m\u001b[0m\n\u001b[0;32m      1\u001b[0m \u001b[1;31m#temporal input branch\u001b[0m\u001b[1;33m\u001b[0m\u001b[1;33m\u001b[0m\u001b[1;33m\u001b[0m\u001b[0m\n\u001b[1;32m----> 2\u001b[1;33m \u001b[0mtemporal_input_layer\u001b[0m \u001b[1;33m=\u001b[0m \u001b[0mInput\u001b[0m\u001b[1;33m(\u001b[0m\u001b[0mshape\u001b[0m\u001b[1;33m=\u001b[0m\u001b[1;33m(\u001b[0m\u001b[0msequence_length\u001b[0m\u001b[1;33m,\u001b[0m\u001b[1;36m5\u001b[0m\u001b[1;33m)\u001b[0m\u001b[1;33m)\u001b[0m\u001b[1;33m\u001b[0m\u001b[1;33m\u001b[0m\u001b[0m\n\u001b[0m\u001b[0;32m      3\u001b[0m \u001b[0mmain_rnn_layer\u001b[0m \u001b[1;33m=\u001b[0m \u001b[0mlayers\u001b[0m\u001b[1;33m.\u001b[0m\u001b[0mLSTM\u001b[0m\u001b[1;33m(\u001b[0m\u001b[1;36m64\u001b[0m\u001b[1;33m,\u001b[0m \u001b[0mreturn_sequences\u001b[0m\u001b[1;33m=\u001b[0m\u001b[1;32mTrue\u001b[0m\u001b[1;33m,\u001b[0m \u001b[0mrecurrent_dropout\u001b[0m\u001b[1;33m=\u001b[0m\u001b[1;36m0.2\u001b[0m\u001b[1;33m)\u001b[0m\u001b[1;33m(\u001b[0m\u001b[0mtemporal_input_layer\u001b[0m\u001b[1;33m)\u001b[0m\u001b[1;33m\u001b[0m\u001b[1;33m\u001b[0m\u001b[0m\n\u001b[0;32m      4\u001b[0m \u001b[1;33m\u001b[0m\u001b[0m\n\u001b[0;32m      5\u001b[0m \u001b[1;31m#demographic input branch\u001b[0m\u001b[1;33m\u001b[0m\u001b[1;33m\u001b[0m\u001b[1;33m\u001b[0m\u001b[0m\n",
      "\u001b[1;31mNameError\u001b[0m: name 'Input' is not defined"
     ]
    }
   ],
   "source": [
    "#temporal input branch\n",
    "temporal_input_layer = Input(shape=(sequence_length,5))\n",
    "main_rnn_layer = layers.LSTM(64, return_sequences=True, recurrent_dropout=0.2)(temporal_input_layer)\n",
    "\n",
    "#demographic input branch\n",
    "demographic_input_layer = Input(shape=(5))\n",
    "demographic_dense = layers.Dense(16)(demographic_input_layer)\n",
    "demographic_dropout = layers.Dropout(0.2)(demographic_dense)\n",
    "\n",
    "#cases output branch\n",
    "rnn_c = layers.LSTM(32)(main_rnn_layer)\n",
    "merge_c = layers.Concatenate(axis=-1)([rnn_c,demographic_dropout])\n",
    "dense_c = layers.Dense(128)(merge_c)\n",
    "dropout_c = layers.Dropout(0.3)(dense_c)\n",
    "cases = layers.Dense(1, activation=layers.LeakyReLU(alpha=0.1),name=\"cases\")(dropout_c)\n",
    "\n",
    "#fatality output branch\n",
    "rnn_f = layers.LSTM(32)(main_rnn_layer)\n",
    "merge_f = layers.Concatenate(axis=-1)([rnn_f,demographic_dropout])\n",
    "dense_f = layers.Dense(128)(merge_f)\n",
    "dropout_f = layers.Dropout(0.3)(dense_f)\n",
    "fatalities = layers.Dense(1, activation=layers.LeakyReLU(alpha=0.1), name=\"fatalities\")(dropout_f)\n",
    "\n",
    "\n",
    "model = Model([temporal_input_layer,demographic_input_layer], [cases,fatalities])\n",
    "\n",
    "model.summary()"
   ]
  },
  {
   "cell_type": "code",
   "execution_count": null,
   "metadata": {},
   "outputs": [],
   "source": [
    "callbacks = [ReduceLROnPlateau(monitor='val_loss', patience=4, verbose=1, factor=0.6),\n",
    "             EarlyStopping(monitor='val_loss', patience=20),\n",
    "             ModelCheckpoint(filepath='best_model.h5', monitor='val_loss', save_best_only=True)]\n",
    "model.compile(loss=[tf.keras.losses.MeanSquaredLogarithmicError(),tf.keras.losses.MeanSquaredLogarithmicError()], optimizer=\"adam\")"
   ]
  },
  {
   "cell_type": "code",
   "execution_count": null,
   "metadata": {},
   "outputs": [],
   "source": [
    "history = model.fit([X_temporal_train,X_demographic_train], [Y_cases_train, Y_fatalities_train], \n",
    "          epochs = 250, \n",
    "          batch_size = 16, \n",
    "          validation_data=([X_temporal_test,X_demographic_test],  [Y_cases_test, Y_fatalities_test]), \n",
    "          callbacks=callbacks)"
   ]
  },
  {
   "cell_type": "code",
   "execution_count": null,
   "metadata": {},
   "outputs": [],
   "source": []
  },
  {
   "cell_type": "code",
   "execution_count": 101,
   "metadata": {},
   "outputs": [],
   "source": [
    "history = model.fit(X,y, epochs=500, batch_size=128, validation_split=0.2, verbose=0)"
   ]
  },
  {
   "cell_type": "code",
   "execution_count": 102,
   "metadata": {},
   "outputs": [
    {
     "data": {
      "text/plain": [
       "range(1, 501)"
      ]
     },
     "execution_count": 102,
     "metadata": {},
     "output_type": "execute_result"
    }
   ],
   "source": [
    "acc = history.history['accuracy']\n",
    "val_acc = history.history['val_accuracy']\n",
    "loss = history.history['loss']\n",
    "val_loss = history.history['val_loss']\n",
    "                      \n",
    "Epoch_range = range(1, len(acc) + 1)\n",
    "Epoch_range"
   ]
  },
  {
   "cell_type": "code",
   "execution_count": 103,
   "metadata": {},
   "outputs": [],
   "source": [
    "def smooth_curve(points, factor=0.9):\n",
    "    smoothed_points = []\n",
    "    for point in points:\n",
    "        if smoothed_points:\n",
    "            previous = smoothed_points[-1]\n",
    "            smoothed_points.append(previous * factor + point * (1 - factor))\n",
    "        else:\n",
    "            smoothed_points.append(point)\n",
    "    return smoothed_points"
   ]
  },
  {
   "cell_type": "code",
   "execution_count": 104,
   "metadata": {},
   "outputs": [
    {
     "data": {
      "image/png": "[encoded data removed]",
      "text/plain": [
       "<Figure size 432x288 with 1 Axes>"
      ]
     },
     "metadata": {
      "needs_background": "light"
     },
     "output_type": "display_data"
    }
   ],
   "source": [
    "smooth_val_loss_history = smooth_curve(val_loss[0:])\n",
    "smooth_loss_history = smooth_curve(loss[0:])\n",
    "\n",
    "plt.plot(Epoch_range, smooth_val_loss_history,label=\"Validation Loss\")\n",
    "plt.plot(Epoch_range, smooth_loss_history, label=\"Training Loss\")\n",
    "plt.xlabel('Epochs')\n",
    "plt.ylabel('Loss')\n",
    "plt.legend()\n",
    "plt.show()"
   ]
  },
  {
   "cell_type": "code",
   "execution_count": 105,
   "metadata": {
    "scrolled": true
   },
   "outputs": [
    {
     "data": {
      "image/png": "[encoded data removed]",
      "text/plain": [
       "<Figure size 432x288 with 1 Axes>"
      ]
     },
     "metadata": {
      "needs_background": "light"
     },
     "output_type": "display_data"
    }
   ],
   "source": [
    "smooth_val_loss_history = smooth_curve(val_acc[0:])\n",
    "smooth_loss_history = smooth_curve(acc[0:])\n",
    "\n",
    "plt.plot(Epoch_range, smooth_val_loss_history,label=\"Validation Acc\")\n",
    "plt.plot(Epoch_range, smooth_loss_history, label=\"Training Acc\")\n",
    "plt.xlabel('Epochs')\n",
    "plt.ylabel('Acc')\n",
    "plt.legend()\n",
    "plt.show()"
   ]
  },
  {
   "cell_type": "markdown",
   "metadata": {},
   "source": [
    "# Submission"
   ]
  },
  {
   "cell_type": "code",
   "execution_count": null,
   "metadata": {},
   "outputs": [],
   "source": [
    "test_X=tf.reshape(np.array(test.iloc[:,2:]),[-1, 600, 12])\n",
    "test_X.shape\n",
    "\n",
    "prediction=model_t.predict(test_X)\n",
    "\n",
    "submission.iloc[:,1:]=prediction\n",
    "\n",
    "submission.to_csv('1_try.csv')"
   ]
  },
  {
   "cell_type": "code",
   "execution_count": null,
   "metadata": {},
   "outputs": [],
   "source": []
  }
 ],
 "metadata": {
  "kernelspec": {
   "display_name": "Python 3",
   "language": "python",
   "name": "python3"
  },
  "language_info": {
   "codemirror_mode": {
    "name": "ipython",
    "version": 3
   },
   "file_extension": ".py",
   "mimetype": "text/x-python",
   "name": "python",
   "nbconvert_exporter": "python",
   "pygments_lexer": "ipython3",
   "version": "3.8.3"
  }
 },
 "nbformat": 4,
 "nbformat_minor": 4
}

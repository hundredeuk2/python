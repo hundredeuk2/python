{
 "cells": [
  {
   "cell_type": "code",
   "execution_count": 1,
   "metadata": {
    "id": "Q03LGY04zGwk"
   },
   "outputs": [],
   "source": [
    "import pandas as pd\n",
    "import numpy as np\n",
    "import tensorflow as tf\n",
    "from keras.models import Sequential\n",
    "from keras.layers import Dense, LSTM,Dropout, GRU\n",
    "import os\n",
    "\n",
    "# SET WORK DERC\n",
    "\n",
    "# For my Mac\n",
    "# os.chdir('//Users//patricklee//Desktop//파이썬//DACON//2020DACON_CUP')\n",
    "\n",
    "# For my Desktop\n",
    "os.chdir('C://Users//BIS_COM//data//dacon/workout/')"
   ]
  },
  {
   "cell_type": "code",
   "execution_count": 2,
   "metadata": {
    "id": "JV91f0KizLcT"
   },
   "outputs": [],
   "source": [
    "train=pd.read_csv('./train_features.csv')\n",
    "train_labels=pd.read_csv('./train_labels.csv')\n",
    "test=pd.read_csv('./test_features.csv')\n",
    "submission=pd.read_csv('./sample_submission.csv')"
   ]
  },
  {
   "cell_type": "code",
   "execution_count": 3,
   "metadata": {
    "colab": {
     "base_uri": "https://localhost:8080/"
    },
    "executionInfo": {
     "elapsed": 7174,
     "status": "ok",
     "timestamp": 1612593510335,
     "user": {
      "displayName": "박인창",
      "photoUrl": "",
      "userId": "11568833197762759465"
     },
     "user_tz": -540
    },
    "id": "gUYxe4BezLUg",
    "outputId": "648f41b4-b2ad-4471-d0ee-0f541229c1ee"
   },
   "outputs": [
    {
     "data": {
      "text/plain": [
       "TensorShape([3125, 600, 6])"
      ]
     },
     "execution_count": 3,
     "metadata": {},
     "output_type": "execute_result"
    }
   ],
   "source": [
    "X=tf.reshape(np.array(train.iloc[:,2:]),[-1, 600, 6])\n",
    "X.shape"
   ]
  },
  {
   "cell_type": "code",
   "execution_count": 4,
   "metadata": {
    "colab": {
     "base_uri": "https://localhost:8080/"
    },
    "executionInfo": {
     "elapsed": 685,
     "status": "ok",
     "timestamp": 1612499755488,
     "user": {
      "displayName": "박인창",
      "photoUrl": "",
      "userId": "11568833197762759465"
     },
     "user_tz": -540
    },
    "id": "Bnkb30P0zLRl",
    "outputId": "060b2ed4-219c-4ab1-f76f-046e33be542e"
   },
   "outputs": [
    {
     "data": {
      "text/plain": [
       "(3125, 61)"
      ]
     },
     "execution_count": 4,
     "metadata": {},
     "output_type": "execute_result"
    }
   ],
   "source": [
    "y = tf.keras.utils.to_categorical(train_labels['label']) \n",
    "y.shape"
   ]
  },
  {
   "cell_type": "code",
   "execution_count": 5,
   "metadata": {
    "colab": {
     "base_uri": "https://localhost:8080/"
    },
    "executionInfo": {
     "elapsed": 7165,
     "status": "ok",
     "timestamp": 1612593510336,
     "user": {
      "displayName": "박인창",
      "photoUrl": "",
      "userId": "11568833197762759465"
     },
     "user_tz": -540
    },
    "id": "fXt715jgeWnY",
    "outputId": "a348ea5e-60af-4b96-852e-735eb5d7a357"
   },
   "outputs": [
    {
     "data": {
      "text/plain": [
       "Non-Exercise                                    1518\n",
       "Device on Table                                   97\n",
       "Plank                                             55\n",
       "Wall Squat                                        48\n",
       "Jump Rope                                         47\n",
       "                                                ... \n",
       "Triceps Kickback (knee on bench) (right arm)      13\n",
       "Dumbbell Row (knee on bench) (right arm)          12\n",
       "Dumbbell Row (knee on bench) (left arm)           12\n",
       "Triceps Kickback (knee on bench) (left arm)       12\n",
       "Arm Band Adjustment                               12\n",
       "Name: label_desc, Length: 61, dtype: int64"
      ]
     },
     "execution_count": 5,
     "metadata": {},
     "output_type": "execute_result"
    }
   ],
   "source": [
    "train_labels['label_desc'].value_counts()"
   ]
  },
  {
   "cell_type": "code",
   "execution_count": 6,
   "metadata": {
    "id": "vugJDnYum4L-"
   },
   "outputs": [],
   "source": [
    "# train = pd.merge(train,train_labels,on='id',how='inner')"
   ]
  },
  {
   "cell_type": "code",
   "execution_count": 7,
   "metadata": {
    "colab": {
     "base_uri": "https://localhost:8080/",
     "height": 402
    },
    "executionInfo": {
     "elapsed": 7548,
     "status": "ok",
     "timestamp": 1612593510735,
     "user": {
      "displayName": "박인창",
      "photoUrl": "",
      "userId": "11568833197762759465"
     },
     "user_tz": -540
    },
    "id": "4IFa40gCjT2k",
    "outputId": "7daebd49-fdec-4181-adde-e1490c212f95"
   },
   "outputs": [],
   "source": [
    "# train"
   ]
  },
  {
   "cell_type": "code",
   "execution_count": null,
   "metadata": {
    "id": "0aKfGC55jTxP"
   },
   "outputs": [],
   "source": [
    "train_no26 = train[train['label']!=26]"
   ]
  },
  {
   "cell_type": "code",
   "execution_count": null,
   "metadata": {
    "colab": {
     "base_uri": "https://localhost:8080/",
     "height": 402
    },
    "executionInfo": {
     "elapsed": 4865,
     "status": "ok",
     "timestamp": 1612593510740,
     "user": {
      "displayName": "박인창",
      "photoUrl": "",
      "userId": "11568833197762759465"
     },
     "user_tz": -540
    },
    "id": "ANGAjbiejTt5",
    "outputId": "ba349a8a-dda1-4d9f-c7ad-7dd0b914e799"
   },
   "outputs": [
    {
     "data": {
      "text/html": [
       "<div>\n",
       "<style scoped>\n",
       "    .dataframe tbody tr th:only-of-type {\n",
       "        vertical-align: middle;\n",
       "    }\n",
       "\n",
       "    .dataframe tbody tr th {\n",
       "        vertical-align: top;\n",
       "    }\n",
       "\n",
       "    .dataframe thead th {\n",
       "        text-align: right;\n",
       "    }\n",
       "</style>\n",
       "<table border=\"1\" class=\"dataframe\">\n",
       "  <thead>\n",
       "    <tr style=\"text-align: right;\">\n",
       "      <th></th>\n",
       "      <th>id</th>\n",
       "      <th>time</th>\n",
       "      <th>acc_x</th>\n",
       "      <th>acc_y</th>\n",
       "      <th>acc_z</th>\n",
       "      <th>gy_x</th>\n",
       "      <th>gy_y</th>\n",
       "      <th>gy_z</th>\n",
       "      <th>label</th>\n",
       "      <th>label_desc</th>\n",
       "    </tr>\n",
       "  </thead>\n",
       "  <tbody>\n",
       "    <tr>\n",
       "      <th>0</th>\n",
       "      <td>0</td>\n",
       "      <td>0</td>\n",
       "      <td>1.206087</td>\n",
       "      <td>-0.179371</td>\n",
       "      <td>-0.148447</td>\n",
       "      <td>-0.591608</td>\n",
       "      <td>-30.549010</td>\n",
       "      <td>-31.676112</td>\n",
       "      <td>37</td>\n",
       "      <td>Shoulder Press (dumbbell)</td>\n",
       "    </tr>\n",
       "    <tr>\n",
       "      <th>1</th>\n",
       "      <td>0</td>\n",
       "      <td>1</td>\n",
       "      <td>1.287696</td>\n",
       "      <td>-0.198974</td>\n",
       "      <td>-0.182444</td>\n",
       "      <td>0.303100</td>\n",
       "      <td>-39.139103</td>\n",
       "      <td>-24.927216</td>\n",
       "      <td>37</td>\n",
       "      <td>Shoulder Press (dumbbell)</td>\n",
       "    </tr>\n",
       "    <tr>\n",
       "      <th>2</th>\n",
       "      <td>0</td>\n",
       "      <td>2</td>\n",
       "      <td>1.304609</td>\n",
       "      <td>-0.195114</td>\n",
       "      <td>-0.253382</td>\n",
       "      <td>-3.617278</td>\n",
       "      <td>-44.122565</td>\n",
       "      <td>-25.019629</td>\n",
       "      <td>37</td>\n",
       "      <td>Shoulder Press (dumbbell)</td>\n",
       "    </tr>\n",
       "    <tr>\n",
       "      <th>3</th>\n",
       "      <td>0</td>\n",
       "      <td>3</td>\n",
       "      <td>1.293095</td>\n",
       "      <td>-0.230366</td>\n",
       "      <td>-0.215210</td>\n",
       "      <td>2.712986</td>\n",
       "      <td>-53.597843</td>\n",
       "      <td>-27.454013</td>\n",
       "      <td>37</td>\n",
       "      <td>Shoulder Press (dumbbell)</td>\n",
       "    </tr>\n",
       "    <tr>\n",
       "      <th>4</th>\n",
       "      <td>0</td>\n",
       "      <td>4</td>\n",
       "      <td>1.300887</td>\n",
       "      <td>-0.187757</td>\n",
       "      <td>-0.222523</td>\n",
       "      <td>4.286707</td>\n",
       "      <td>-57.906561</td>\n",
       "      <td>-27.961234</td>\n",
       "      <td>37</td>\n",
       "      <td>Shoulder Press (dumbbell)</td>\n",
       "    </tr>\n",
       "    <tr>\n",
       "      <th>...</th>\n",
       "      <td>...</td>\n",
       "      <td>...</td>\n",
       "      <td>...</td>\n",
       "      <td>...</td>\n",
       "      <td>...</td>\n",
       "      <td>...</td>\n",
       "      <td>...</td>\n",
       "      <td>...</td>\n",
       "      <td>...</td>\n",
       "      <td>...</td>\n",
       "    </tr>\n",
       "    <tr>\n",
       "      <th>1874995</th>\n",
       "      <td>3124</td>\n",
       "      <td>595</td>\n",
       "      <td>-0.712530</td>\n",
       "      <td>-0.658357</td>\n",
       "      <td>0.293707</td>\n",
       "      <td>-29.367857</td>\n",
       "      <td>-104.013664</td>\n",
       "      <td>-76.290437</td>\n",
       "      <td>2</td>\n",
       "      <td>Bicep Curl</td>\n",
       "    </tr>\n",
       "    <tr>\n",
       "      <th>1874996</th>\n",
       "      <td>3124</td>\n",
       "      <td>596</td>\n",
       "      <td>-0.683037</td>\n",
       "      <td>-0.658466</td>\n",
       "      <td>0.329223</td>\n",
       "      <td>-30.149089</td>\n",
       "      <td>-101.796809</td>\n",
       "      <td>-76.625087</td>\n",
       "      <td>2</td>\n",
       "      <td>Bicep Curl</td>\n",
       "    </tr>\n",
       "    <tr>\n",
       "      <th>1874997</th>\n",
       "      <td>3124</td>\n",
       "      <td>597</td>\n",
       "      <td>-0.664730</td>\n",
       "      <td>-0.666625</td>\n",
       "      <td>0.364114</td>\n",
       "      <td>-27.873095</td>\n",
       "      <td>-98.776072</td>\n",
       "      <td>-79.365125</td>\n",
       "      <td>2</td>\n",
       "      <td>Bicep Curl</td>\n",
       "    </tr>\n",
       "    <tr>\n",
       "      <th>1874998</th>\n",
       "      <td>3124</td>\n",
       "      <td>598</td>\n",
       "      <td>-0.630534</td>\n",
       "      <td>-0.682565</td>\n",
       "      <td>0.373696</td>\n",
       "      <td>-23.636550</td>\n",
       "      <td>-99.139495</td>\n",
       "      <td>-80.259478</td>\n",
       "      <td>2</td>\n",
       "      <td>Bicep Curl</td>\n",
       "    </tr>\n",
       "    <tr>\n",
       "      <th>1874999</th>\n",
       "      <td>3124</td>\n",
       "      <td>599</td>\n",
       "      <td>-0.578351</td>\n",
       "      <td>-0.700235</td>\n",
       "      <td>0.384390</td>\n",
       "      <td>-17.917626</td>\n",
       "      <td>-100.181873</td>\n",
       "      <td>-80.676229</td>\n",
       "      <td>2</td>\n",
       "      <td>Bicep Curl</td>\n",
       "    </tr>\n",
       "  </tbody>\n",
       "</table>\n",
       "<p>964200 rows × 10 columns</p>\n",
       "</div>"
      ],
      "text/plain": [
       "           id  time     acc_x  ...       gy_z  label                 label_desc\n",
       "0           0     0  1.206087  ... -31.676112     37  Shoulder Press (dumbbell)\n",
       "1           0     1  1.287696  ... -24.927216     37  Shoulder Press (dumbbell)\n",
       "2           0     2  1.304609  ... -25.019629     37  Shoulder Press (dumbbell)\n",
       "3           0     3  1.293095  ... -27.454013     37  Shoulder Press (dumbbell)\n",
       "4           0     4  1.300887  ... -27.961234     37  Shoulder Press (dumbbell)\n",
       "...       ...   ...       ...  ...        ...    ...                        ...\n",
       "1874995  3124   595 -0.712530  ... -76.290437      2                 Bicep Curl\n",
       "1874996  3124   596 -0.683037  ... -76.625087      2                 Bicep Curl\n",
       "1874997  3124   597 -0.664730  ... -79.365125      2                 Bicep Curl\n",
       "1874998  3124   598 -0.630534  ... -80.259478      2                 Bicep Curl\n",
       "1874999  3124   599 -0.578351  ... -80.676229      2                 Bicep Curl\n",
       "\n",
       "[964200 rows x 10 columns]"
      ]
     },
     "execution_count": 10,
     "metadata": {
      "tags": []
     },
     "output_type": "execute_result"
    }
   ],
   "source": [
    "train_no26"
   ]
  },
  {
   "cell_type": "code",
   "execution_count": 8,
   "metadata": {
    "colab": {
     "base_uri": "https://localhost:8080/",
     "height": 402
    },
    "executionInfo": {
     "elapsed": 2549,
     "status": "ok",
     "timestamp": 1612593511036,
     "user": {
      "displayName": "박인창",
      "photoUrl": "",
      "userId": "11568833197762759465"
     },
     "user_tz": -540
    },
    "id": "JzleBACXqcRa",
    "outputId": "dadc1990-d90c-43f6-d657-10ab6c205ef6"
   },
   "outputs": [
    {
     "data": {
      "text/html": [
       "<div>\n",
       "<style scoped>\n",
       "    .dataframe tbody tr th:only-of-type {\n",
       "        vertical-align: middle;\n",
       "    }\n",
       "\n",
       "    .dataframe tbody tr th {\n",
       "        vertical-align: top;\n",
       "    }\n",
       "\n",
       "    .dataframe thead th {\n",
       "        text-align: right;\n",
       "    }\n",
       "</style>\n",
       "<table border=\"1\" class=\"dataframe\">\n",
       "  <thead>\n",
       "    <tr style=\"text-align: right;\">\n",
       "      <th></th>\n",
       "      <th>id</th>\n",
       "      <th>time</th>\n",
       "      <th>acc_x</th>\n",
       "      <th>acc_y</th>\n",
       "      <th>acc_z</th>\n",
       "      <th>gy_x</th>\n",
       "      <th>gy_y</th>\n",
       "      <th>gy_z</th>\n",
       "    </tr>\n",
       "  </thead>\n",
       "  <tbody>\n",
       "    <tr>\n",
       "      <th>0</th>\n",
       "      <td>0</td>\n",
       "      <td>0</td>\n",
       "      <td>1.206087</td>\n",
       "      <td>-0.179371</td>\n",
       "      <td>-0.148447</td>\n",
       "      <td>-0.591608</td>\n",
       "      <td>-30.549010</td>\n",
       "      <td>-31.676112</td>\n",
       "    </tr>\n",
       "    <tr>\n",
       "      <th>1</th>\n",
       "      <td>0</td>\n",
       "      <td>1</td>\n",
       "      <td>1.287696</td>\n",
       "      <td>-0.198974</td>\n",
       "      <td>-0.182444</td>\n",
       "      <td>0.303100</td>\n",
       "      <td>-39.139103</td>\n",
       "      <td>-24.927216</td>\n",
       "    </tr>\n",
       "    <tr>\n",
       "      <th>2</th>\n",
       "      <td>0</td>\n",
       "      <td>2</td>\n",
       "      <td>1.304609</td>\n",
       "      <td>-0.195114</td>\n",
       "      <td>-0.253382</td>\n",
       "      <td>-3.617278</td>\n",
       "      <td>-44.122565</td>\n",
       "      <td>-25.019629</td>\n",
       "    </tr>\n",
       "    <tr>\n",
       "      <th>3</th>\n",
       "      <td>0</td>\n",
       "      <td>3</td>\n",
       "      <td>1.293095</td>\n",
       "      <td>-0.230366</td>\n",
       "      <td>-0.215210</td>\n",
       "      <td>2.712986</td>\n",
       "      <td>-53.597843</td>\n",
       "      <td>-27.454013</td>\n",
       "    </tr>\n",
       "    <tr>\n",
       "      <th>4</th>\n",
       "      <td>0</td>\n",
       "      <td>4</td>\n",
       "      <td>1.300887</td>\n",
       "      <td>-0.187757</td>\n",
       "      <td>-0.222523</td>\n",
       "      <td>4.286707</td>\n",
       "      <td>-57.906561</td>\n",
       "      <td>-27.961234</td>\n",
       "    </tr>\n",
       "    <tr>\n",
       "      <th>...</th>\n",
       "      <td>...</td>\n",
       "      <td>...</td>\n",
       "      <td>...</td>\n",
       "      <td>...</td>\n",
       "      <td>...</td>\n",
       "      <td>...</td>\n",
       "      <td>...</td>\n",
       "      <td>...</td>\n",
       "    </tr>\n",
       "    <tr>\n",
       "      <th>1874995</th>\n",
       "      <td>3124</td>\n",
       "      <td>595</td>\n",
       "      <td>-0.712530</td>\n",
       "      <td>-0.658357</td>\n",
       "      <td>0.293707</td>\n",
       "      <td>-29.367857</td>\n",
       "      <td>-104.013664</td>\n",
       "      <td>-76.290437</td>\n",
       "    </tr>\n",
       "    <tr>\n",
       "      <th>1874996</th>\n",
       "      <td>3124</td>\n",
       "      <td>596</td>\n",
       "      <td>-0.683037</td>\n",
       "      <td>-0.658466</td>\n",
       "      <td>0.329223</td>\n",
       "      <td>-30.149089</td>\n",
       "      <td>-101.796809</td>\n",
       "      <td>-76.625087</td>\n",
       "    </tr>\n",
       "    <tr>\n",
       "      <th>1874997</th>\n",
       "      <td>3124</td>\n",
       "      <td>597</td>\n",
       "      <td>-0.664730</td>\n",
       "      <td>-0.666625</td>\n",
       "      <td>0.364114</td>\n",
       "      <td>-27.873095</td>\n",
       "      <td>-98.776072</td>\n",
       "      <td>-79.365125</td>\n",
       "    </tr>\n",
       "    <tr>\n",
       "      <th>1874998</th>\n",
       "      <td>3124</td>\n",
       "      <td>598</td>\n",
       "      <td>-0.630534</td>\n",
       "      <td>-0.682565</td>\n",
       "      <td>0.373696</td>\n",
       "      <td>-23.636550</td>\n",
       "      <td>-99.139495</td>\n",
       "      <td>-80.259478</td>\n",
       "    </tr>\n",
       "    <tr>\n",
       "      <th>1874999</th>\n",
       "      <td>3124</td>\n",
       "      <td>599</td>\n",
       "      <td>-0.578351</td>\n",
       "      <td>-0.700235</td>\n",
       "      <td>0.384390</td>\n",
       "      <td>-17.917626</td>\n",
       "      <td>-100.181873</td>\n",
       "      <td>-80.676229</td>\n",
       "    </tr>\n",
       "  </tbody>\n",
       "</table>\n",
       "<p>1875000 rows × 8 columns</p>\n",
       "</div>"
      ],
      "text/plain": [
       "           id  time     acc_x     acc_y     acc_z       gy_x        gy_y       gy_z\n",
       "0           0     0  1.206087 -0.179371 -0.148447  -0.591608  -30.549010 -31.676112\n",
       "1           0     1  1.287696 -0.198974 -0.182444   0.303100  -39.139103 -24.927216\n",
       "2           0     2  1.304609 -0.195114 -0.253382  -3.617278  -44.122565 -25.019629\n",
       "3           0     3  1.293095 -0.230366 -0.215210   2.712986  -53.597843 -27.454013\n",
       "4           0     4  1.300887 -0.187757 -0.222523   4.286707  -57.906561 -27.961234\n",
       "...       ...   ...       ...       ...       ...        ...         ...        ...\n",
       "1874995  3124   595 -0.712530 -0.658357  0.293707 -29.367857 -104.013664 -76.290437\n",
       "1874996  3124   596 -0.683037 -0.658466  0.329223 -30.149089 -101.796809 -76.625087\n",
       "1874997  3124   597 -0.664730 -0.666625  0.364114 -27.873095  -98.776072 -79.365125\n",
       "1874998  3124   598 -0.630534 -0.682565  0.373696 -23.636550  -99.139495 -80.259478\n",
       "1874999  3124   599 -0.578351 -0.700235  0.384390 -17.917626 -100.181873 -80.676229\n",
       "\n",
       "[1875000 rows x 8 columns]"
      ]
     },
     "execution_count": 8,
     "metadata": {},
     "output_type": "execute_result"
    }
   ],
   "source": [
    "train"
   ]
  },
  {
   "cell_type": "code",
   "execution_count": 9,
   "metadata": {
    "id": "lDMYsBNHqcE0"
   },
   "outputs": [],
   "source": [
    "def non(train):\n",
    "    if train == 26:\n",
    "        return 0\n",
    "    else:\n",
    "        return 1"
   ]
  },
  {
   "cell_type": "code",
   "execution_count": 10,
   "metadata": {
    "id": "mGfrxhRfrSns"
   },
   "outputs": [],
   "source": [
    "train_labels['non_ex_yn'] = train_labels['label'].apply(non)"
   ]
  },
  {
   "cell_type": "code",
   "execution_count": 11,
   "metadata": {
    "colab": {
     "base_uri": "https://localhost:8080/"
    },
    "executionInfo": {
     "elapsed": 6445,
     "status": "ok",
     "timestamp": 1612504011604,
     "user": {
      "displayName": "박인창",
      "photoUrl": "",
      "userId": "11568833197762759465"
     },
     "user_tz": -540
    },
    "id": "K7TkBPn5sdbW",
    "outputId": "05009ceb-723f-4b9e-fca7-07b2d3635cd9"
   },
   "outputs": [
    {
     "data": {
      "text/plain": [
       "TensorShape([3125, 600, 6])"
      ]
     },
     "execution_count": 11,
     "metadata": {},
     "output_type": "execute_result"
    }
   ],
   "source": [
    "X=tf.reshape(np.array(train.iloc[:,2:8]),[-1, 600, 6])\n",
    "X.shape"
   ]
  },
  {
   "cell_type": "code",
   "execution_count": 12,
   "metadata": {
    "colab": {
     "base_uri": "https://localhost:8080/"
    },
    "executionInfo": {
     "elapsed": 5639,
     "status": "ok",
     "timestamp": 1612504011605,
     "user": {
      "displayName": "박인창",
      "photoUrl": "",
      "userId": "11568833197762759465"
     },
     "user_tz": -540
    },
    "id": "GRy-JKHFsdYI",
    "outputId": "80a51554-e184-4b71-ad4b-910f3ed5879a",
    "scrolled": true
   },
   "outputs": [
    {
     "data": {
      "text/plain": [
       "(3125, 2)"
      ]
     },
     "execution_count": 12,
     "metadata": {},
     "output_type": "execute_result"
    }
   ],
   "source": [
    "y = tf.keras.utils.to_categorical(train_labels['non_ex_yn']) \n",
    "y.shape"
   ]
  },
  {
   "cell_type": "code",
   "execution_count": 15,
   "metadata": {},
   "outputs": [
    {
     "data": {
      "text/plain": [
       "array([[0., 1.],\n",
       "       [1., 0.],\n",
       "       [0., 1.],\n",
       "       ...,\n",
       "       [0., 1.],\n",
       "       [1., 0.],\n",
       "       [0., 1.]], dtype=float32)"
      ]
     },
     "execution_count": 15,
     "metadata": {},
     "output_type": "execute_result"
    }
   ],
   "source": [
    "y"
   ]
  },
  {
   "cell_type": "code",
   "execution_count": 16,
   "metadata": {
    "id": "4G3aoYwtzLOi"
   },
   "outputs": [],
   "source": [
    "from keras.models import Sequential\n",
    "from keras.layers.convolutional import Conv1D\n",
    "from keras.layers.convolutional import MaxPooling1D\n",
    "from keras.layers import Dense, LSTM,Dropout, GRU"
   ]
  },
  {
   "cell_type": "code",
   "execution_count": 17,
   "metadata": {
    "id": "7GBGnYWR28cL"
   },
   "outputs": [],
   "source": [
    "# model = Sequential()\n",
    "# model.add(Conv1D(filters=32, kernel_size=2, activation='relu', input_shape=(600,6)))\n",
    "# model.add(Conv1D(filters=64, kernel_size=2, activation='relu'))\n",
    "# model.add(MaxPooling1D(pool_size=2))\n",
    "# model.add(Dropout(0.5))\n",
    "# model.add(Conv1D(filters=128, kernel_size=2, activation='relu'))\n",
    "# model.add(Conv1D(filters=256, kernel_size=2, activation='relu'))\n",
    "# model.add(MaxPooling1D(pool_size=2))\n",
    "# model.add(Dropout(0.5))\n",
    "\n",
    "# model.add(LSTM(55))\n",
    "\n",
    "# model.add(Dense(256, activation='relu'))\n",
    "# model.add(Dropout(0.5))\n",
    "# model.add(Dense(128, activation='relu'))\n",
    "# model.add(Dropout(0.5))\n",
    "# model.add(Dense(64, activation='relu'))\n",
    "# model.add(Dense(61, activation='softmax'))\n",
    "\n",
    "# model.compile(optimizer=tf.keras.optimizers.Adam(lr=0.004), loss='categorical_crossentropy', metrics=['accuracy'])"
   ]
  },
  {
   "cell_type": "code",
   "execution_count": 18,
   "metadata": {
    "id": "d94tDgl728YW"
   },
   "outputs": [
    {
     "name": "stdout",
     "output_type": "stream",
     "text": [
      "Epoch 1/200\n"
     ]
    },
    {
     "ename": "ValueError",
     "evalue": "in user code:\n\n    C:\\Users\\BIS_COM\\anaconda3\\lib\\site-packages\\tensorflow\\python\\keras\\engine\\training.py:806 train_function  *\n        return step_function(self, iterator)\n    C:\\Users\\BIS_COM\\anaconda3\\lib\\site-packages\\tensorflow\\python\\keras\\engine\\training.py:796 step_function  **\n        outputs = model.distribute_strategy.run(run_step, args=(data,))\n    C:\\Users\\BIS_COM\\anaconda3\\lib\\site-packages\\tensorflow\\python\\distribute\\distribute_lib.py:1211 run\n        return self._extended.call_for_each_replica(fn, args=args, kwargs=kwargs)\n    C:\\Users\\BIS_COM\\anaconda3\\lib\\site-packages\\tensorflow\\python\\distribute\\distribute_lib.py:2585 call_for_each_replica\n        return self._call_for_each_replica(fn, args, kwargs)\n    C:\\Users\\BIS_COM\\anaconda3\\lib\\site-packages\\tensorflow\\python\\distribute\\distribute_lib.py:2945 _call_for_each_replica\n        return fn(*args, **kwargs)\n    C:\\Users\\BIS_COM\\anaconda3\\lib\\site-packages\\tensorflow\\python\\keras\\engine\\training.py:789 run_step  **\n        outputs = model.train_step(data)\n    C:\\Users\\BIS_COM\\anaconda3\\lib\\site-packages\\tensorflow\\python\\keras\\engine\\training.py:748 train_step\n        loss = self.compiled_loss(\n    C:\\Users\\BIS_COM\\anaconda3\\lib\\site-packages\\tensorflow\\python\\keras\\engine\\compile_utils.py:204 __call__\n        loss_value = loss_obj(y_t, y_p, sample_weight=sw)\n    C:\\Users\\BIS_COM\\anaconda3\\lib\\site-packages\\tensorflow\\python\\keras\\losses.py:149 __call__\n        losses = ag_call(y_true, y_pred)\n    C:\\Users\\BIS_COM\\anaconda3\\lib\\site-packages\\tensorflow\\python\\keras\\losses.py:253 call  **\n        return ag_fn(y_true, y_pred, **self._fn_kwargs)\n    C:\\Users\\BIS_COM\\anaconda3\\lib\\site-packages\\tensorflow\\python\\util\\dispatch.py:201 wrapper\n        return target(*args, **kwargs)\n    C:\\Users\\BIS_COM\\anaconda3\\lib\\site-packages\\tensorflow\\python\\keras\\losses.py:1535 categorical_crossentropy\n        return K.categorical_crossentropy(y_true, y_pred, from_logits=from_logits)\n    C:\\Users\\BIS_COM\\anaconda3\\lib\\site-packages\\tensorflow\\python\\util\\dispatch.py:201 wrapper\n        return target(*args, **kwargs)\n    C:\\Users\\BIS_COM\\anaconda3\\lib\\site-packages\\tensorflow\\python\\keras\\backend.py:4687 categorical_crossentropy\n        target.shape.assert_is_compatible_with(output.shape)\n    C:\\Users\\BIS_COM\\anaconda3\\lib\\site-packages\\tensorflow\\python\\framework\\tensor_shape.py:1134 assert_is_compatible_with\n        raise ValueError(\"Shapes %s and %s are incompatible\" % (self, other))\n\n    ValueError: Shapes (None, 2) and (None, 61) are incompatible\n",
     "output_type": "error",
     "traceback": [
      "\u001b[1;31m---------------------------------------------------------------------------\u001b[0m",
      "\u001b[1;31mValueError\u001b[0m                                Traceback (most recent call last)",
      "\u001b[1;32m<ipython-input-18-4d1b251e0e64>\u001b[0m in \u001b[0;36m<module>\u001b[1;34m\u001b[0m\n\u001b[1;32m----> 1\u001b[1;33m \u001b[0mmodel\u001b[0m\u001b[1;33m.\u001b[0m\u001b[0mfit\u001b[0m\u001b[1;33m(\u001b[0m\u001b[0mX\u001b[0m\u001b[1;33m,\u001b[0m\u001b[0my\u001b[0m\u001b[1;33m,\u001b[0m \u001b[0mepochs\u001b[0m\u001b[1;33m=\u001b[0m\u001b[1;36m200\u001b[0m\u001b[1;33m,\u001b[0m \u001b[0mbatch_size\u001b[0m\u001b[1;33m=\u001b[0m\u001b[1;36m128\u001b[0m\u001b[1;33m,\u001b[0m \u001b[0mvalidation_split\u001b[0m\u001b[1;33m=\u001b[0m\u001b[1;36m0.2\u001b[0m\u001b[1;33m)\u001b[0m\u001b[1;33m\u001b[0m\u001b[1;33m\u001b[0m\u001b[0m\n\u001b[0m",
      "\u001b[1;32m~\\anaconda3\\lib\\site-packages\\tensorflow\\python\\keras\\engine\\training.py\u001b[0m in \u001b[0;36m_method_wrapper\u001b[1;34m(self, *args, **kwargs)\u001b[0m\n\u001b[0;32m    106\u001b[0m   \u001b[1;32mdef\u001b[0m \u001b[0m_method_wrapper\u001b[0m\u001b[1;33m(\u001b[0m\u001b[0mself\u001b[0m\u001b[1;33m,\u001b[0m \u001b[1;33m*\u001b[0m\u001b[0margs\u001b[0m\u001b[1;33m,\u001b[0m \u001b[1;33m**\u001b[0m\u001b[0mkwargs\u001b[0m\u001b[1;33m)\u001b[0m\u001b[1;33m:\u001b[0m\u001b[1;33m\u001b[0m\u001b[1;33m\u001b[0m\u001b[0m\n\u001b[0;32m    107\u001b[0m     \u001b[1;32mif\u001b[0m \u001b[1;32mnot\u001b[0m \u001b[0mself\u001b[0m\u001b[1;33m.\u001b[0m\u001b[0m_in_multi_worker_mode\u001b[0m\u001b[1;33m(\u001b[0m\u001b[1;33m)\u001b[0m\u001b[1;33m:\u001b[0m  \u001b[1;31m# pylint: disable=protected-access\u001b[0m\u001b[1;33m\u001b[0m\u001b[1;33m\u001b[0m\u001b[0m\n\u001b[1;32m--> 108\u001b[1;33m       \u001b[1;32mreturn\u001b[0m \u001b[0mmethod\u001b[0m\u001b[1;33m(\u001b[0m\u001b[0mself\u001b[0m\u001b[1;33m,\u001b[0m \u001b[1;33m*\u001b[0m\u001b[0margs\u001b[0m\u001b[1;33m,\u001b[0m \u001b[1;33m**\u001b[0m\u001b[0mkwargs\u001b[0m\u001b[1;33m)\u001b[0m\u001b[1;33m\u001b[0m\u001b[1;33m\u001b[0m\u001b[0m\n\u001b[0m\u001b[0;32m    109\u001b[0m \u001b[1;33m\u001b[0m\u001b[0m\n\u001b[0;32m    110\u001b[0m     \u001b[1;31m# Running inside `run_distribute_coordinator` already.\u001b[0m\u001b[1;33m\u001b[0m\u001b[1;33m\u001b[0m\u001b[1;33m\u001b[0m\u001b[0m\n",
      "\u001b[1;32m~\\anaconda3\\lib\\site-packages\\tensorflow\\python\\keras\\engine\\training.py\u001b[0m in \u001b[0;36mfit\u001b[1;34m(self, x, y, batch_size, epochs, verbose, callbacks, validation_split, validation_data, shuffle, class_weight, sample_weight, initial_epoch, steps_per_epoch, validation_steps, validation_batch_size, validation_freq, max_queue_size, workers, use_multiprocessing)\u001b[0m\n\u001b[0;32m   1096\u001b[0m                 batch_size=batch_size):\n\u001b[0;32m   1097\u001b[0m               \u001b[0mcallbacks\u001b[0m\u001b[1;33m.\u001b[0m\u001b[0mon_train_batch_begin\u001b[0m\u001b[1;33m(\u001b[0m\u001b[0mstep\u001b[0m\u001b[1;33m)\u001b[0m\u001b[1;33m\u001b[0m\u001b[1;33m\u001b[0m\u001b[0m\n\u001b[1;32m-> 1098\u001b[1;33m               \u001b[0mtmp_logs\u001b[0m \u001b[1;33m=\u001b[0m \u001b[0mtrain_function\u001b[0m\u001b[1;33m(\u001b[0m\u001b[0miterator\u001b[0m\u001b[1;33m)\u001b[0m\u001b[1;33m\u001b[0m\u001b[1;33m\u001b[0m\u001b[0m\n\u001b[0m\u001b[0;32m   1099\u001b[0m               \u001b[1;32mif\u001b[0m \u001b[0mdata_handler\u001b[0m\u001b[1;33m.\u001b[0m\u001b[0mshould_sync\u001b[0m\u001b[1;33m:\u001b[0m\u001b[1;33m\u001b[0m\u001b[1;33m\u001b[0m\u001b[0m\n\u001b[0;32m   1100\u001b[0m                 \u001b[0mcontext\u001b[0m\u001b[1;33m.\u001b[0m\u001b[0masync_wait\u001b[0m\u001b[1;33m(\u001b[0m\u001b[1;33m)\u001b[0m\u001b[1;33m\u001b[0m\u001b[1;33m\u001b[0m\u001b[0m\n",
      "\u001b[1;32m~\\anaconda3\\lib\\site-packages\\tensorflow\\python\\eager\\def_function.py\u001b[0m in \u001b[0;36m__call__\u001b[1;34m(self, *args, **kwds)\u001b[0m\n\u001b[0;32m    778\u001b[0m       \u001b[1;32melse\u001b[0m\u001b[1;33m:\u001b[0m\u001b[1;33m\u001b[0m\u001b[1;33m\u001b[0m\u001b[0m\n\u001b[0;32m    779\u001b[0m         \u001b[0mcompiler\u001b[0m \u001b[1;33m=\u001b[0m \u001b[1;34m\"nonXla\"\u001b[0m\u001b[1;33m\u001b[0m\u001b[1;33m\u001b[0m\u001b[0m\n\u001b[1;32m--> 780\u001b[1;33m         \u001b[0mresult\u001b[0m \u001b[1;33m=\u001b[0m \u001b[0mself\u001b[0m\u001b[1;33m.\u001b[0m\u001b[0m_call\u001b[0m\u001b[1;33m(\u001b[0m\u001b[1;33m*\u001b[0m\u001b[0margs\u001b[0m\u001b[1;33m,\u001b[0m \u001b[1;33m**\u001b[0m\u001b[0mkwds\u001b[0m\u001b[1;33m)\u001b[0m\u001b[1;33m\u001b[0m\u001b[1;33m\u001b[0m\u001b[0m\n\u001b[0m\u001b[0;32m    781\u001b[0m \u001b[1;33m\u001b[0m\u001b[0m\n\u001b[0;32m    782\u001b[0m       \u001b[0mnew_tracing_count\u001b[0m \u001b[1;33m=\u001b[0m \u001b[0mself\u001b[0m\u001b[1;33m.\u001b[0m\u001b[0m_get_tracing_count\u001b[0m\u001b[1;33m(\u001b[0m\u001b[1;33m)\u001b[0m\u001b[1;33m\u001b[0m\u001b[1;33m\u001b[0m\u001b[0m\n",
      "\u001b[1;32m~\\anaconda3\\lib\\site-packages\\tensorflow\\python\\eager\\def_function.py\u001b[0m in \u001b[0;36m_call\u001b[1;34m(self, *args, **kwds)\u001b[0m\n\u001b[0;32m    821\u001b[0m       \u001b[1;31m# This is the first call of __call__, so we have to initialize.\u001b[0m\u001b[1;33m\u001b[0m\u001b[1;33m\u001b[0m\u001b[1;33m\u001b[0m\u001b[0m\n\u001b[0;32m    822\u001b[0m       \u001b[0minitializers\u001b[0m \u001b[1;33m=\u001b[0m \u001b[1;33m[\u001b[0m\u001b[1;33m]\u001b[0m\u001b[1;33m\u001b[0m\u001b[1;33m\u001b[0m\u001b[0m\n\u001b[1;32m--> 823\u001b[1;33m       \u001b[0mself\u001b[0m\u001b[1;33m.\u001b[0m\u001b[0m_initialize\u001b[0m\u001b[1;33m(\u001b[0m\u001b[0margs\u001b[0m\u001b[1;33m,\u001b[0m \u001b[0mkwds\u001b[0m\u001b[1;33m,\u001b[0m \u001b[0madd_initializers_to\u001b[0m\u001b[1;33m=\u001b[0m\u001b[0minitializers\u001b[0m\u001b[1;33m)\u001b[0m\u001b[1;33m\u001b[0m\u001b[1;33m\u001b[0m\u001b[0m\n\u001b[0m\u001b[0;32m    824\u001b[0m     \u001b[1;32mfinally\u001b[0m\u001b[1;33m:\u001b[0m\u001b[1;33m\u001b[0m\u001b[1;33m\u001b[0m\u001b[0m\n\u001b[0;32m    825\u001b[0m       \u001b[1;31m# At this point we know that the initialization is complete (or less\u001b[0m\u001b[1;33m\u001b[0m\u001b[1;33m\u001b[0m\u001b[1;33m\u001b[0m\u001b[0m\n",
      "\u001b[1;32m~\\anaconda3\\lib\\site-packages\\tensorflow\\python\\eager\\def_function.py\u001b[0m in \u001b[0;36m_initialize\u001b[1;34m(self, args, kwds, add_initializers_to)\u001b[0m\n\u001b[0;32m    694\u001b[0m     \u001b[0mself\u001b[0m\u001b[1;33m.\u001b[0m\u001b[0m_graph_deleter\u001b[0m \u001b[1;33m=\u001b[0m \u001b[0mFunctionDeleter\u001b[0m\u001b[1;33m(\u001b[0m\u001b[0mself\u001b[0m\u001b[1;33m.\u001b[0m\u001b[0m_lifted_initializer_graph\u001b[0m\u001b[1;33m)\u001b[0m\u001b[1;33m\u001b[0m\u001b[1;33m\u001b[0m\u001b[0m\n\u001b[0;32m    695\u001b[0m     self._concrete_stateful_fn = (\n\u001b[1;32m--> 696\u001b[1;33m         self._stateful_fn._get_concrete_function_internal_garbage_collected(  # pylint: disable=protected-access\n\u001b[0m\u001b[0;32m    697\u001b[0m             *args, **kwds))\n\u001b[0;32m    698\u001b[0m \u001b[1;33m\u001b[0m\u001b[0m\n",
      "\u001b[1;32m~\\anaconda3\\lib\\site-packages\\tensorflow\\python\\eager\\function.py\u001b[0m in \u001b[0;36m_get_concrete_function_internal_garbage_collected\u001b[1;34m(self, *args, **kwargs)\u001b[0m\n\u001b[0;32m   2853\u001b[0m       \u001b[0margs\u001b[0m\u001b[1;33m,\u001b[0m \u001b[0mkwargs\u001b[0m \u001b[1;33m=\u001b[0m \u001b[1;32mNone\u001b[0m\u001b[1;33m,\u001b[0m \u001b[1;32mNone\u001b[0m\u001b[1;33m\u001b[0m\u001b[1;33m\u001b[0m\u001b[0m\n\u001b[0;32m   2854\u001b[0m     \u001b[1;32mwith\u001b[0m \u001b[0mself\u001b[0m\u001b[1;33m.\u001b[0m\u001b[0m_lock\u001b[0m\u001b[1;33m:\u001b[0m\u001b[1;33m\u001b[0m\u001b[1;33m\u001b[0m\u001b[0m\n\u001b[1;32m-> 2855\u001b[1;33m       \u001b[0mgraph_function\u001b[0m\u001b[1;33m,\u001b[0m \u001b[0m_\u001b[0m\u001b[1;33m,\u001b[0m \u001b[0m_\u001b[0m \u001b[1;33m=\u001b[0m \u001b[0mself\u001b[0m\u001b[1;33m.\u001b[0m\u001b[0m_maybe_define_function\u001b[0m\u001b[1;33m(\u001b[0m\u001b[0margs\u001b[0m\u001b[1;33m,\u001b[0m \u001b[0mkwargs\u001b[0m\u001b[1;33m)\u001b[0m\u001b[1;33m\u001b[0m\u001b[1;33m\u001b[0m\u001b[0m\n\u001b[0m\u001b[0;32m   2856\u001b[0m     \u001b[1;32mreturn\u001b[0m \u001b[0mgraph_function\u001b[0m\u001b[1;33m\u001b[0m\u001b[1;33m\u001b[0m\u001b[0m\n\u001b[0;32m   2857\u001b[0m \u001b[1;33m\u001b[0m\u001b[0m\n",
      "\u001b[1;32m~\\anaconda3\\lib\\site-packages\\tensorflow\\python\\eager\\function.py\u001b[0m in \u001b[0;36m_maybe_define_function\u001b[1;34m(self, args, kwargs)\u001b[0m\n\u001b[0;32m   3211\u001b[0m \u001b[1;33m\u001b[0m\u001b[0m\n\u001b[0;32m   3212\u001b[0m       \u001b[0mself\u001b[0m\u001b[1;33m.\u001b[0m\u001b[0m_function_cache\u001b[0m\u001b[1;33m.\u001b[0m\u001b[0mmissed\u001b[0m\u001b[1;33m.\u001b[0m\u001b[0madd\u001b[0m\u001b[1;33m(\u001b[0m\u001b[0mcall_context_key\u001b[0m\u001b[1;33m)\u001b[0m\u001b[1;33m\u001b[0m\u001b[1;33m\u001b[0m\u001b[0m\n\u001b[1;32m-> 3213\u001b[1;33m       \u001b[0mgraph_function\u001b[0m \u001b[1;33m=\u001b[0m \u001b[0mself\u001b[0m\u001b[1;33m.\u001b[0m\u001b[0m_create_graph_function\u001b[0m\u001b[1;33m(\u001b[0m\u001b[0margs\u001b[0m\u001b[1;33m,\u001b[0m \u001b[0mkwargs\u001b[0m\u001b[1;33m)\u001b[0m\u001b[1;33m\u001b[0m\u001b[1;33m\u001b[0m\u001b[0m\n\u001b[0m\u001b[0;32m   3214\u001b[0m       \u001b[0mself\u001b[0m\u001b[1;33m.\u001b[0m\u001b[0m_function_cache\u001b[0m\u001b[1;33m.\u001b[0m\u001b[0mprimary\u001b[0m\u001b[1;33m[\u001b[0m\u001b[0mcache_key\u001b[0m\u001b[1;33m]\u001b[0m \u001b[1;33m=\u001b[0m \u001b[0mgraph_function\u001b[0m\u001b[1;33m\u001b[0m\u001b[1;33m\u001b[0m\u001b[0m\n\u001b[0;32m   3215\u001b[0m       \u001b[1;32mreturn\u001b[0m \u001b[0mgraph_function\u001b[0m\u001b[1;33m,\u001b[0m \u001b[0margs\u001b[0m\u001b[1;33m,\u001b[0m \u001b[0mkwargs\u001b[0m\u001b[1;33m\u001b[0m\u001b[1;33m\u001b[0m\u001b[0m\n",
      "\u001b[1;32m~\\anaconda3\\lib\\site-packages\\tensorflow\\python\\eager\\function.py\u001b[0m in \u001b[0;36m_create_graph_function\u001b[1;34m(self, args, kwargs, override_flat_arg_shapes)\u001b[0m\n\u001b[0;32m   3063\u001b[0m     \u001b[0marg_names\u001b[0m \u001b[1;33m=\u001b[0m \u001b[0mbase_arg_names\u001b[0m \u001b[1;33m+\u001b[0m \u001b[0mmissing_arg_names\u001b[0m\u001b[1;33m\u001b[0m\u001b[1;33m\u001b[0m\u001b[0m\n\u001b[0;32m   3064\u001b[0m     graph_function = ConcreteFunction(\n\u001b[1;32m-> 3065\u001b[1;33m         func_graph_module.func_graph_from_py_func(\n\u001b[0m\u001b[0;32m   3066\u001b[0m             \u001b[0mself\u001b[0m\u001b[1;33m.\u001b[0m\u001b[0m_name\u001b[0m\u001b[1;33m,\u001b[0m\u001b[1;33m\u001b[0m\u001b[1;33m\u001b[0m\u001b[0m\n\u001b[0;32m   3067\u001b[0m             \u001b[0mself\u001b[0m\u001b[1;33m.\u001b[0m\u001b[0m_python_function\u001b[0m\u001b[1;33m,\u001b[0m\u001b[1;33m\u001b[0m\u001b[1;33m\u001b[0m\u001b[0m\n",
      "\u001b[1;32m~\\anaconda3\\lib\\site-packages\\tensorflow\\python\\framework\\func_graph.py\u001b[0m in \u001b[0;36mfunc_graph_from_py_func\u001b[1;34m(name, python_func, args, kwargs, signature, func_graph, autograph, autograph_options, add_control_dependencies, arg_names, op_return_value, collections, capture_by_value, override_flat_arg_shapes)\u001b[0m\n\u001b[0;32m    984\u001b[0m         \u001b[0m_\u001b[0m\u001b[1;33m,\u001b[0m \u001b[0moriginal_func\u001b[0m \u001b[1;33m=\u001b[0m \u001b[0mtf_decorator\u001b[0m\u001b[1;33m.\u001b[0m\u001b[0munwrap\u001b[0m\u001b[1;33m(\u001b[0m\u001b[0mpython_func\u001b[0m\u001b[1;33m)\u001b[0m\u001b[1;33m\u001b[0m\u001b[1;33m\u001b[0m\u001b[0m\n\u001b[0;32m    985\u001b[0m \u001b[1;33m\u001b[0m\u001b[0m\n\u001b[1;32m--> 986\u001b[1;33m       \u001b[0mfunc_outputs\u001b[0m \u001b[1;33m=\u001b[0m \u001b[0mpython_func\u001b[0m\u001b[1;33m(\u001b[0m\u001b[1;33m*\u001b[0m\u001b[0mfunc_args\u001b[0m\u001b[1;33m,\u001b[0m \u001b[1;33m**\u001b[0m\u001b[0mfunc_kwargs\u001b[0m\u001b[1;33m)\u001b[0m\u001b[1;33m\u001b[0m\u001b[1;33m\u001b[0m\u001b[0m\n\u001b[0m\u001b[0;32m    987\u001b[0m \u001b[1;33m\u001b[0m\u001b[0m\n\u001b[0;32m    988\u001b[0m       \u001b[1;31m# invariant: `func_outputs` contains only Tensors, CompositeTensors,\u001b[0m\u001b[1;33m\u001b[0m\u001b[1;33m\u001b[0m\u001b[1;33m\u001b[0m\u001b[0m\n",
      "\u001b[1;32m~\\anaconda3\\lib\\site-packages\\tensorflow\\python\\eager\\def_function.py\u001b[0m in \u001b[0;36mwrapped_fn\u001b[1;34m(*args, **kwds)\u001b[0m\n\u001b[0;32m    598\u001b[0m         \u001b[1;31m# __wrapped__ allows AutoGraph to swap in a converted function. We give\u001b[0m\u001b[1;33m\u001b[0m\u001b[1;33m\u001b[0m\u001b[1;33m\u001b[0m\u001b[0m\n\u001b[0;32m    599\u001b[0m         \u001b[1;31m# the function a weak reference to itself to avoid a reference cycle.\u001b[0m\u001b[1;33m\u001b[0m\u001b[1;33m\u001b[0m\u001b[1;33m\u001b[0m\u001b[0m\n\u001b[1;32m--> 600\u001b[1;33m         \u001b[1;32mreturn\u001b[0m \u001b[0mweak_wrapped_fn\u001b[0m\u001b[1;33m(\u001b[0m\u001b[1;33m)\u001b[0m\u001b[1;33m.\u001b[0m\u001b[0m__wrapped__\u001b[0m\u001b[1;33m(\u001b[0m\u001b[1;33m*\u001b[0m\u001b[0margs\u001b[0m\u001b[1;33m,\u001b[0m \u001b[1;33m**\u001b[0m\u001b[0mkwds\u001b[0m\u001b[1;33m)\u001b[0m\u001b[1;33m\u001b[0m\u001b[1;33m\u001b[0m\u001b[0m\n\u001b[0m\u001b[0;32m    601\u001b[0m     \u001b[0mweak_wrapped_fn\u001b[0m \u001b[1;33m=\u001b[0m \u001b[0mweakref\u001b[0m\u001b[1;33m.\u001b[0m\u001b[0mref\u001b[0m\u001b[1;33m(\u001b[0m\u001b[0mwrapped_fn\u001b[0m\u001b[1;33m)\u001b[0m\u001b[1;33m\u001b[0m\u001b[1;33m\u001b[0m\u001b[0m\n\u001b[0;32m    602\u001b[0m \u001b[1;33m\u001b[0m\u001b[0m\n",
      "\u001b[1;32m~\\anaconda3\\lib\\site-packages\\tensorflow\\python\\framework\\func_graph.py\u001b[0m in \u001b[0;36mwrapper\u001b[1;34m(*args, **kwargs)\u001b[0m\n\u001b[0;32m    971\u001b[0m           \u001b[1;32mexcept\u001b[0m \u001b[0mException\u001b[0m \u001b[1;32mas\u001b[0m \u001b[0me\u001b[0m\u001b[1;33m:\u001b[0m  \u001b[1;31m# pylint:disable=broad-except\u001b[0m\u001b[1;33m\u001b[0m\u001b[1;33m\u001b[0m\u001b[0m\n\u001b[0;32m    972\u001b[0m             \u001b[1;32mif\u001b[0m \u001b[0mhasattr\u001b[0m\u001b[1;33m(\u001b[0m\u001b[0me\u001b[0m\u001b[1;33m,\u001b[0m \u001b[1;34m\"ag_error_metadata\"\u001b[0m\u001b[1;33m)\u001b[0m\u001b[1;33m:\u001b[0m\u001b[1;33m\u001b[0m\u001b[1;33m\u001b[0m\u001b[0m\n\u001b[1;32m--> 973\u001b[1;33m               \u001b[1;32mraise\u001b[0m \u001b[0me\u001b[0m\u001b[1;33m.\u001b[0m\u001b[0mag_error_metadata\u001b[0m\u001b[1;33m.\u001b[0m\u001b[0mto_exception\u001b[0m\u001b[1;33m(\u001b[0m\u001b[0me\u001b[0m\u001b[1;33m)\u001b[0m\u001b[1;33m\u001b[0m\u001b[1;33m\u001b[0m\u001b[0m\n\u001b[0m\u001b[0;32m    974\u001b[0m             \u001b[1;32melse\u001b[0m\u001b[1;33m:\u001b[0m\u001b[1;33m\u001b[0m\u001b[1;33m\u001b[0m\u001b[0m\n\u001b[0;32m    975\u001b[0m               \u001b[1;32mraise\u001b[0m\u001b[1;33m\u001b[0m\u001b[1;33m\u001b[0m\u001b[0m\n",
      "\u001b[1;31mValueError\u001b[0m: in user code:\n\n    C:\\Users\\BIS_COM\\anaconda3\\lib\\site-packages\\tensorflow\\python\\keras\\engine\\training.py:806 train_function  *\n        return step_function(self, iterator)\n    C:\\Users\\BIS_COM\\anaconda3\\lib\\site-packages\\tensorflow\\python\\keras\\engine\\training.py:796 step_function  **\n        outputs = model.distribute_strategy.run(run_step, args=(data,))\n    C:\\Users\\BIS_COM\\anaconda3\\lib\\site-packages\\tensorflow\\python\\distribute\\distribute_lib.py:1211 run\n        return self._extended.call_for_each_replica(fn, args=args, kwargs=kwargs)\n    C:\\Users\\BIS_COM\\anaconda3\\lib\\site-packages\\tensorflow\\python\\distribute\\distribute_lib.py:2585 call_for_each_replica\n        return self._call_for_each_replica(fn, args, kwargs)\n    C:\\Users\\BIS_COM\\anaconda3\\lib\\site-packages\\tensorflow\\python\\distribute\\distribute_lib.py:2945 _call_for_each_replica\n        return fn(*args, **kwargs)\n    C:\\Users\\BIS_COM\\anaconda3\\lib\\site-packages\\tensorflow\\python\\keras\\engine\\training.py:789 run_step  **\n        outputs = model.train_step(data)\n    C:\\Users\\BIS_COM\\anaconda3\\lib\\site-packages\\tensorflow\\python\\keras\\engine\\training.py:748 train_step\n        loss = self.compiled_loss(\n    C:\\Users\\BIS_COM\\anaconda3\\lib\\site-packages\\tensorflow\\python\\keras\\engine\\compile_utils.py:204 __call__\n        loss_value = loss_obj(y_t, y_p, sample_weight=sw)\n    C:\\Users\\BIS_COM\\anaconda3\\lib\\site-packages\\tensorflow\\python\\keras\\losses.py:149 __call__\n        losses = ag_call(y_true, y_pred)\n    C:\\Users\\BIS_COM\\anaconda3\\lib\\site-packages\\tensorflow\\python\\keras\\losses.py:253 call  **\n        return ag_fn(y_true, y_pred, **self._fn_kwargs)\n    C:\\Users\\BIS_COM\\anaconda3\\lib\\site-packages\\tensorflow\\python\\util\\dispatch.py:201 wrapper\n        return target(*args, **kwargs)\n    C:\\Users\\BIS_COM\\anaconda3\\lib\\site-packages\\tensorflow\\python\\keras\\losses.py:1535 categorical_crossentropy\n        return K.categorical_crossentropy(y_true, y_pred, from_logits=from_logits)\n    C:\\Users\\BIS_COM\\anaconda3\\lib\\site-packages\\tensorflow\\python\\util\\dispatch.py:201 wrapper\n        return target(*args, **kwargs)\n    C:\\Users\\BIS_COM\\anaconda3\\lib\\site-packages\\tensorflow\\python\\keras\\backend.py:4687 categorical_crossentropy\n        target.shape.assert_is_compatible_with(output.shape)\n    C:\\Users\\BIS_COM\\anaconda3\\lib\\site-packages\\tensorflow\\python\\framework\\tensor_shape.py:1134 assert_is_compatible_with\n        raise ValueError(\"Shapes %s and %s are incompatible\" % (self, other))\n\n    ValueError: Shapes (None, 2) and (None, 61) are incompatible\n"
     ]
    }
   ],
   "source": [
    "# model.fit(X,y, epochs=200, batch_size=128, validation_split=0.2)"
   ]
  },
  {
   "cell_type": "code",
   "execution_count": 19,
   "metadata": {
    "colab": {
     "base_uri": "https://localhost:8080/"
    },
    "executionInfo": {
     "elapsed": 836,
     "status": "ok",
     "timestamp": 1612504016489,
     "user": {
      "displayName": "박인창",
      "photoUrl": "",
      "userId": "11568833197762759465"
     },
     "user_tz": -540
    },
    "id": "WbIW8eusFb7K",
    "outputId": "f3563978-a24c-49bc-a2db-8687d32c7e2d",
    "scrolled": true
   },
   "outputs": [
    {
     "name": "stdout",
     "output_type": "stream",
     "text": [
      "Model: \"sequential_1\"\n",
      "_________________________________________________________________\n",
      "Layer (type)                 Output Shape              Param #   \n",
      "=================================================================\n",
      "conv1d_4 (Conv1D)            (None, 596, 32)           992       \n",
      "_________________________________________________________________\n",
      "conv1d_5 (Conv1D)            (None, 592, 64)           10304     \n",
      "_________________________________________________________________\n",
      "max_pooling1d_2 (MaxPooling1 (None, 296, 64)           0         \n",
      "_________________________________________________________________\n",
      "dropout_4 (Dropout)          (None, 296, 64)           0         \n",
      "_________________________________________________________________\n",
      "conv1d_6 (Conv1D)            (None, 292, 128)          41088     \n",
      "_________________________________________________________________\n",
      "conv1d_7 (Conv1D)            (None, 288, 256)          164096    \n",
      "_________________________________________________________________\n",
      "max_pooling1d_3 (MaxPooling1 (None, 144, 256)          0         \n",
      "_________________________________________________________________\n",
      "dropout_5 (Dropout)          (None, 144, 256)          0         \n",
      "_________________________________________________________________\n",
      "lstm_1 (LSTM)                (None, 55)                68640     \n",
      "_________________________________________________________________\n",
      "dense_4 (Dense)              (None, 128)               7168      \n",
      "_________________________________________________________________\n",
      "dense_5 (Dense)              (None, 2)                 258       \n",
      "=================================================================\n",
      "Total params: 292,546\n",
      "Trainable params: 292,546\n",
      "Non-trainable params: 0\n",
      "_________________________________________________________________\n"
     ]
    }
   ],
   "source": [
    "model = Sequential()\n",
    "model.add(Conv1D(filters = 32,kernel_size= 5, activation='relu',input_shape=(600,6)))\n",
    "model.add(Conv1D(kernel_size=5, filters = 64,activation='relu'))\n",
    "model.add(MaxPooling1D(pool_size=2))\n",
    "model.add(Dropout(0.5))\n",
    "model.add(Conv1D(filters = 128,kernel_size= 5, activation='relu',input_shape=(600,6)))\n",
    "model.add(Conv1D(kernel_size=5, filters=256,activation='relu'))\n",
    "model.add(MaxPooling1D(pool_size=2))\n",
    "model.add(Dropout(0.5))\n",
    "model.add(LSTM(55))\n",
    "model.add(Dense(128, activation='relu'))\n",
    "model.add(Dense(2, activation='sigmoid'))\n",
    "model.summary()\n",
    "\n",
    "model.compile(optimizer='Adam', loss='binary_crossentropy', metrics=['accuracy'])"
   ]
  },
  {
   "cell_type": "code",
   "execution_count": 34,
   "metadata": {
    "colab": {
     "base_uri": "https://localhost:8080/"
    },
    "executionInfo": {
     "elapsed": 31260,
     "status": "ok",
     "timestamp": 1612504051294,
     "user": {
      "displayName": "박인창",
      "photoUrl": "",
      "userId": "11568833197762759465"
     },
     "user_tz": -540
    },
    "id": "zYmmYHxlFb4C",
    "outputId": "4d82a1c8-e669-4f3e-8133-d1dec07719fa",
    "scrolled": true
   },
   "outputs": [],
   "source": [
    "history = model.fit(X,y, epochs=50, batch_size=128, validation_split=0.2,verbose=0)"
   ]
  },
  {
   "cell_type": "code",
   "execution_count": 35,
   "metadata": {
    "scrolled": true
   },
   "outputs": [
    {
     "data": {
      "text/plain": [
       "[0.6361336708068848,\n",
       " 0.6395554542541504,\n",
       " 0.781002938747406,\n",
       " 0.7908313274383545,\n",
       " 0.5311207175254822,\n",
       " 0.6458837985992432,\n",
       " 0.5615805983543396,\n",
       " 0.7080666422843933,\n",
       " 0.5466253161430359,\n",
       " 0.660423755645752,\n",
       " 0.5584923624992371,\n",
       " 0.5019962191581726,\n",
       " 0.5182498693466187,\n",
       " 0.49611973762512207,\n",
       " 0.6046167612075806,\n",
       " 0.7381724715232849,\n",
       " 0.7197027802467346,\n",
       " 0.4903116226196289,\n",
       " 0.5174251794815063,\n",
       " 0.6013076901435852,\n",
       " 0.5305745601654053,\n",
       " 0.6184834241867065,\n",
       " 0.644065797328949,\n",
       " 0.8131237030029297,\n",
       " 0.6445695757865906,\n",
       " 0.43930819630622864,\n",
       " 0.44276705384254456,\n",
       " 0.6874353885650635,\n",
       " 0.6210561990737915,\n",
       " 0.5203456282615662,\n",
       " 0.6030954122543335,\n",
       " 0.8685044050216675,\n",
       " 0.5577847361564636,\n",
       " 0.6321051120758057,\n",
       " 0.574823260307312,\n",
       " 0.6519463658332825,\n",
       " 0.7970768213272095,\n",
       " 0.536547839641571,\n",
       " 0.4398688077926636,\n",
       " 0.5418626666069031,\n",
       " 0.5829435586929321,\n",
       " 0.5919684171676636,\n",
       " 0.5407953858375549,\n",
       " 0.7603256702423096,\n",
       " 0.6053766012191772,\n",
       " 0.6257385015487671,\n",
       " 0.8026280403137207,\n",
       " 0.8288789987564087,\n",
       " 0.7105062007904053,\n",
       " 0.6708553433418274]"
      ]
     },
     "execution_count": 35,
     "metadata": {},
     "output_type": "execute_result"
    }
   ],
   "source": [
    "mae_history = history.history['val_loss']\n",
    "mae_history"
   ]
  },
  {
   "cell_type": "code",
   "execution_count": 36,
   "metadata": {},
   "outputs": [
    {
     "data": {
      "image/png": "[encoded data removed]",
      "text/plain": [
       "<Figure size 432x288 with 1 Axes>"
      ]
     },
     "metadata": {
      "needs_background": "light"
     },
     "output_type": "display_data"
    }
   ],
   "source": [
    "import matplotlib.pyplot as plt\n",
    "\n",
    "plt.plot(range(1, len(mae_history) + 1), mae_history)\n",
    "plt.xlabel('Epochs')\n",
    "plt.ylabel('Validation MAE')\n",
    "plt.show()"
   ]
  },
  {
   "cell_type": "code",
   "execution_count": 38,
   "metadata": {},
   "outputs": [
    {
     "data": {
      "image/png": "[encoded data removed]",
      "text/plain": [
       "<Figure size 432x288 with 1 Axes>"
      ]
     },
     "metadata": {
      "needs_background": "light"
     },
     "output_type": "display_data"
    }
   ],
   "source": [
    "def smooth_curve(points, factor=0.9):\n",
    "    smoothed_points = []\n",
    "    for point in points:\n",
    "        if smoothed_points:\n",
    "            previous = smoothed_points[-1]\n",
    "            smoothed_points.append(previous * factor + point * (1 - factor))\n",
    "        else:\n",
    "            smoothed_points.append(point)\n",
    "    return smoothed_points\n",
    "\n",
    "\n",
    "smooth_mae_history = smooth_curve(mae_history[10:])\n",
    "\n",
    "plt.plot(range(1, len(smooth_mae_history) + 1), smooth_mae_history)\n",
    "plt.xlabel('Epochs')\n",
    "plt.ylabel('Validation MAE')\n",
    "plt.show()"
   ]
  },
  {
   "cell_type": "code",
   "execution_count": null,
   "metadata": {
    "colab": {
     "base_uri": "https://localhost:8080/"
    },
    "executionInfo": {
     "elapsed": 618,
     "status": "ok",
     "timestamp": 1612504174453,
     "user": {
      "displayName": "박인창",
      "photoUrl": "",
      "userId": "11568833197762759465"
     },
     "user_tz": -540
    },
    "id": "Hpz04zhKu4QO",
    "outputId": "800aa622-c501-44cf-d3c8-21b2e0393a02"
   },
   "outputs": [
    {
     "data": {
      "text/plain": [
       "TensorShape([1607, 600, 6])"
      ]
     },
     "execution_count": 20,
     "metadata": {
      "tags": []
     },
     "output_type": "execute_result"
    }
   ],
   "source": [
    "X_no26=tf.reshape(np.array(train_no26.iloc[:,2:8]),[-1, 600, 6])\n",
    "X_no26.shape"
   ]
  },
  {
   "cell_type": "code",
   "execution_count": null,
   "metadata": {
    "id": "lITfSuNFvjvk"
   },
   "outputs": [],
   "source": [
    "train_labels_t = train_labels[train_labels['non_ex_yn']==1]"
   ]
  },
  {
   "cell_type": "code",
   "execution_count": null,
   "metadata": {
    "colab": {
     "base_uri": "https://localhost:8080/",
     "height": 402
    },
    "executionInfo": {
     "elapsed": 683,
     "status": "ok",
     "timestamp": 1612593924301,
     "user": {
      "displayName": "박인창",
      "photoUrl": "",
      "userId": "11568833197762759465"
     },
     "user_tz": -540
    },
    "id": "nvWrMV9FvtT-",
    "outputId": "53b9c8fd-9a74-437e-9094-a9eea37c3181"
   },
   "outputs": [
    {
     "data": {
      "text/html": [
       "<div>\n",
       "<style scoped>\n",
       "    .dataframe tbody tr th:only-of-type {\n",
       "        vertical-align: middle;\n",
       "    }\n",
       "\n",
       "    .dataframe tbody tr th {\n",
       "        vertical-align: top;\n",
       "    }\n",
       "\n",
       "    .dataframe thead th {\n",
       "        text-align: right;\n",
       "    }\n",
       "</style>\n",
       "<table border=\"1\" class=\"dataframe\">\n",
       "  <thead>\n",
       "    <tr style=\"text-align: right;\">\n",
       "      <th></th>\n",
       "      <th>id</th>\n",
       "      <th>label</th>\n",
       "      <th>label_desc</th>\n",
       "      <th>non_ex_yn</th>\n",
       "      <th>no37</th>\n",
       "    </tr>\n",
       "  </thead>\n",
       "  <tbody>\n",
       "    <tr>\n",
       "      <th>0</th>\n",
       "      <td>0</td>\n",
       "      <td>37</td>\n",
       "      <td>Shoulder Press (dumbbell)</td>\n",
       "      <td>1</td>\n",
       "      <td>1</td>\n",
       "    </tr>\n",
       "    <tr>\n",
       "      <th>2</th>\n",
       "      <td>2</td>\n",
       "      <td>3</td>\n",
       "      <td>Biceps Curl (band)</td>\n",
       "      <td>1</td>\n",
       "      <td>0</td>\n",
       "    </tr>\n",
       "    <tr>\n",
       "      <th>12</th>\n",
       "      <td>12</td>\n",
       "      <td>39</td>\n",
       "      <td>Side Plank Right side</td>\n",
       "      <td>1</td>\n",
       "      <td>0</td>\n",
       "    </tr>\n",
       "    <tr>\n",
       "      <th>13</th>\n",
       "      <td>13</td>\n",
       "      <td>28</td>\n",
       "      <td>Plank</td>\n",
       "      <td>1</td>\n",
       "      <td>0</td>\n",
       "    </tr>\n",
       "    <tr>\n",
       "      <th>20</th>\n",
       "      <td>20</td>\n",
       "      <td>6</td>\n",
       "      <td>Chest Press (rack)</td>\n",
       "      <td>1</td>\n",
       "      <td>0</td>\n",
       "    </tr>\n",
       "    <tr>\n",
       "      <th>...</th>\n",
       "      <td>...</td>\n",
       "      <td>...</td>\n",
       "      <td>...</td>\n",
       "      <td>...</td>\n",
       "      <td>...</td>\n",
       "    </tr>\n",
       "    <tr>\n",
       "      <th>3117</th>\n",
       "      <td>3117</td>\n",
       "      <td>60</td>\n",
       "      <td>Wall Squat</td>\n",
       "      <td>1</td>\n",
       "      <td>0</td>\n",
       "    </tr>\n",
       "    <tr>\n",
       "      <th>3118</th>\n",
       "      <td>3118</td>\n",
       "      <td>53</td>\n",
       "      <td>Triceps Kickback (knee on bench) (right arm)</td>\n",
       "      <td>1</td>\n",
       "      <td>0</td>\n",
       "    </tr>\n",
       "    <tr>\n",
       "      <th>3119</th>\n",
       "      <td>3119</td>\n",
       "      <td>17</td>\n",
       "      <td>Fast Alternating Punches</td>\n",
       "      <td>1</td>\n",
       "      <td>0</td>\n",
       "    </tr>\n",
       "    <tr>\n",
       "      <th>3122</th>\n",
       "      <td>3122</td>\n",
       "      <td>15</td>\n",
       "      <td>Dynamic Stretch (at your own pace)</td>\n",
       "      <td>1</td>\n",
       "      <td>0</td>\n",
       "    </tr>\n",
       "    <tr>\n",
       "      <th>3124</th>\n",
       "      <td>3124</td>\n",
       "      <td>2</td>\n",
       "      <td>Bicep Curl</td>\n",
       "      <td>1</td>\n",
       "      <td>0</td>\n",
       "    </tr>\n",
       "  </tbody>\n",
       "</table>\n",
       "<p>1607 rows × 5 columns</p>\n",
       "</div>"
      ],
      "text/plain": [
       "        id  label  ... non_ex_yn  no37\n",
       "0        0     37  ...         1     1\n",
       "2        2      3  ...         1     0\n",
       "12      12     39  ...         1     0\n",
       "13      13     28  ...         1     0\n",
       "20      20      6  ...         1     0\n",
       "...    ...    ...  ...       ...   ...\n",
       "3117  3117     60  ...         1     0\n",
       "3118  3118     53  ...         1     0\n",
       "3119  3119     17  ...         1     0\n",
       "3122  3122     15  ...         1     0\n",
       "3124  3124      2  ...         1     0\n",
       "\n",
       "[1607 rows x 5 columns]"
      ]
     },
     "execution_count": 26,
     "metadata": {
      "tags": []
     },
     "output_type": "execute_result"
    }
   ],
   "source": [
    "train_labels_t"
   ]
  },
  {
   "cell_type": "code",
   "execution_count": null,
   "metadata": {
    "colab": {
     "base_uri": "https://localhost:8080/"
    },
    "executionInfo": {
     "elapsed": 390,
     "status": "ok",
     "timestamp": 1612504402300,
     "user": {
      "displayName": "박인창",
      "photoUrl": "",
      "userId": "11568833197762759465"
     },
     "user_tz": -540
    },
    "id": "JGiZt_dBu4NB",
    "outputId": "21a1b44f-2016-455f-af13-2088aae07d6f"
   },
   "outputs": [
    {
     "data": {
      "text/plain": [
       "(1607, 61)"
      ]
     },
     "execution_count": 27,
     "metadata": {
      "tags": []
     },
     "output_type": "execute_result"
    }
   ],
   "source": [
    "y_no_26 = tf.keras.utils.to_categorical(train_labels_t['label'])\n",
    "y_no_26.shape"
   ]
  },
  {
   "cell_type": "code",
   "execution_count": null,
   "metadata": {
    "colab": {
     "base_uri": "https://localhost:8080/"
    },
    "executionInfo": {
     "elapsed": 550,
     "status": "ok",
     "timestamp": 1612504823733,
     "user": {
      "displayName": "박인창",
      "photoUrl": "",
      "userId": "11568833197762759465"
     },
     "user_tz": -540
    },
    "id": "GUKdz6ldxQIT",
    "outputId": "6a0e7705-c619-419a-f5b0-0585874c9a73"
   },
   "outputs": [
    {
     "data": {
      "text/plain": [
       "array([[0., 0., 0., ..., 0., 0., 0.],\n",
       "       [0., 0., 0., ..., 0., 0., 0.],\n",
       "       [0., 0., 0., ..., 0., 0., 0.],\n",
       "       ...,\n",
       "       [0., 0., 0., ..., 0., 0., 0.],\n",
       "       [0., 0., 0., ..., 0., 0., 0.],\n",
       "       [0., 0., 1., ..., 0., 0., 0.]], dtype=float32)"
      ]
     },
     "execution_count": 39,
     "metadata": {
      "tags": []
     },
     "output_type": "execute_result"
    }
   ],
   "source": [
    "y_no_26"
   ]
  },
  {
   "cell_type": "code",
   "execution_count": null,
   "metadata": {
    "colab": {
     "base_uri": "https://localhost:8080/"
    },
    "executionInfo": {
     "elapsed": 821,
     "status": "ok",
     "timestamp": 1612504861673,
     "user": {
      "displayName": "박인창",
      "photoUrl": "",
      "userId": "11568833197762759465"
     },
     "user_tz": -540
    },
    "id": "PlPSHqrfv6tj",
    "outputId": "6d135b50-2f0d-44a8-830a-9830ce610c0e"
   },
   "outputs": [
    {
     "name": "stdout",
     "output_type": "stream",
     "text": [
      "Model: \"sequential_4\"\n",
      "_________________________________________________________________\n",
      "Layer (type)                 Output Shape              Param #   \n",
      "=================================================================\n",
      "conv1d_16 (Conv1D)           (None, 596, 32)           992       \n",
      "_________________________________________________________________\n",
      "conv1d_17 (Conv1D)           (None, 592, 64)           10304     \n",
      "_________________________________________________________________\n",
      "max_pooling1d_8 (MaxPooling1 (None, 296, 64)           0         \n",
      "_________________________________________________________________\n",
      "dropout_8 (Dropout)          (None, 296, 64)           0         \n",
      "_________________________________________________________________\n",
      "conv1d_18 (Conv1D)           (None, 292, 128)          41088     \n",
      "_________________________________________________________________\n",
      "conv1d_19 (Conv1D)           (None, 288, 256)          164096    \n",
      "_________________________________________________________________\n",
      "max_pooling1d_9 (MaxPooling1 (None, 144, 256)          0         \n",
      "_________________________________________________________________\n",
      "dropout_9 (Dropout)          (None, 144, 256)          0         \n",
      "_________________________________________________________________\n",
      "lstm_4 (LSTM)                (None, 55)                68640     \n",
      "_________________________________________________________________\n",
      "dense_8 (Dense)              (None, 128)               7168      \n",
      "_________________________________________________________________\n",
      "dense_9 (Dense)              (None, 61)                7869      \n",
      "=================================================================\n",
      "Total params: 300,157\n",
      "Trainable params: 300,157\n",
      "Non-trainable params: 0\n",
      "_________________________________________________________________\n"
     ]
    }
   ],
   "source": [
    "model_t = Sequential()\n",
    "model_t.add(Conv1D(filters = 32,kernel_size= 5, activation='relu',input_shape=(600,6)))\n",
    "model_t.add(Conv1D(kernel_size=5, filters = 64,activation='relu'))\n",
    "model_t.add(MaxPooling1D(pool_size=2))\n",
    "model_t.add(Dropout(0.5))\n",
    "model_t.add(Conv1D(filters = 128,kernel_size= 5, activation='relu',input_shape=(600,6)))\n",
    "model_t.add(Conv1D(kernel_size=5, filters=256,activation='relu'))\n",
    "model_t.add(MaxPooling1D(pool_size=2))\n",
    "model_t.add(Dropout(0.5))\n",
    "model_t.add(LSTM(55))\n",
    "model_t.add(Dense(128, activation='relu'))\n",
    "model_t.add(Dense(61, activation='softmax'))\n",
    "model_t.summary()\n",
    "\n",
    "model_t.compile(optimizer='RMSprop', loss='categorical_crossentropy', metrics=['accuracy'])"
   ]
  },
  {
   "cell_type": "code",
   "execution_count": null,
   "metadata": {
    "id": "dYimQfU_v6qa"
   },
   "outputs": [],
   "source": [
    "model_t.fit(X_no26,y_no_26, epochs=200, batch_size=128, validation_split=0.2)"
   ]
  },
  {
   "cell_type": "code",
   "execution_count": null,
   "metadata": {
    "id": "2rCBhwzSv6nh"
   },
   "outputs": [],
   "source": []
  },
  {
   "cell_type": "code",
   "execution_count": null,
   "metadata": {
    "id": "OfzIjpFNv6hW"
   },
   "outputs": [],
   "source": []
  },
  {
   "cell_type": "markdown",
   "metadata": {
    "id": "RFcJ5-phv6eM"
   },
   "source": [
    "- non_exercise만 빼서 한 실험은 성공적임.\n",
    "- non_exercise를 뺀 나머지 데이터 학습은 안좋음\n",
    "- 아무래도 너무 많은 레이블이 있어서 그런듯\n",
    "- 모든 경우의 모델을 만드는게 가장 성능이 좋을 것으로 보임"
   ]
  },
  {
   "cell_type": "code",
   "execution_count": null,
   "metadata": {
    "id": "igQuxwD_DyFO"
   },
   "outputs": [],
   "source": []
  },
  {
   "cell_type": "code",
   "execution_count": null,
   "metadata": {
    "colab": {
     "base_uri": "https://localhost:8080/",
     "height": 402
    },
    "executionInfo": {
     "elapsed": 690,
     "status": "ok",
     "timestamp": 1612593574820,
     "user": {
      "displayName": "박인창",
      "photoUrl": "",
      "userId": "11568833197762759465"
     },
     "user_tz": -540
    },
    "id": "oVGt44QEDyB1",
    "outputId": "8e528323-f8a7-49d2-cb9b-816a4b057ad6"
   },
   "outputs": [
    {
     "data": {
      "text/html": [
       "<div>\n",
       "<style scoped>\n",
       "    .dataframe tbody tr th:only-of-type {\n",
       "        vertical-align: middle;\n",
       "    }\n",
       "\n",
       "    .dataframe tbody tr th {\n",
       "        vertical-align: top;\n",
       "    }\n",
       "\n",
       "    .dataframe thead th {\n",
       "        text-align: right;\n",
       "    }\n",
       "</style>\n",
       "<table border=\"1\" class=\"dataframe\">\n",
       "  <thead>\n",
       "    <tr style=\"text-align: right;\">\n",
       "      <th></th>\n",
       "      <th>id</th>\n",
       "      <th>time</th>\n",
       "      <th>acc_x</th>\n",
       "      <th>acc_y</th>\n",
       "      <th>acc_z</th>\n",
       "      <th>gy_x</th>\n",
       "      <th>gy_y</th>\n",
       "      <th>gy_z</th>\n",
       "      <th>label</th>\n",
       "      <th>label_desc</th>\n",
       "    </tr>\n",
       "  </thead>\n",
       "  <tbody>\n",
       "    <tr>\n",
       "      <th>0</th>\n",
       "      <td>0</td>\n",
       "      <td>0</td>\n",
       "      <td>1.206087</td>\n",
       "      <td>-0.179371</td>\n",
       "      <td>-0.148447</td>\n",
       "      <td>-0.591608</td>\n",
       "      <td>-30.549010</td>\n",
       "      <td>-31.676112</td>\n",
       "      <td>37</td>\n",
       "      <td>Shoulder Press (dumbbell)</td>\n",
       "    </tr>\n",
       "    <tr>\n",
       "      <th>1</th>\n",
       "      <td>0</td>\n",
       "      <td>1</td>\n",
       "      <td>1.287696</td>\n",
       "      <td>-0.198974</td>\n",
       "      <td>-0.182444</td>\n",
       "      <td>0.303100</td>\n",
       "      <td>-39.139103</td>\n",
       "      <td>-24.927216</td>\n",
       "      <td>37</td>\n",
       "      <td>Shoulder Press (dumbbell)</td>\n",
       "    </tr>\n",
       "    <tr>\n",
       "      <th>2</th>\n",
       "      <td>0</td>\n",
       "      <td>2</td>\n",
       "      <td>1.304609</td>\n",
       "      <td>-0.195114</td>\n",
       "      <td>-0.253382</td>\n",
       "      <td>-3.617278</td>\n",
       "      <td>-44.122565</td>\n",
       "      <td>-25.019629</td>\n",
       "      <td>37</td>\n",
       "      <td>Shoulder Press (dumbbell)</td>\n",
       "    </tr>\n",
       "    <tr>\n",
       "      <th>3</th>\n",
       "      <td>0</td>\n",
       "      <td>3</td>\n",
       "      <td>1.293095</td>\n",
       "      <td>-0.230366</td>\n",
       "      <td>-0.215210</td>\n",
       "      <td>2.712986</td>\n",
       "      <td>-53.597843</td>\n",
       "      <td>-27.454013</td>\n",
       "      <td>37</td>\n",
       "      <td>Shoulder Press (dumbbell)</td>\n",
       "    </tr>\n",
       "    <tr>\n",
       "      <th>4</th>\n",
       "      <td>0</td>\n",
       "      <td>4</td>\n",
       "      <td>1.300887</td>\n",
       "      <td>-0.187757</td>\n",
       "      <td>-0.222523</td>\n",
       "      <td>4.286707</td>\n",
       "      <td>-57.906561</td>\n",
       "      <td>-27.961234</td>\n",
       "      <td>37</td>\n",
       "      <td>Shoulder Press (dumbbell)</td>\n",
       "    </tr>\n",
       "    <tr>\n",
       "      <th>...</th>\n",
       "      <td>...</td>\n",
       "      <td>...</td>\n",
       "      <td>...</td>\n",
       "      <td>...</td>\n",
       "      <td>...</td>\n",
       "      <td>...</td>\n",
       "      <td>...</td>\n",
       "      <td>...</td>\n",
       "      <td>...</td>\n",
       "      <td>...</td>\n",
       "    </tr>\n",
       "    <tr>\n",
       "      <th>1874995</th>\n",
       "      <td>3124</td>\n",
       "      <td>595</td>\n",
       "      <td>-0.712530</td>\n",
       "      <td>-0.658357</td>\n",
       "      <td>0.293707</td>\n",
       "      <td>-29.367857</td>\n",
       "      <td>-104.013664</td>\n",
       "      <td>-76.290437</td>\n",
       "      <td>2</td>\n",
       "      <td>Bicep Curl</td>\n",
       "    </tr>\n",
       "    <tr>\n",
       "      <th>1874996</th>\n",
       "      <td>3124</td>\n",
       "      <td>596</td>\n",
       "      <td>-0.683037</td>\n",
       "      <td>-0.658466</td>\n",
       "      <td>0.329223</td>\n",
       "      <td>-30.149089</td>\n",
       "      <td>-101.796809</td>\n",
       "      <td>-76.625087</td>\n",
       "      <td>2</td>\n",
       "      <td>Bicep Curl</td>\n",
       "    </tr>\n",
       "    <tr>\n",
       "      <th>1874997</th>\n",
       "      <td>3124</td>\n",
       "      <td>597</td>\n",
       "      <td>-0.664730</td>\n",
       "      <td>-0.666625</td>\n",
       "      <td>0.364114</td>\n",
       "      <td>-27.873095</td>\n",
       "      <td>-98.776072</td>\n",
       "      <td>-79.365125</td>\n",
       "      <td>2</td>\n",
       "      <td>Bicep Curl</td>\n",
       "    </tr>\n",
       "    <tr>\n",
       "      <th>1874998</th>\n",
       "      <td>3124</td>\n",
       "      <td>598</td>\n",
       "      <td>-0.630534</td>\n",
       "      <td>-0.682565</td>\n",
       "      <td>0.373696</td>\n",
       "      <td>-23.636550</td>\n",
       "      <td>-99.139495</td>\n",
       "      <td>-80.259478</td>\n",
       "      <td>2</td>\n",
       "      <td>Bicep Curl</td>\n",
       "    </tr>\n",
       "    <tr>\n",
       "      <th>1874999</th>\n",
       "      <td>3124</td>\n",
       "      <td>599</td>\n",
       "      <td>-0.578351</td>\n",
       "      <td>-0.700235</td>\n",
       "      <td>0.384390</td>\n",
       "      <td>-17.917626</td>\n",
       "      <td>-100.181873</td>\n",
       "      <td>-80.676229</td>\n",
       "      <td>2</td>\n",
       "      <td>Bicep Curl</td>\n",
       "    </tr>\n",
       "  </tbody>\n",
       "</table>\n",
       "<p>964200 rows × 10 columns</p>\n",
       "</div>"
      ],
      "text/plain": [
       "           id  time     acc_x  ...       gy_z  label                 label_desc\n",
       "0           0     0  1.206087  ... -31.676112     37  Shoulder Press (dumbbell)\n",
       "1           0     1  1.287696  ... -24.927216     37  Shoulder Press (dumbbell)\n",
       "2           0     2  1.304609  ... -25.019629     37  Shoulder Press (dumbbell)\n",
       "3           0     3  1.293095  ... -27.454013     37  Shoulder Press (dumbbell)\n",
       "4           0     4  1.300887  ... -27.961234     37  Shoulder Press (dumbbell)\n",
       "...       ...   ...       ...  ...        ...    ...                        ...\n",
       "1874995  3124   595 -0.712530  ... -76.290437      2                 Bicep Curl\n",
       "1874996  3124   596 -0.683037  ... -76.625087      2                 Bicep Curl\n",
       "1874997  3124   597 -0.664730  ... -79.365125      2                 Bicep Curl\n",
       "1874998  3124   598 -0.630534  ... -80.259478      2                 Bicep Curl\n",
       "1874999  3124   599 -0.578351  ... -80.676229      2                 Bicep Curl\n",
       "\n",
       "[964200 rows x 10 columns]"
      ]
     },
     "execution_count": 15,
     "metadata": {
      "tags": []
     },
     "output_type": "execute_result"
    }
   ],
   "source": [
    "train_no26"
   ]
  },
  {
   "cell_type": "code",
   "execution_count": null,
   "metadata": {
    "id": "4UaoWtT4Dx-z"
   },
   "outputs": [],
   "source": [
    "def shoulder(df):\n",
    "    if df == 37:\n",
    "        return 1\n",
    "    else:\n",
    "        return 0"
   ]
  },
  {
   "cell_type": "code",
   "execution_count": null,
   "metadata": {
    "colab": {
     "base_uri": "https://localhost:8080/"
    },
    "executionInfo": {
     "elapsed": 1297,
     "status": "ok",
     "timestamp": 1612604998073,
     "user": {
      "displayName": "박인창",
      "photoUrl": "",
      "userId": "11568833197762759465"
     },
     "user_tz": -540
    },
    "id": "BLjSDf0_Dx7-",
    "outputId": "80543f99-7962-4c23-e63d-eba240b0543b"
   },
   "outputs": [
    {
     "name": "stderr",
     "output_type": "stream",
     "text": [
      "/usr/local/lib/python3.6/dist-packages/ipykernel_launcher.py:1: SettingWithCopyWarning: \n",
      "A value is trying to be set on a copy of a slice from a DataFrame.\n",
      "Try using .loc[row_indexer,col_indexer] = value instead\n",
      "\n",
      "See the caveats in the documentation: https://pandas.pydata.org/pandas-docs/stable/user_guide/indexing.html#returning-a-view-versus-a-copy\n",
      "  \"\"\"Entry point for launching an IPython kernel.\n"
     ]
    }
   ],
   "source": [
    "train_no26['no37'] = train_no26['label'].apply(shoulder)"
   ]
  },
  {
   "cell_type": "code",
   "execution_count": null,
   "metadata": {
    "colab": {
     "base_uri": "https://localhost:8080/",
     "height": 402
    },
    "executionInfo": {
     "elapsed": 693,
     "status": "ok",
     "timestamp": 1612593706792,
     "user": {
      "displayName": "박인창",
      "photoUrl": "",
      "userId": "11568833197762759465"
     },
     "user_tz": -540
    },
    "id": "8ViQxu9mDx4i",
    "outputId": "62c8c8fa-01e6-49ac-9208-3dbb8233be17"
   },
   "outputs": [
    {
     "data": {
      "text/html": [
       "<div>\n",
       "<style scoped>\n",
       "    .dataframe tbody tr th:only-of-type {\n",
       "        vertical-align: middle;\n",
       "    }\n",
       "\n",
       "    .dataframe tbody tr th {\n",
       "        vertical-align: top;\n",
       "    }\n",
       "\n",
       "    .dataframe thead th {\n",
       "        text-align: right;\n",
       "    }\n",
       "</style>\n",
       "<table border=\"1\" class=\"dataframe\">\n",
       "  <thead>\n",
       "    <tr style=\"text-align: right;\">\n",
       "      <th></th>\n",
       "      <th>id</th>\n",
       "      <th>time</th>\n",
       "      <th>acc_x</th>\n",
       "      <th>acc_y</th>\n",
       "      <th>acc_z</th>\n",
       "      <th>gy_x</th>\n",
       "      <th>gy_y</th>\n",
       "      <th>gy_z</th>\n",
       "      <th>label</th>\n",
       "      <th>label_desc</th>\n",
       "      <th>no37</th>\n",
       "    </tr>\n",
       "  </thead>\n",
       "  <tbody>\n",
       "    <tr>\n",
       "      <th>0</th>\n",
       "      <td>0</td>\n",
       "      <td>0</td>\n",
       "      <td>1.206087</td>\n",
       "      <td>-0.179371</td>\n",
       "      <td>-0.148447</td>\n",
       "      <td>-0.591608</td>\n",
       "      <td>-30.549010</td>\n",
       "      <td>-31.676112</td>\n",
       "      <td>37</td>\n",
       "      <td>Shoulder Press (dumbbell)</td>\n",
       "      <td>1</td>\n",
       "    </tr>\n",
       "    <tr>\n",
       "      <th>1</th>\n",
       "      <td>0</td>\n",
       "      <td>1</td>\n",
       "      <td>1.287696</td>\n",
       "      <td>-0.198974</td>\n",
       "      <td>-0.182444</td>\n",
       "      <td>0.303100</td>\n",
       "      <td>-39.139103</td>\n",
       "      <td>-24.927216</td>\n",
       "      <td>37</td>\n",
       "      <td>Shoulder Press (dumbbell)</td>\n",
       "      <td>1</td>\n",
       "    </tr>\n",
       "    <tr>\n",
       "      <th>2</th>\n",
       "      <td>0</td>\n",
       "      <td>2</td>\n",
       "      <td>1.304609</td>\n",
       "      <td>-0.195114</td>\n",
       "      <td>-0.253382</td>\n",
       "      <td>-3.617278</td>\n",
       "      <td>-44.122565</td>\n",
       "      <td>-25.019629</td>\n",
       "      <td>37</td>\n",
       "      <td>Shoulder Press (dumbbell)</td>\n",
       "      <td>1</td>\n",
       "    </tr>\n",
       "    <tr>\n",
       "      <th>3</th>\n",
       "      <td>0</td>\n",
       "      <td>3</td>\n",
       "      <td>1.293095</td>\n",
       "      <td>-0.230366</td>\n",
       "      <td>-0.215210</td>\n",
       "      <td>2.712986</td>\n",
       "      <td>-53.597843</td>\n",
       "      <td>-27.454013</td>\n",
       "      <td>37</td>\n",
       "      <td>Shoulder Press (dumbbell)</td>\n",
       "      <td>1</td>\n",
       "    </tr>\n",
       "    <tr>\n",
       "      <th>4</th>\n",
       "      <td>0</td>\n",
       "      <td>4</td>\n",
       "      <td>1.300887</td>\n",
       "      <td>-0.187757</td>\n",
       "      <td>-0.222523</td>\n",
       "      <td>4.286707</td>\n",
       "      <td>-57.906561</td>\n",
       "      <td>-27.961234</td>\n",
       "      <td>37</td>\n",
       "      <td>Shoulder Press (dumbbell)</td>\n",
       "      <td>1</td>\n",
       "    </tr>\n",
       "    <tr>\n",
       "      <th>...</th>\n",
       "      <td>...</td>\n",
       "      <td>...</td>\n",
       "      <td>...</td>\n",
       "      <td>...</td>\n",
       "      <td>...</td>\n",
       "      <td>...</td>\n",
       "      <td>...</td>\n",
       "      <td>...</td>\n",
       "      <td>...</td>\n",
       "      <td>...</td>\n",
       "      <td>...</td>\n",
       "    </tr>\n",
       "    <tr>\n",
       "      <th>1874995</th>\n",
       "      <td>3124</td>\n",
       "      <td>595</td>\n",
       "      <td>-0.712530</td>\n",
       "      <td>-0.658357</td>\n",
       "      <td>0.293707</td>\n",
       "      <td>-29.367857</td>\n",
       "      <td>-104.013664</td>\n",
       "      <td>-76.290437</td>\n",
       "      <td>2</td>\n",
       "      <td>Bicep Curl</td>\n",
       "      <td>0</td>\n",
       "    </tr>\n",
       "    <tr>\n",
       "      <th>1874996</th>\n",
       "      <td>3124</td>\n",
       "      <td>596</td>\n",
       "      <td>-0.683037</td>\n",
       "      <td>-0.658466</td>\n",
       "      <td>0.329223</td>\n",
       "      <td>-30.149089</td>\n",
       "      <td>-101.796809</td>\n",
       "      <td>-76.625087</td>\n",
       "      <td>2</td>\n",
       "      <td>Bicep Curl</td>\n",
       "      <td>0</td>\n",
       "    </tr>\n",
       "    <tr>\n",
       "      <th>1874997</th>\n",
       "      <td>3124</td>\n",
       "      <td>597</td>\n",
       "      <td>-0.664730</td>\n",
       "      <td>-0.666625</td>\n",
       "      <td>0.364114</td>\n",
       "      <td>-27.873095</td>\n",
       "      <td>-98.776072</td>\n",
       "      <td>-79.365125</td>\n",
       "      <td>2</td>\n",
       "      <td>Bicep Curl</td>\n",
       "      <td>0</td>\n",
       "    </tr>\n",
       "    <tr>\n",
       "      <th>1874998</th>\n",
       "      <td>3124</td>\n",
       "      <td>598</td>\n",
       "      <td>-0.630534</td>\n",
       "      <td>-0.682565</td>\n",
       "      <td>0.373696</td>\n",
       "      <td>-23.636550</td>\n",
       "      <td>-99.139495</td>\n",
       "      <td>-80.259478</td>\n",
       "      <td>2</td>\n",
       "      <td>Bicep Curl</td>\n",
       "      <td>0</td>\n",
       "    </tr>\n",
       "    <tr>\n",
       "      <th>1874999</th>\n",
       "      <td>3124</td>\n",
       "      <td>599</td>\n",
       "      <td>-0.578351</td>\n",
       "      <td>-0.700235</td>\n",
       "      <td>0.384390</td>\n",
       "      <td>-17.917626</td>\n",
       "      <td>-100.181873</td>\n",
       "      <td>-80.676229</td>\n",
       "      <td>2</td>\n",
       "      <td>Bicep Curl</td>\n",
       "      <td>0</td>\n",
       "    </tr>\n",
       "  </tbody>\n",
       "</table>\n",
       "<p>964200 rows × 11 columns</p>\n",
       "</div>"
      ],
      "text/plain": [
       "           id  time     acc_x  ...  label                 label_desc  no37\n",
       "0           0     0  1.206087  ...     37  Shoulder Press (dumbbell)     1\n",
       "1           0     1  1.287696  ...     37  Shoulder Press (dumbbell)     1\n",
       "2           0     2  1.304609  ...     37  Shoulder Press (dumbbell)     1\n",
       "3           0     3  1.293095  ...     37  Shoulder Press (dumbbell)     1\n",
       "4           0     4  1.300887  ...     37  Shoulder Press (dumbbell)     1\n",
       "...       ...   ...       ...  ...    ...                        ...   ...\n",
       "1874995  3124   595 -0.712530  ...      2                 Bicep Curl     0\n",
       "1874996  3124   596 -0.683037  ...      2                 Bicep Curl     0\n",
       "1874997  3124   597 -0.664730  ...      2                 Bicep Curl     0\n",
       "1874998  3124   598 -0.630534  ...      2                 Bicep Curl     0\n",
       "1874999  3124   599 -0.578351  ...      2                 Bicep Curl     0\n",
       "\n",
       "[964200 rows x 11 columns]"
      ]
     },
     "execution_count": 20,
     "metadata": {
      "tags": []
     },
     "output_type": "execute_result"
    }
   ],
   "source": [
    "train_no26"
   ]
  },
  {
   "cell_type": "code",
   "execution_count": null,
   "metadata": {
    "colab": {
     "base_uri": "https://localhost:8080/"
    },
    "executionInfo": {
     "elapsed": 6587,
     "status": "ok",
     "timestamp": 1612605007590,
     "user": {
      "displayName": "박인창",
      "photoUrl": "",
      "userId": "11568833197762759465"
     },
     "user_tz": -540
    },
    "id": "Dfc_-mB1Dx2N",
    "outputId": "5ce68b0d-8e2d-4a3c-b11b-4ed39840718a"
   },
   "outputs": [
    {
     "data": {
      "text/plain": [
       "TensorShape([1607, 600, 6])"
      ]
     },
     "execution_count": 14,
     "metadata": {
      "tags": []
     },
     "output_type": "execute_result"
    }
   ],
   "source": [
    "X=tf.reshape(np.array(train_no26.iloc[:,2:8]),[-1, 600, 6])\n",
    "X.shape"
   ]
  },
  {
   "cell_type": "code",
   "execution_count": null,
   "metadata": {
    "colab": {
     "base_uri": "https://localhost:8080/"
    },
    "executionInfo": {
     "elapsed": 1637,
     "status": "ok",
     "timestamp": 1612605009265,
     "user": {
      "displayName": "박인창",
      "photoUrl": "",
      "userId": "11568833197762759465"
     },
     "user_tz": -540
    },
    "id": "lomwGj07FRp-",
    "outputId": "0ca70f08-557b-4dfd-e0e1-e3a0a3a2f4c1"
   },
   "outputs": [
    {
     "name": "stderr",
     "output_type": "stream",
     "text": [
      "/usr/local/lib/python3.6/dist-packages/ipykernel_launcher.py:1: SettingWithCopyWarning: \n",
      "A value is trying to be set on a copy of a slice from a DataFrame.\n",
      "Try using .loc[row_indexer,col_indexer] = value instead\n",
      "\n",
      "See the caveats in the documentation: https://pandas.pydata.org/pandas-docs/stable/user_guide/indexing.html#returning-a-view-versus-a-copy\n",
      "  \"\"\"Entry point for launching an IPython kernel.\n"
     ]
    }
   ],
   "source": [
    "train_labels_t['no37'] = train_labels_t['label'].apply(shoulder)"
   ]
  },
  {
   "cell_type": "code",
   "execution_count": null,
   "metadata": {
    "colab": {
     "base_uri": "https://localhost:8080/",
     "height": 402
    },
    "executionInfo": {
     "elapsed": 557,
     "status": "ok",
     "timestamp": 1612595198792,
     "user": {
      "displayName": "박인창",
      "photoUrl": "",
      "userId": "11568833197762759465"
     },
     "user_tz": -540
    },
    "id": "Q4zjs2_JFy4Y",
    "outputId": "aa1da43d-dc29-4526-848e-4e54043a6152"
   },
   "outputs": [
    {
     "data": {
      "text/html": [
       "<div>\n",
       "<style scoped>\n",
       "    .dataframe tbody tr th:only-of-type {\n",
       "        vertical-align: middle;\n",
       "    }\n",
       "\n",
       "    .dataframe tbody tr th {\n",
       "        vertical-align: top;\n",
       "    }\n",
       "\n",
       "    .dataframe thead th {\n",
       "        text-align: right;\n",
       "    }\n",
       "</style>\n",
       "<table border=\"1\" class=\"dataframe\">\n",
       "  <thead>\n",
       "    <tr style=\"text-align: right;\">\n",
       "      <th></th>\n",
       "      <th>id</th>\n",
       "      <th>label</th>\n",
       "      <th>label_desc</th>\n",
       "      <th>non_ex_yn</th>\n",
       "      <th>no37</th>\n",
       "    </tr>\n",
       "  </thead>\n",
       "  <tbody>\n",
       "    <tr>\n",
       "      <th>0</th>\n",
       "      <td>0</td>\n",
       "      <td>37</td>\n",
       "      <td>Shoulder Press (dumbbell)</td>\n",
       "      <td>1</td>\n",
       "      <td>1</td>\n",
       "    </tr>\n",
       "    <tr>\n",
       "      <th>2</th>\n",
       "      <td>2</td>\n",
       "      <td>3</td>\n",
       "      <td>Biceps Curl (band)</td>\n",
       "      <td>1</td>\n",
       "      <td>0</td>\n",
       "    </tr>\n",
       "    <tr>\n",
       "      <th>12</th>\n",
       "      <td>12</td>\n",
       "      <td>39</td>\n",
       "      <td>Side Plank Right side</td>\n",
       "      <td>1</td>\n",
       "      <td>0</td>\n",
       "    </tr>\n",
       "    <tr>\n",
       "      <th>13</th>\n",
       "      <td>13</td>\n",
       "      <td>28</td>\n",
       "      <td>Plank</td>\n",
       "      <td>1</td>\n",
       "      <td>0</td>\n",
       "    </tr>\n",
       "    <tr>\n",
       "      <th>20</th>\n",
       "      <td>20</td>\n",
       "      <td>6</td>\n",
       "      <td>Chest Press (rack)</td>\n",
       "      <td>1</td>\n",
       "      <td>0</td>\n",
       "    </tr>\n",
       "    <tr>\n",
       "      <th>...</th>\n",
       "      <td>...</td>\n",
       "      <td>...</td>\n",
       "      <td>...</td>\n",
       "      <td>...</td>\n",
       "      <td>...</td>\n",
       "    </tr>\n",
       "    <tr>\n",
       "      <th>3117</th>\n",
       "      <td>3117</td>\n",
       "      <td>60</td>\n",
       "      <td>Wall Squat</td>\n",
       "      <td>1</td>\n",
       "      <td>0</td>\n",
       "    </tr>\n",
       "    <tr>\n",
       "      <th>3118</th>\n",
       "      <td>3118</td>\n",
       "      <td>53</td>\n",
       "      <td>Triceps Kickback (knee on bench) (right arm)</td>\n",
       "      <td>1</td>\n",
       "      <td>0</td>\n",
       "    </tr>\n",
       "    <tr>\n",
       "      <th>3119</th>\n",
       "      <td>3119</td>\n",
       "      <td>17</td>\n",
       "      <td>Fast Alternating Punches</td>\n",
       "      <td>1</td>\n",
       "      <td>0</td>\n",
       "    </tr>\n",
       "    <tr>\n",
       "      <th>3122</th>\n",
       "      <td>3122</td>\n",
       "      <td>15</td>\n",
       "      <td>Dynamic Stretch (at your own pace)</td>\n",
       "      <td>1</td>\n",
       "      <td>0</td>\n",
       "    </tr>\n",
       "    <tr>\n",
       "      <th>3124</th>\n",
       "      <td>3124</td>\n",
       "      <td>2</td>\n",
       "      <td>Bicep Curl</td>\n",
       "      <td>1</td>\n",
       "      <td>0</td>\n",
       "    </tr>\n",
       "  </tbody>\n",
       "</table>\n",
       "<p>1607 rows × 5 columns</p>\n",
       "</div>"
      ],
      "text/plain": [
       "        id  label  ... non_ex_yn  no37\n",
       "0        0     37  ...         1     1\n",
       "2        2      3  ...         1     0\n",
       "12      12     39  ...         1     0\n",
       "13      13     28  ...         1     0\n",
       "20      20      6  ...         1     0\n",
       "...    ...    ...  ...       ...   ...\n",
       "3117  3117     60  ...         1     0\n",
       "3118  3118     53  ...         1     0\n",
       "3119  3119     17  ...         1     0\n",
       "3122  3122     15  ...         1     0\n",
       "3124  3124      2  ...         1     0\n",
       "\n",
       "[1607 rows x 5 columns]"
      ]
     },
     "execution_count": 40,
     "metadata": {
      "tags": []
     },
     "output_type": "execute_result"
    }
   ],
   "source": [
    "train_labels_t"
   ]
  },
  {
   "cell_type": "code",
   "execution_count": null,
   "metadata": {
    "colab": {
     "base_uri": "https://localhost:8080/"
    },
    "executionInfo": {
     "elapsed": 842,
     "status": "ok",
     "timestamp": 1612605013263,
     "user": {
      "displayName": "박인창",
      "photoUrl": "",
      "userId": "11568833197762759465"
     },
     "user_tz": -540
    },
    "id": "JAjEuTAFDxyk",
    "outputId": "95396dae-d7a9-4598-cc93-5448fb7537d2"
   },
   "outputs": [
    {
     "data": {
      "text/plain": [
       "(1607, 2)"
      ]
     },
     "execution_count": 16,
     "metadata": {
      "tags": []
     },
     "output_type": "execute_result"
    }
   ],
   "source": [
    "y_no37 = tf.keras.utils.to_categorical(train_labels_t['no37'])\n",
    "y_no37.shape"
   ]
  },
  {
   "cell_type": "code",
   "execution_count": null,
   "metadata": {
    "colab": {
     "base_uri": "https://localhost:8080/"
    },
    "executionInfo": {
     "elapsed": 719,
     "status": "ok",
     "timestamp": 1612595842877,
     "user": {
      "displayName": "박인창",
      "photoUrl": "",
      "userId": "11568833197762759465"
     },
     "user_tz": -540
    },
    "id": "Todl89tVDxvV",
    "outputId": "a28bc6d2-c0a9-4dec-d519-c01bd8d3a433"
   },
   "outputs": [
    {
     "name": "stdout",
     "output_type": "stream",
     "text": [
      "Model: \"sequential_3\"\n",
      "_________________________________________________________________\n",
      "Layer (type)                 Output Shape              Param #   \n",
      "=================================================================\n",
      "conv1d_8 (Conv1D)            (None, 596, 32)           992       \n",
      "_________________________________________________________________\n",
      "conv1d_9 (Conv1D)            (None, 592, 64)           10304     \n",
      "_________________________________________________________________\n",
      "max_pooling1d_4 (MaxPooling1 (None, 296, 64)           0         \n",
      "_________________________________________________________________\n",
      "dropout_4 (Dropout)          (None, 296, 64)           0         \n",
      "_________________________________________________________________\n",
      "conv1d_10 (Conv1D)           (None, 292, 128)          41088     \n",
      "_________________________________________________________________\n",
      "conv1d_11 (Conv1D)           (None, 288, 256)          164096    \n",
      "_________________________________________________________________\n",
      "max_pooling1d_5 (MaxPooling1 (None, 144, 256)          0         \n",
      "_________________________________________________________________\n",
      "dropout_5 (Dropout)          (None, 144, 256)          0         \n",
      "_________________________________________________________________\n",
      "lstm_2 (LSTM)                (None, 55)                68640     \n",
      "_________________________________________________________________\n",
      "dense_4 (Dense)              (None, 128)               7168      \n",
      "_________________________________________________________________\n",
      "dropout_6 (Dropout)          (None, 128)               0         \n",
      "_________________________________________________________________\n",
      "dense_5 (Dense)              (None, 2)                 258       \n",
      "=================================================================\n",
      "Total params: 292,546\n",
      "Trainable params: 292,546\n",
      "Non-trainable params: 0\n",
      "_________________________________________________________________\n"
     ]
    }
   ],
   "source": [
    "model_t = Sequential()\n",
    "model_t.add(Conv1D(filters = 32,kernel_size= 5, activation='relu',input_shape=(600,6)))\n",
    "model_t.add(Conv1D(kernel_size=5, filters = 64,activation='relu'))\n",
    "model_t.add(MaxPooling1D(pool_size=2))\n",
    "model_t.add(Dropout(0.5))\n",
    "model_t.add(Conv1D(filters = 128,kernel_size= 5, activation='relu'))\n",
    "model_t.add(Conv1D(kernel_size=5, filters=256,activation='relu'))\n",
    "model_t.add(MaxPooling1D(pool_size=2))\n",
    "model_t.add(Dropout(0.5))\n",
    "model_t.add(LSTM(55))\n",
    "model_t.add(Dense(128, activation='relu'))\n",
    "model_t.add(Dropout(0.5))\n",
    "model_t.add(Dense(2, activation='sigmoid'))\n",
    "model_t.summary()\n",
    "\n",
    "model_t.compile(optimizer='RMSprop', loss='categorical_crossentropy', metrics=['accuracy'])"
   ]
  },
  {
   "cell_type": "code",
   "execution_count": null,
   "metadata": {
    "colab": {
     "base_uri": "https://localhost:8080/"
    },
    "executionInfo": {
     "elapsed": 713,
     "status": "ok",
     "timestamp": 1612595946567,
     "user": {
      "displayName": "박인창",
      "photoUrl": "",
      "userId": "11568833197762759465"
     },
     "user_tz": -540
    },
    "id": "46f61Q5iNKst",
    "outputId": "48437dc5-5de5-4a62-bf86-7f00e02bfab5"
   },
   "outputs": [
    {
     "name": "stdout",
     "output_type": "stream",
     "text": [
      "Model: \"sequential_4\"\n",
      "_________________________________________________________________\n",
      "Layer (type)                 Output Shape              Param #   \n",
      "=================================================================\n",
      "conv1d_12 (Conv1D)           (None, 596, 32)           992       \n",
      "_________________________________________________________________\n",
      "conv1d_13 (Conv1D)           (None, 592, 64)           10304     \n",
      "_________________________________________________________________\n",
      "max_pooling1d_6 (MaxPooling1 (None, 296, 64)           0         \n",
      "_________________________________________________________________\n",
      "dropout_7 (Dropout)          (None, 296, 64)           0         \n",
      "_________________________________________________________________\n",
      "lstm_3 (LSTM)                (None, 55)                26400     \n",
      "_________________________________________________________________\n",
      "dense_6 (Dense)              (None, 256)               14336     \n",
      "_________________________________________________________________\n",
      "dropout_8 (Dropout)          (None, 256)               0         \n",
      "_________________________________________________________________\n",
      "dense_7 (Dense)              (None, 128)               32896     \n",
      "_________________________________________________________________\n",
      "dropout_9 (Dropout)          (None, 128)               0         \n",
      "_________________________________________________________________\n",
      "dense_8 (Dense)              (None, 64)                8256      \n",
      "_________________________________________________________________\n",
      "dense_9 (Dense)              (None, 2)                 130       \n",
      "=================================================================\n",
      "Total params: 93,314\n",
      "Trainable params: 93,314\n",
      "Non-trainable params: 0\n",
      "_________________________________________________________________\n"
     ]
    }
   ],
   "source": [
    "model_t = Sequential()\n",
    "model_t.add(Conv1D(filters = 32,kernel_size= 5, activation='relu',input_shape=(600,6)))\n",
    "model_t.add(Conv1D(kernel_size=5, filters = 64,activation='relu'))\n",
    "model_t.add(MaxPooling1D(pool_size=2))\n",
    "model_t.add(Dropout(0.5))\n",
    "model_t.add(LSTM(55))\n",
    "model_t.add(Dense(256, activation='relu'))\n",
    "model_t.add(Dropout(0.5))\n",
    "model_t.add(Dense(128, activation='relu'))\n",
    "model_t.add(Dropout(0.5))\n",
    "model_t.add(Dense(64, activation='relu'))\n",
    "model_t.add(Dense(2, activation='sigmoid'))\n",
    "model_t.summary()\n",
    "\n",
    "model_t.compile(optimizer='Adam', loss='categorical_crossentropy', metrics=['accuracy'])"
   ]
  },
  {
   "cell_type": "code",
   "execution_count": null,
   "metadata": {
    "colab": {
     "base_uri": "https://localhost:8080/"
    },
    "executionInfo": {
     "elapsed": 669,
     "status": "ok",
     "timestamp": 1612595844414,
     "user": {
      "displayName": "박인창",
      "photoUrl": "",
      "userId": "11568833197762759465"
     },
     "user_tz": -540
    },
    "id": "89OSHcfFGQNY",
    "outputId": "c199bba3-e33f-491e-b49b-1ab79654c4c9"
   },
   "outputs": [
    {
     "data": {
      "text/plain": [
       "0    1572\n",
       "1      35\n",
       "Name: no37, dtype: int64"
      ]
     },
     "execution_count": 46,
     "metadata": {
      "tags": []
     },
     "output_type": "execute_result"
    }
   ],
   "source": [
    "train_labels_t['no37'].value_counts()"
   ]
  },
  {
   "cell_type": "code",
   "execution_count": null,
   "metadata": {
    "colab": {
     "base_uri": "https://localhost:8080/"
    },
    "executionInfo": {
     "elapsed": 14038,
     "status": "ok",
     "timestamp": 1612595978487,
     "user": {
      "displayName": "박인창",
      "photoUrl": "",
      "userId": "11568833197762759465"
     },
     "user_tz": -540
    },
    "id": "xDa6Cm_cFbtc",
    "outputId": "d4a1c726-ca58-4ff3-86cc-7ef86c3dbbf4"
   },
   "outputs": [
    {
     "name": "stdout",
     "output_type": "stream",
     "text": [
      "Epoch 1/200\n",
      "11/11 [==============================] - 0s 37ms/step - loss: 1.2968 - accuracy: 0.6848 - val_loss: 0.7043 - val_accuracy: 0.4006\n",
      "Epoch 2/200\n",
      "11/11 [==============================] - 0s 25ms/step - loss: 1.3227 - accuracy: 0.6638 - val_loss: 0.6511 - val_accuracy: 0.4814\n",
      "Epoch 3/200\n",
      "11/11 [==============================] - 0s 25ms/step - loss: 1.2601 - accuracy: 0.7237 - val_loss: 0.6147 - val_accuracy: 0.4938\n",
      "Epoch 4/200\n",
      "11/11 [==============================] - 0s 25ms/step - loss: 1.2340 - accuracy: 0.7346 - val_loss: 0.5885 - val_accuracy: 0.5000\n",
      "Epoch 5/200\n",
      "11/11 [==============================] - 0s 25ms/step - loss: 1.2076 - accuracy: 0.6809 - val_loss: 0.5530 - val_accuracy: 0.5590\n",
      "Epoch 6/200\n",
      "11/11 [==============================] - 0s 25ms/step - loss: 1.1407 - accuracy: 0.7035 - val_loss: 0.5832 - val_accuracy: 0.5000\n",
      "Epoch 7/200\n",
      "11/11 [==============================] - 0s 25ms/step - loss: 1.1538 - accuracy: 0.6895 - val_loss: 0.5904 - val_accuracy: 0.4938\n",
      "Epoch 8/200\n",
      "11/11 [==============================] - 0s 25ms/step - loss: 1.1264 - accuracy: 0.6451 - val_loss: 0.6145 - val_accuracy: 0.4596\n",
      "Epoch 9/200\n",
      "11/11 [==============================] - 0s 25ms/step - loss: 1.1133 - accuracy: 0.6739 - val_loss: 0.5625 - val_accuracy: 0.5404\n",
      "Epoch 10/200\n",
      "11/11 [==============================] - 0s 25ms/step - loss: 0.9980 - accuracy: 0.6732 - val_loss: 0.4560 - val_accuracy: 0.6988\n",
      "Epoch 11/200\n",
      "11/11 [==============================] - 0s 25ms/step - loss: 1.2954 - accuracy: 0.7953 - val_loss: 0.5785 - val_accuracy: 0.5342\n",
      "Epoch 12/200\n",
      "11/11 [==============================] - 0s 25ms/step - loss: 1.0287 - accuracy: 0.6241 - val_loss: 0.6242 - val_accuracy: 0.5124\n",
      "Epoch 13/200\n",
      "11/11 [==============================] - 0s 25ms/step - loss: 1.0795 - accuracy: 0.6817 - val_loss: 0.5138 - val_accuracy: 0.6398\n",
      "Epoch 14/200\n",
      "11/11 [==============================] - 0s 25ms/step - loss: 1.0665 - accuracy: 0.6840 - val_loss: 0.4559 - val_accuracy: 0.7205\n",
      "Epoch 15/200\n",
      "11/11 [==============================] - 0s 25ms/step - loss: 0.9265 - accuracy: 0.7245 - val_loss: 0.4320 - val_accuracy: 0.7174\n",
      "Epoch 16/200\n",
      "11/11 [==============================] - 0s 25ms/step - loss: 0.9999 - accuracy: 0.7377 - val_loss: 0.4949 - val_accuracy: 0.6708\n",
      "Epoch 17/200\n",
      "11/11 [==============================] - 0s 25ms/step - loss: 1.0753 - accuracy: 0.6459 - val_loss: 0.5169 - val_accuracy: 0.6087\n",
      "Epoch 18/200\n",
      "11/11 [==============================] - 0s 25ms/step - loss: 1.0372 - accuracy: 0.6887 - val_loss: 0.4945 - val_accuracy: 0.6304\n",
      "Epoch 19/200\n",
      "11/11 [==============================] - 0s 25ms/step - loss: 0.9421 - accuracy: 0.7276 - val_loss: 0.6337 - val_accuracy: 0.5373\n",
      "Epoch 20/200\n",
      "11/11 [==============================] - 0s 25ms/step - loss: 0.8720 - accuracy: 0.6086 - val_loss: 0.6714 - val_accuracy: 0.5901\n",
      "Epoch 21/200\n",
      "11/11 [==============================] - 0s 25ms/step - loss: 0.9236 - accuracy: 0.7401 - val_loss: 0.4094 - val_accuracy: 0.8043\n",
      "Epoch 22/200\n",
      "11/11 [==============================] - 0s 25ms/step - loss: 0.9332 - accuracy: 0.8397 - val_loss: 0.4613 - val_accuracy: 0.7516\n",
      "Epoch 23/200\n",
      "11/11 [==============================] - 0s 25ms/step - loss: 0.9827 - accuracy: 0.6840 - val_loss: 0.9401 - val_accuracy: 0.5062\n",
      "Epoch 24/200\n",
      "11/11 [==============================] - 0s 25ms/step - loss: 0.7965 - accuracy: 0.6475 - val_loss: 0.5340 - val_accuracy: 0.6708\n",
      "Epoch 25/200\n",
      "11/11 [==============================] - 0s 25ms/step - loss: 0.7606 - accuracy: 0.7930 - val_loss: 0.5395 - val_accuracy: 0.6770\n",
      "Epoch 26/200\n",
      "11/11 [==============================] - 0s 25ms/step - loss: 0.7673 - accuracy: 0.7650 - val_loss: 0.6033 - val_accuracy: 0.6149\n",
      "Epoch 27/200\n",
      "11/11 [==============================] - 0s 26ms/step - loss: 0.9130 - accuracy: 0.7152 - val_loss: 0.6532 - val_accuracy: 0.5776\n",
      "Epoch 28/200\n",
      "11/11 [==============================] - 0s 25ms/step - loss: 0.7721 - accuracy: 0.7852 - val_loss: 0.3650 - val_accuracy: 0.7795\n",
      "Epoch 29/200\n",
      "11/11 [==============================] - 0s 25ms/step - loss: 0.7020 - accuracy: 0.8724 - val_loss: 0.4999 - val_accuracy: 0.7081\n",
      "Epoch 30/200\n",
      "11/11 [==============================] - 0s 25ms/step - loss: 0.7173 - accuracy: 0.7409 - val_loss: 0.5594 - val_accuracy: 0.7081\n",
      "Epoch 31/200\n",
      "11/11 [==============================] - 0s 25ms/step - loss: 0.6612 - accuracy: 0.8187 - val_loss: 0.3526 - val_accuracy: 0.8354\n",
      "Epoch 32/200\n",
      "11/11 [==============================] - 0s 25ms/step - loss: 0.9500 - accuracy: 0.7121 - val_loss: 1.1964 - val_accuracy: 0.4317\n",
      "Epoch 33/200\n",
      "11/11 [==============================] - 0s 25ms/step - loss: 0.8302 - accuracy: 0.6163 - val_loss: 0.4417 - val_accuracy: 0.6925\n",
      "Epoch 34/200\n",
      "11/11 [==============================] - 0s 26ms/step - loss: 0.7605 - accuracy: 0.8420 - val_loss: 0.3576 - val_accuracy: 0.7578\n",
      "Epoch 35/200\n",
      "11/11 [==============================] - 0s 25ms/step - loss: 0.6455 - accuracy: 0.8467 - val_loss: 0.3634 - val_accuracy: 0.7826\n",
      "Epoch 36/200\n",
      "11/11 [==============================] - 0s 25ms/step - loss: 0.8659 - accuracy: 0.8179 - val_loss: 0.6628 - val_accuracy: 0.6087\n",
      "Epoch 37/200\n",
      "11/11 [==============================] - 0s 25ms/step - loss: 0.7396 - accuracy: 0.6732 - val_loss: 0.5139 - val_accuracy: 0.6770\n",
      "Epoch 38/200\n",
      "11/11 [==============================] - 0s 25ms/step - loss: 0.7409 - accuracy: 0.8226 - val_loss: 0.2977 - val_accuracy: 0.8106\n",
      "Epoch 39/200\n",
      "11/11 [==============================] - 0s 25ms/step - loss: 0.7462 - accuracy: 0.8389 - val_loss: 0.5102 - val_accuracy: 0.6957\n",
      "Epoch 40/200\n",
      "11/11 [==============================] - 0s 25ms/step - loss: 0.6755 - accuracy: 0.7837 - val_loss: 0.4010 - val_accuracy: 0.7453\n",
      "Epoch 41/200\n",
      "11/11 [==============================] - 0s 25ms/step - loss: 0.6120 - accuracy: 0.8257 - val_loss: 0.3627 - val_accuracy: 0.8043\n",
      "Epoch 42/200\n",
      "11/11 [==============================] - 0s 25ms/step - loss: 0.5652 - accuracy: 0.8755 - val_loss: 0.5267 - val_accuracy: 0.7236\n",
      "Epoch 43/200\n",
      "11/11 [==============================] - 0s 25ms/step - loss: 0.6029 - accuracy: 0.7339 - val_loss: 0.4970 - val_accuracy: 0.6988\n",
      "Epoch 44/200\n",
      "11/11 [==============================] - 0s 25ms/step - loss: 0.6870 - accuracy: 0.8545 - val_loss: 0.4612 - val_accuracy: 0.7236\n",
      "Epoch 45/200\n",
      "11/11 [==============================] - 0s 25ms/step - loss: 0.6074 - accuracy: 0.8000 - val_loss: 0.4473 - val_accuracy: 0.7516\n",
      "Epoch 46/200\n",
      "11/11 [==============================] - 0s 25ms/step - loss: 0.6075 - accuracy: 0.7790 - val_loss: 0.6458 - val_accuracy: 0.6304\n",
      "Epoch 47/200\n",
      "11/11 [==============================] - 0s 25ms/step - loss: 0.7102 - accuracy: 0.7798 - val_loss: 0.4838 - val_accuracy: 0.7516\n",
      "Epoch 48/200\n",
      "11/11 [==============================] - 0s 24ms/step - loss: 0.7655 - accuracy: 0.7673 - val_loss: 0.5680 - val_accuracy: 0.7143\n"
     ]
    },
    {
     "data": {
      "text/plain": [
       "<tensorflow.python.keras.callbacks.History at 0x7fb2aa142828>"
      ]
     },
     "execution_count": 50,
     "metadata": {
      "tags": []
     },
     "output_type": "execute_result"
    }
   ],
   "source": [
    "model_t.fit(X,y_no37, epochs=200, batch_size=128, validation_split=0.2,class_weight={0:1,1:44.9},callbacks = [tf.keras.callbacks.EarlyStopping(patience=10,monitor='val_loss')])"
   ]
  },
  {
   "cell_type": "code",
   "execution_count": null,
   "metadata": {
    "colab": {
     "base_uri": "https://localhost:8080/"
    },
    "executionInfo": {
     "elapsed": 1075,
     "status": "ok",
     "timestamp": 1612605350838,
     "user": {
      "displayName": "박인창",
      "photoUrl": "",
      "userId": "11568833197762759465"
     },
     "user_tz": -540
    },
    "id": "4VxnIxeNvkf-",
    "outputId": "694fa7c0-e537-4935-9840-72b6553884ba"
   },
   "outputs": [
    {
     "name": "stdout",
     "output_type": "stream",
     "text": [
      "Model: \"sequential_6\"\n",
      "_________________________________________________________________\n",
      "Layer (type)                 Output Shape              Param #   \n",
      "=================================================================\n",
      "conv1d_12 (Conv1D)           (None, 596, 32)           992       \n",
      "_________________________________________________________________\n",
      "conv1d_13 (Conv1D)           (None, 592, 64)           10304     \n",
      "_________________________________________________________________\n",
      "max_pooling1d_6 (MaxPooling1 (None, 296, 64)           0         \n",
      "_________________________________________________________________\n",
      "dropout_12 (Dropout)         (None, 296, 64)           0         \n",
      "_________________________________________________________________\n",
      "lstm_6 (LSTM)                (None, 55)                26400     \n",
      "_________________________________________________________________\n",
      "dense_20 (Dense)             (None, 256)               14336     \n",
      "_________________________________________________________________\n",
      "dropout_13 (Dropout)         (None, 256)               0         \n",
      "_________________________________________________________________\n",
      "dense_21 (Dense)             (None, 128)               32896     \n",
      "_________________________________________________________________\n",
      "dropout_14 (Dropout)         (None, 128)               0         \n",
      "_________________________________________________________________\n",
      "dense_22 (Dense)             (None, 64)                8256      \n",
      "_________________________________________________________________\n",
      "dense_23 (Dense)             (None, 2)                 130       \n",
      "=================================================================\n",
      "Total params: 93,314\n",
      "Trainable params: 93,314\n",
      "Non-trainable params: 0\n",
      "_________________________________________________________________\n"
     ]
    }
   ],
   "source": [
    "model_t = Sequential()\n",
    "model_t.add(Conv1D(filters = 32,kernel_size= 5, activation='relu',input_shape=(600,6)))\n",
    "model_t.add(Conv1D(kernel_size=5, filters = 64,activation='relu'))\n",
    "model_t.add(MaxPooling1D(pool_size=2))\n",
    "model_t.add(Dropout(0.5))\n",
    "model_t.add(LSTM(55))\n",
    "model_t.add(Dense(256, activation='relu'))\n",
    "model_t.add(Dropout(0.5))\n",
    "model_t.add(Dense(128, activation='relu'))\n",
    "model_t.add(Dropout(0.5))\n",
    "model_t.add(Dense(64, activation='relu'))\n",
    "model_t.add(Dense(2, activation='sigmoid'))\n",
    "model_t.summary()\n",
    "\n",
    "model_t.compile(optimizer=tf.keras.optimizers.Adam(lr=0.001), loss='categorical_crossentropy', metrics=['accuracy'])"
   ]
  },
  {
   "cell_type": "code",
   "execution_count": null,
   "metadata": {
    "colab": {
     "base_uri": "https://localhost:8080/"
    },
    "executionInfo": {
     "elapsed": 60129,
     "status": "ok",
     "timestamp": 1612605410170,
     "user": {
      "displayName": "박인창",
      "photoUrl": "",
      "userId": "11568833197762759465"
     },
     "user_tz": -540
    },
    "id": "T6E7en72GGVb",
    "outputId": "71669a6c-848c-41da-d195-7a314722e082"
   },
   "outputs": [
    {
     "name": "stdout",
     "output_type": "stream",
     "text": [
      "Epoch 1/200\n",
      "11/11 [==============================] - 2s 65ms/step - loss: 1.3657 - accuracy: 0.7492 - val_loss: 0.4588 - val_accuracy: 0.9752\n",
      "Epoch 2/200\n",
      "11/11 [==============================] - 0s 26ms/step - loss: 1.5244 - accuracy: 0.9290 - val_loss: 0.5656 - val_accuracy: 0.9441\n",
      "Epoch 3/200\n",
      "11/11 [==============================] - 0s 26ms/step - loss: 1.1915 - accuracy: 0.8460 - val_loss: 0.6460 - val_accuracy: 0.7143\n",
      "Epoch 4/200\n",
      "11/11 [==============================] - 0s 26ms/step - loss: 1.4641 - accuracy: 0.6999 - val_loss: 0.6552 - val_accuracy: 0.6335\n",
      "Epoch 5/200\n",
      "11/11 [==============================] - 0s 25ms/step - loss: 1.3515 - accuracy: 0.6937 - val_loss: 0.6235 - val_accuracy: 0.6677\n",
      "Epoch 6/200\n",
      "11/11 [==============================] - 0s 26ms/step - loss: 1.3048 - accuracy: 0.8239 - val_loss: 0.5886 - val_accuracy: 0.7609\n",
      "Epoch 7/200\n",
      "11/11 [==============================] - 0s 26ms/step - loss: 1.2585 - accuracy: 0.7865 - val_loss: 0.5711 - val_accuracy: 0.6677\n",
      "Epoch 8/200\n",
      "11/11 [==============================] - 0s 26ms/step - loss: 1.1664 - accuracy: 0.7762 - val_loss: 0.5280 - val_accuracy: 0.7298\n",
      "Epoch 9/200\n",
      "11/11 [==============================] - 0s 25ms/step - loss: 1.1923 - accuracy: 0.7639 - val_loss: 0.6163 - val_accuracy: 0.5093\n",
      "Epoch 10/200\n",
      "11/11 [==============================] - 0s 26ms/step - loss: 1.3149 - accuracy: 0.5954 - val_loss: 0.6869 - val_accuracy: 0.4068\n",
      "Epoch 11/200\n",
      "11/11 [==============================] - 0s 25ms/step - loss: 1.0046 - accuracy: 0.6405 - val_loss: 0.5860 - val_accuracy: 0.5590\n",
      "Epoch 12/200\n",
      "11/11 [==============================] - 0s 25ms/step - loss: 1.0078 - accuracy: 0.6956 - val_loss: 0.6484 - val_accuracy: 0.4907\n",
      "Epoch 13/200\n",
      "11/11 [==============================] - 0s 26ms/step - loss: 1.1899 - accuracy: 0.6629 - val_loss: 0.6480 - val_accuracy: 0.4845\n",
      "Epoch 14/200\n",
      "11/11 [==============================] - 0s 26ms/step - loss: 0.9560 - accuracy: 0.7264 - val_loss: 0.6627 - val_accuracy: 0.4534\n",
      "Epoch 15/200\n",
      "11/11 [==============================] - 0s 26ms/step - loss: 1.1367 - accuracy: 0.6137 - val_loss: 0.6488 - val_accuracy: 0.5093\n",
      "Epoch 16/200\n",
      "11/11 [==============================] - 0s 26ms/step - loss: 1.0222 - accuracy: 0.6994 - val_loss: 0.7597 - val_accuracy: 0.3851\n",
      "Epoch 17/200\n",
      "11/11 [==============================] - 0s 26ms/step - loss: 1.1609 - accuracy: 0.6133 - val_loss: 0.6843 - val_accuracy: 0.4534\n",
      "Epoch 18/200\n",
      "11/11 [==============================] - 0s 26ms/step - loss: 1.0738 - accuracy: 0.6791 - val_loss: 0.5563 - val_accuracy: 0.5901\n",
      "Epoch 19/200\n",
      "11/11 [==============================] - 0s 26ms/step - loss: 1.2011 - accuracy: 0.7313 - val_loss: 0.7969 - val_accuracy: 0.4037\n",
      "Epoch 20/200\n",
      "11/11 [==============================] - 0s 26ms/step - loss: 1.3510 - accuracy: 0.6209 - val_loss: 0.8188 - val_accuracy: 0.3571\n",
      "Epoch 21/200\n",
      "11/11 [==============================] - 0s 38ms/step - loss: 1.2370 - accuracy: 0.6315 - val_loss: 0.6236 - val_accuracy: 0.5280\n",
      "Epoch 22/200\n",
      "11/11 [==============================] - 0s 26ms/step - loss: 1.1889 - accuracy: 0.7497 - val_loss: 0.4900 - val_accuracy: 0.6801\n",
      "Epoch 23/200\n",
      "11/11 [==============================] - 0s 26ms/step - loss: 0.9505 - accuracy: 0.7923 - val_loss: 0.5871 - val_accuracy: 0.6304\n",
      "Epoch 24/200\n",
      "11/11 [==============================] - 0s 26ms/step - loss: 0.9668 - accuracy: 0.6807 - val_loss: 0.6621 - val_accuracy: 0.5901\n",
      "Epoch 25/200\n",
      "11/11 [==============================] - 0s 26ms/step - loss: 0.9571 - accuracy: 0.6768 - val_loss: 0.8531 - val_accuracy: 0.5093\n",
      "Epoch 26/200\n",
      "11/11 [==============================] - 0s 26ms/step - loss: 1.0921 - accuracy: 0.6103 - val_loss: 0.7281 - val_accuracy: 0.5839\n",
      "Epoch 27/200\n",
      "11/11 [==============================] - 0s 27ms/step - loss: 0.9067 - accuracy: 0.7299 - val_loss: 0.5234 - val_accuracy: 0.6770\n",
      "Epoch 28/200\n",
      "11/11 [==============================] - 0s 26ms/step - loss: 0.9113 - accuracy: 0.7294 - val_loss: 0.5373 - val_accuracy: 0.6615\n",
      "Epoch 29/200\n",
      "11/11 [==============================] - 0s 26ms/step - loss: 0.8039 - accuracy: 0.7639 - val_loss: 0.6442 - val_accuracy: 0.5807\n",
      "Epoch 30/200\n",
      "11/11 [==============================] - 0s 26ms/step - loss: 1.0199 - accuracy: 0.6304 - val_loss: 0.6318 - val_accuracy: 0.5870\n",
      "Epoch 31/200\n",
      "11/11 [==============================] - 0s 26ms/step - loss: 0.9661 - accuracy: 0.6776 - val_loss: 0.3722 - val_accuracy: 0.7981\n",
      "Epoch 32/200\n",
      "11/11 [==============================] - 0s 26ms/step - loss: 1.0580 - accuracy: 0.8485 - val_loss: 0.6086 - val_accuracy: 0.6180\n",
      "Epoch 33/200\n",
      "11/11 [==============================] - 0s 25ms/step - loss: 0.8752 - accuracy: 0.7148 - val_loss: 0.4984 - val_accuracy: 0.6832\n",
      "Epoch 34/200\n",
      "11/11 [==============================] - 0s 26ms/step - loss: 0.8113 - accuracy: 0.8370 - val_loss: 0.6098 - val_accuracy: 0.6304\n",
      "Epoch 35/200\n",
      "11/11 [==============================] - 0s 26ms/step - loss: 0.9059 - accuracy: 0.6747 - val_loss: 0.3799 - val_accuracy: 0.7826\n",
      "Epoch 36/200\n",
      "11/11 [==============================] - 0s 26ms/step - loss: 0.8659 - accuracy: 0.7608 - val_loss: 0.5437 - val_accuracy: 0.6739\n",
      "Epoch 37/200\n",
      "11/11 [==============================] - 0s 27ms/step - loss: 0.9395 - accuracy: 0.7464 - val_loss: 0.2738 - val_accuracy: 0.8789\n",
      "Epoch 38/200\n",
      "11/11 [==============================] - 0s 27ms/step - loss: 0.9975 - accuracy: 0.7839 - val_loss: 0.5307 - val_accuracy: 0.6770\n",
      "Epoch 39/200\n",
      "11/11 [==============================] - 0s 25ms/step - loss: 0.8946 - accuracy: 0.5929 - val_loss: 0.2895 - val_accuracy: 0.8447\n",
      "Epoch 40/200\n",
      "11/11 [==============================] - 0s 25ms/step - loss: 1.1020 - accuracy: 0.8330 - val_loss: 0.2535 - val_accuracy: 0.8758\n",
      "Epoch 41/200\n",
      "11/11 [==============================] - 0s 26ms/step - loss: 0.9974 - accuracy: 0.7635 - val_loss: 0.6322 - val_accuracy: 0.6180\n",
      "Epoch 42/200\n",
      "11/11 [==============================] - 0s 26ms/step - loss: 0.9135 - accuracy: 0.5966 - val_loss: 0.4184 - val_accuracy: 0.7826\n",
      "Epoch 43/200\n",
      "11/11 [==============================] - 0s 26ms/step - loss: 0.9057 - accuracy: 0.7561 - val_loss: 0.3269 - val_accuracy: 0.8447\n",
      "Epoch 44/200\n",
      "11/11 [==============================] - 0s 26ms/step - loss: 0.6641 - accuracy: 0.8153 - val_loss: 0.2128 - val_accuracy: 0.9006\n",
      "Epoch 45/200\n",
      "11/11 [==============================] - 0s 26ms/step - loss: 0.6130 - accuracy: 0.8430 - val_loss: 0.2870 - val_accuracy: 0.8478\n",
      "Epoch 46/200\n",
      "11/11 [==============================] - 0s 26ms/step - loss: 0.7727 - accuracy: 0.8049 - val_loss: 0.3271 - val_accuracy: 0.8292\n",
      "Epoch 47/200\n",
      "11/11 [==============================] - 0s 26ms/step - loss: 0.8322 - accuracy: 0.7987 - val_loss: 0.1986 - val_accuracy: 0.9068\n",
      "Epoch 48/200\n",
      "11/11 [==============================] - 0s 26ms/step - loss: 0.5975 - accuracy: 0.8821 - val_loss: 0.3151 - val_accuracy: 0.8478\n",
      "Epoch 49/200\n",
      "11/11 [==============================] - 0s 26ms/step - loss: 0.5448 - accuracy: 0.8469 - val_loss: 0.3480 - val_accuracy: 0.8540\n",
      "Epoch 50/200\n",
      "11/11 [==============================] - 0s 25ms/step - loss: 0.5685 - accuracy: 0.8146 - val_loss: 0.2270 - val_accuracy: 0.8913\n",
      "Epoch 51/200\n",
      "11/11 [==============================] - 0s 26ms/step - loss: 0.7464 - accuracy: 0.8894 - val_loss: 0.2636 - val_accuracy: 0.8820\n",
      "Epoch 52/200\n",
      "11/11 [==============================] - 0s 26ms/step - loss: 0.5982 - accuracy: 0.8455 - val_loss: 0.1714 - val_accuracy: 0.9099\n",
      "Epoch 53/200\n",
      "11/11 [==============================] - 0s 26ms/step - loss: 0.4939 - accuracy: 0.9186 - val_loss: 0.6380 - val_accuracy: 0.7422\n",
      "Epoch 54/200\n",
      "11/11 [==============================] - 0s 26ms/step - loss: 1.0557 - accuracy: 0.5544 - val_loss: 0.6177 - val_accuracy: 0.5932\n",
      "Epoch 55/200\n",
      "11/11 [==============================] - 0s 26ms/step - loss: 0.9589 - accuracy: 0.7082 - val_loss: 0.3253 - val_accuracy: 0.8106\n",
      "Epoch 56/200\n",
      "11/11 [==============================] - 0s 25ms/step - loss: 1.1616 - accuracy: 0.7993 - val_loss: 0.4180 - val_accuracy: 0.6988\n",
      "Epoch 57/200\n",
      "11/11 [==============================] - 0s 26ms/step - loss: 0.8850 - accuracy: 0.7770 - val_loss: 0.4455 - val_accuracy: 0.6894\n",
      "Epoch 58/200\n",
      "11/11 [==============================] - 0s 26ms/step - loss: 0.7685 - accuracy: 0.7101 - val_loss: 0.3604 - val_accuracy: 0.7733\n",
      "Epoch 59/200\n",
      "11/11 [==============================] - 0s 26ms/step - loss: 0.6700 - accuracy: 0.8004 - val_loss: 0.2187 - val_accuracy: 0.8851\n",
      "Epoch 60/200\n",
      "11/11 [==============================] - 0s 25ms/step - loss: 0.7160 - accuracy: 0.8668 - val_loss: 0.2668 - val_accuracy: 0.8882\n",
      "Epoch 61/200\n",
      "11/11 [==============================] - 0s 26ms/step - loss: 0.6129 - accuracy: 0.7839 - val_loss: 0.3884 - val_accuracy: 0.8261\n",
      "Epoch 62/200\n",
      "11/11 [==============================] - 0s 26ms/step - loss: 0.5881 - accuracy: 0.7903 - val_loss: 0.5083 - val_accuracy: 0.6708\n",
      "Epoch 63/200\n",
      "11/11 [==============================] - 0s 26ms/step - loss: 0.6898 - accuracy: 0.7480 - val_loss: 0.4665 - val_accuracy: 0.7236\n",
      "Epoch 64/200\n",
      "11/11 [==============================] - 0s 26ms/step - loss: 0.7302 - accuracy: 0.6922 - val_loss: 0.5137 - val_accuracy: 0.6770\n",
      "Epoch 65/200\n",
      "11/11 [==============================] - 0s 26ms/step - loss: 0.6601 - accuracy: 0.7229 - val_loss: 0.2646 - val_accuracy: 0.8261\n",
      "Epoch 66/200\n",
      "11/11 [==============================] - 0s 26ms/step - loss: 0.5931 - accuracy: 0.8475 - val_loss: 0.1987 - val_accuracy: 0.8820\n",
      "Epoch 67/200\n",
      "11/11 [==============================] - 0s 25ms/step - loss: 0.5869 - accuracy: 0.8845 - val_loss: 0.2382 - val_accuracy: 0.8727\n",
      "Epoch 68/200\n",
      "11/11 [==============================] - 0s 26ms/step - loss: 0.4356 - accuracy: 0.9008 - val_loss: 0.4332 - val_accuracy: 0.7826\n",
      "Epoch 69/200\n",
      "11/11 [==============================] - 0s 26ms/step - loss: 0.4086 - accuracy: 0.8660 - val_loss: 0.2583 - val_accuracy: 0.8851\n",
      "Epoch 70/200\n",
      "11/11 [==============================] - 0s 26ms/step - loss: 0.4524 - accuracy: 0.8565 - val_loss: 0.3107 - val_accuracy: 0.8602\n",
      "Epoch 71/200\n",
      "11/11 [==============================] - 0s 26ms/step - loss: 0.5392 - accuracy: 0.8444 - val_loss: 0.1865 - val_accuracy: 0.9161\n",
      "Epoch 72/200\n",
      "11/11 [==============================] - 0s 25ms/step - loss: 0.3834 - accuracy: 0.9109 - val_loss: 0.1826 - val_accuracy: 0.9255\n",
      "Epoch 73/200\n",
      "11/11 [==============================] - 0s 26ms/step - loss: 1.1693 - accuracy: 0.8470 - val_loss: 0.3329 - val_accuracy: 0.8540\n",
      "Epoch 74/200\n",
      "11/11 [==============================] - 0s 26ms/step - loss: 0.5696 - accuracy: 0.8015 - val_loss: 0.1083 - val_accuracy: 0.9348\n",
      "Epoch 75/200\n",
      "11/11 [==============================] - 0s 26ms/step - loss: 0.5956 - accuracy: 0.8494 - val_loss: 0.3835 - val_accuracy: 0.7609\n",
      "Epoch 76/200\n",
      "11/11 [==============================] - 0s 26ms/step - loss: 0.6659 - accuracy: 0.7419 - val_loss: 0.2812 - val_accuracy: 0.8292\n",
      "Epoch 77/200\n",
      "11/11 [==============================] - 0s 26ms/step - loss: 0.5835 - accuracy: 0.8148 - val_loss: 0.1340 - val_accuracy: 0.9255\n",
      "Epoch 78/200\n",
      "11/11 [==============================] - 0s 26ms/step - loss: 0.5337 - accuracy: 0.8681 - val_loss: 0.1455 - val_accuracy: 0.9379\n",
      "Epoch 79/200\n",
      "11/11 [==============================] - 0s 39ms/step - loss: 0.3702 - accuracy: 0.8860 - val_loss: 0.1374 - val_accuracy: 0.9441\n",
      "Epoch 80/200\n",
      "11/11 [==============================] - 0s 26ms/step - loss: 0.3509 - accuracy: 0.9087 - val_loss: 0.1717 - val_accuracy: 0.9348\n",
      "Epoch 81/200\n",
      "11/11 [==============================] - 0s 25ms/step - loss: 0.3512 - accuracy: 0.8951 - val_loss: 0.1535 - val_accuracy: 0.9472\n",
      "Epoch 82/200\n",
      "11/11 [==============================] - 0s 25ms/step - loss: 0.4287 - accuracy: 0.9257 - val_loss: 0.2158 - val_accuracy: 0.9161\n",
      "Epoch 83/200\n",
      "11/11 [==============================] - 0s 26ms/step - loss: 0.5441 - accuracy: 0.8391 - val_loss: 0.1106 - val_accuracy: 0.9596\n",
      "Epoch 84/200\n",
      "11/11 [==============================] - 0s 26ms/step - loss: 0.3621 - accuracy: 0.8854 - val_loss: 0.1658 - val_accuracy: 0.9379\n",
      "Epoch 85/200\n",
      "11/11 [==============================] - 0s 25ms/step - loss: 0.5569 - accuracy: 0.7972 - val_loss: 0.2155 - val_accuracy: 0.9068\n",
      "Epoch 86/200\n",
      "11/11 [==============================] - 0s 26ms/step - loss: 0.5656 - accuracy: 0.8080 - val_loss: 0.1451 - val_accuracy: 0.9410\n",
      "Epoch 87/200\n",
      "11/11 [==============================] - 0s 26ms/step - loss: 0.5403 - accuracy: 0.9082 - val_loss: 0.1504 - val_accuracy: 0.9441\n",
      "Epoch 88/200\n",
      "11/11 [==============================] - 0s 26ms/step - loss: 0.2928 - accuracy: 0.9096 - val_loss: 0.1721 - val_accuracy: 0.9348\n",
      "Epoch 89/200\n",
      "11/11 [==============================] - 0s 26ms/step - loss: 0.3795 - accuracy: 0.8932 - val_loss: 0.1160 - val_accuracy: 0.9596\n",
      "Epoch 90/200\n",
      "11/11 [==============================] - 0s 26ms/step - loss: 0.3660 - accuracy: 0.9519 - val_loss: 0.1096 - val_accuracy: 0.9752\n",
      "Epoch 91/200\n",
      "11/11 [==============================] - 0s 26ms/step - loss: 0.6981 - accuracy: 0.9495 - val_loss: 0.1985 - val_accuracy: 0.9379\n",
      "Epoch 92/200\n",
      "11/11 [==============================] - 0s 26ms/step - loss: 0.3020 - accuracy: 0.9066 - val_loss: 0.1494 - val_accuracy: 0.9472\n",
      "Epoch 93/200\n",
      "11/11 [==============================] - 0s 25ms/step - loss: 0.5368 - accuracy: 0.9591 - val_loss: 0.1385 - val_accuracy: 0.9472\n",
      "Epoch 94/200\n",
      "11/11 [==============================] - 0s 26ms/step - loss: 0.3996 - accuracy: 0.8669 - val_loss: 0.4506 - val_accuracy: 0.7578\n",
      "Epoch 95/200\n",
      "11/11 [==============================] - 0s 26ms/step - loss: 0.5809 - accuracy: 0.7831 - val_loss: 0.1815 - val_accuracy: 0.9348\n",
      "Epoch 96/200\n",
      "11/11 [==============================] - 0s 26ms/step - loss: 0.3891 - accuracy: 0.8761 - val_loss: 0.1388 - val_accuracy: 0.9503\n",
      "Epoch 97/200\n",
      "11/11 [==============================] - 0s 25ms/step - loss: 0.3819 - accuracy: 0.8829 - val_loss: 0.1275 - val_accuracy: 0.9472\n",
      "Epoch 98/200\n",
      "11/11 [==============================] - 0s 26ms/step - loss: 0.3532 - accuracy: 0.8959 - val_loss: 0.1304 - val_accuracy: 0.9565\n",
      "Epoch 99/200\n",
      "11/11 [==============================] - 0s 26ms/step - loss: 0.3248 - accuracy: 0.9231 - val_loss: 0.2219 - val_accuracy: 0.9068\n",
      "Epoch 100/200\n",
      "11/11 [==============================] - 0s 26ms/step - loss: 0.5126 - accuracy: 0.8060 - val_loss: 0.2279 - val_accuracy: 0.8851\n",
      "Epoch 101/200\n",
      "11/11 [==============================] - 0s 26ms/step - loss: 0.9515 - accuracy: 0.8376 - val_loss: 0.2489 - val_accuracy: 0.8789\n",
      "Epoch 102/200\n",
      "11/11 [==============================] - 0s 26ms/step - loss: 0.6451 - accuracy: 0.7539 - val_loss: 0.3538 - val_accuracy: 0.7919\n",
      "Epoch 103/200\n",
      "11/11 [==============================] - 0s 26ms/step - loss: 0.7469 - accuracy: 0.7212 - val_loss: 0.2812 - val_accuracy: 0.8385\n",
      "Epoch 104/200\n",
      "11/11 [==============================] - 0s 25ms/step - loss: 0.5872 - accuracy: 0.7945 - val_loss: 0.1681 - val_accuracy: 0.9193\n",
      "Epoch 105/200\n",
      "11/11 [==============================] - 0s 26ms/step - loss: 0.7657 - accuracy: 0.8399 - val_loss: 0.1636 - val_accuracy: 0.9348\n",
      "Epoch 106/200\n",
      "11/11 [==============================] - 0s 26ms/step - loss: 0.7031 - accuracy: 0.8594 - val_loss: 0.3265 - val_accuracy: 0.8323\n",
      "Epoch 107/200\n",
      "11/11 [==============================] - 0s 25ms/step - loss: 0.7538 - accuracy: 0.6946 - val_loss: 0.7316 - val_accuracy: 0.6242\n",
      "Epoch 108/200\n",
      "11/11 [==============================] - 0s 26ms/step - loss: 0.8541 - accuracy: 0.6196 - val_loss: 0.3146 - val_accuracy: 0.7826\n",
      "Epoch 109/200\n",
      "11/11 [==============================] - 0s 26ms/step - loss: 0.6161 - accuracy: 0.7894 - val_loss: 0.1973 - val_accuracy: 0.8571\n",
      "Epoch 110/200\n",
      "11/11 [==============================] - 0s 26ms/step - loss: 0.5869 - accuracy: 0.8379 - val_loss: 0.1759 - val_accuracy: 0.8944\n",
      "Epoch 111/200\n",
      "11/11 [==============================] - 0s 27ms/step - loss: 0.4533 - accuracy: 0.8681 - val_loss: 0.1541 - val_accuracy: 0.9255\n",
      "Epoch 112/200\n",
      "11/11 [==============================] - 0s 26ms/step - loss: 0.4449 - accuracy: 0.8937 - val_loss: 0.1983 - val_accuracy: 0.9130\n",
      "Epoch 113/200\n",
      "11/11 [==============================] - 0s 26ms/step - loss: 0.3734 - accuracy: 0.8728 - val_loss: 0.1972 - val_accuracy: 0.9161\n",
      "Epoch 114/200\n",
      "11/11 [==============================] - 0s 25ms/step - loss: 0.3310 - accuracy: 0.8933 - val_loss: 0.1593 - val_accuracy: 0.9193\n",
      "Epoch 115/200\n",
      "11/11 [==============================] - 0s 25ms/step - loss: 0.3299 - accuracy: 0.9099 - val_loss: 0.1224 - val_accuracy: 0.9410\n",
      "Epoch 116/200\n",
      "11/11 [==============================] - 0s 26ms/step - loss: 0.2875 - accuracy: 0.9166 - val_loss: 0.0962 - val_accuracy: 0.9503\n",
      "Epoch 117/200\n",
      "11/11 [==============================] - 0s 25ms/step - loss: 0.4738 - accuracy: 0.9260 - val_loss: 0.1334 - val_accuracy: 0.9379\n",
      "Epoch 118/200\n",
      "11/11 [==============================] - 0s 26ms/step - loss: 0.2788 - accuracy: 0.9118 - val_loss: 0.1111 - val_accuracy: 0.9441\n",
      "Epoch 119/200\n",
      "11/11 [==============================] - 0s 26ms/step - loss: 0.2854 - accuracy: 0.9260 - val_loss: 0.0977 - val_accuracy: 0.9596\n",
      "Epoch 120/200\n",
      "11/11 [==============================] - 0s 26ms/step - loss: 0.2722 - accuracy: 0.9432 - val_loss: 0.0887 - val_accuracy: 0.9565\n",
      "Epoch 121/200\n",
      "11/11 [==============================] - 0s 26ms/step - loss: 0.2327 - accuracy: 0.9490 - val_loss: 0.0989 - val_accuracy: 0.9658\n",
      "Epoch 122/200\n",
      "11/11 [==============================] - 0s 26ms/step - loss: 0.2767 - accuracy: 0.9551 - val_loss: 0.1142 - val_accuracy: 0.9534\n",
      "Epoch 123/200\n",
      "11/11 [==============================] - 0s 26ms/step - loss: 0.3467 - accuracy: 0.9438 - val_loss: 0.1809 - val_accuracy: 0.9286\n",
      "Epoch 124/200\n",
      "11/11 [==============================] - 0s 26ms/step - loss: 0.2854 - accuracy: 0.9125 - val_loss: 0.1270 - val_accuracy: 0.9379\n",
      "Epoch 125/200\n",
      "11/11 [==============================] - 0s 25ms/step - loss: 0.2484 - accuracy: 0.9392 - val_loss: 0.1240 - val_accuracy: 0.9379\n",
      "Epoch 126/200\n",
      "11/11 [==============================] - 0s 25ms/step - loss: 0.2178 - accuracy: 0.9507 - val_loss: 0.1327 - val_accuracy: 0.9441\n",
      "Epoch 127/200\n",
      "11/11 [==============================] - 0s 26ms/step - loss: 0.2207 - accuracy: 0.9382 - val_loss: 0.1235 - val_accuracy: 0.9472\n",
      "Epoch 128/200\n",
      "11/11 [==============================] - 0s 26ms/step - loss: 0.1908 - accuracy: 0.9566 - val_loss: 0.1256 - val_accuracy: 0.9503\n",
      "Epoch 129/200\n",
      "11/11 [==============================] - 0s 25ms/step - loss: 0.2404 - accuracy: 0.9517 - val_loss: 0.1528 - val_accuracy: 0.9410\n",
      "Epoch 130/200\n",
      "11/11 [==============================] - 0s 26ms/step - loss: 0.2434 - accuracy: 0.9341 - val_loss: 0.1373 - val_accuracy: 0.9565\n",
      "Epoch 131/200\n",
      "11/11 [==============================] - 0s 26ms/step - loss: 0.1926 - accuracy: 0.9559 - val_loss: 0.1385 - val_accuracy: 0.9689\n",
      "Epoch 132/200\n",
      "11/11 [==============================] - 0s 26ms/step - loss: 0.2129 - accuracy: 0.9741 - val_loss: 0.1149 - val_accuracy: 0.9596\n",
      "Epoch 133/200\n",
      "11/11 [==============================] - 0s 26ms/step - loss: 0.1760 - accuracy: 0.9586 - val_loss: 0.1365 - val_accuracy: 0.9503\n",
      "Epoch 134/200\n",
      "11/11 [==============================] - 0s 26ms/step - loss: 0.5975 - accuracy: 0.8205 - val_loss: 0.3826 - val_accuracy: 0.7888\n",
      "Epoch 135/200\n",
      "11/11 [==============================] - 0s 25ms/step - loss: 0.7163 - accuracy: 0.7274 - val_loss: 0.1208 - val_accuracy: 0.9534\n",
      "Epoch 136/200\n",
      "11/11 [==============================] - 0s 26ms/step - loss: 0.5030 - accuracy: 0.8841 - val_loss: 0.0745 - val_accuracy: 0.9658\n",
      "Epoch 137/200\n",
      "11/11 [==============================] - 0s 25ms/step - loss: 0.3836 - accuracy: 0.9280 - val_loss: 0.0767 - val_accuracy: 0.9627\n",
      "Epoch 138/200\n",
      "11/11 [==============================] - 0s 26ms/step - loss: 0.3784 - accuracy: 0.9109 - val_loss: 0.0822 - val_accuracy: 0.9596\n",
      "Epoch 139/200\n",
      "11/11 [==============================] - 0s 26ms/step - loss: 0.2319 - accuracy: 0.9149 - val_loss: 0.0755 - val_accuracy: 0.9627\n",
      "Epoch 140/200\n",
      "11/11 [==============================] - 0s 26ms/step - loss: 0.2959 - accuracy: 0.9409 - val_loss: 0.0915 - val_accuracy: 0.9596\n",
      "Epoch 141/200\n",
      "11/11 [==============================] - 0s 26ms/step - loss: 0.4132 - accuracy: 0.8575 - val_loss: 0.0826 - val_accuracy: 0.9689\n",
      "Epoch 142/200\n",
      "11/11 [==============================] - 0s 26ms/step - loss: 0.3360 - accuracy: 0.8947 - val_loss: 0.0767 - val_accuracy: 0.9720\n",
      "Epoch 143/200\n",
      "11/11 [==============================] - 0s 25ms/step - loss: 0.5303 - accuracy: 0.9326 - val_loss: 0.0799 - val_accuracy: 0.9720\n",
      "Epoch 144/200\n",
      "11/11 [==============================] - 0s 26ms/step - loss: 0.3334 - accuracy: 0.9351 - val_loss: 0.0692 - val_accuracy: 0.9720\n",
      "Epoch 145/200\n",
      "11/11 [==============================] - 0s 26ms/step - loss: 0.3128 - accuracy: 0.9286 - val_loss: 0.0910 - val_accuracy: 0.9752\n",
      "Epoch 146/200\n",
      "11/11 [==============================] - 0s 26ms/step - loss: 0.3165 - accuracy: 0.9564 - val_loss: 0.0881 - val_accuracy: 0.9627\n",
      "Epoch 147/200\n",
      "11/11 [==============================] - 0s 26ms/step - loss: 0.2002 - accuracy: 0.9524 - val_loss: 0.0833 - val_accuracy: 0.9627\n",
      "Epoch 148/200\n",
      "11/11 [==============================] - 0s 28ms/step - loss: 0.2518 - accuracy: 0.9509 - val_loss: 0.0809 - val_accuracy: 0.9596\n",
      "Epoch 149/200\n",
      "11/11 [==============================] - 0s 26ms/step - loss: 0.2590 - accuracy: 0.9302 - val_loss: 0.0934 - val_accuracy: 0.9503\n",
      "Epoch 150/200\n",
      "11/11 [==============================] - 0s 26ms/step - loss: 0.2577 - accuracy: 0.9220 - val_loss: 0.0866 - val_accuracy: 0.9565\n",
      "Epoch 151/200\n",
      "11/11 [==============================] - 0s 38ms/step - loss: 0.1831 - accuracy: 0.9515 - val_loss: 0.0924 - val_accuracy: 0.9565\n",
      "Epoch 152/200\n",
      "11/11 [==============================] - 0s 26ms/step - loss: 0.2125 - accuracy: 0.9533 - val_loss: 0.0972 - val_accuracy: 0.9658\n",
      "Epoch 153/200\n",
      "11/11 [==============================] - 0s 26ms/step - loss: 0.1745 - accuracy: 0.9582 - val_loss: 0.0997 - val_accuracy: 0.9658\n",
      "Epoch 154/200\n",
      "11/11 [==============================] - 0s 26ms/step - loss: 0.1888 - accuracy: 0.9558 - val_loss: 0.1138 - val_accuracy: 0.9596\n",
      "Epoch 155/200\n",
      "11/11 [==============================] - 0s 26ms/step - loss: 0.1293 - accuracy: 0.9677 - val_loss: 0.1052 - val_accuracy: 0.9596\n",
      "Epoch 156/200\n",
      "11/11 [==============================] - 0s 26ms/step - loss: 0.1748 - accuracy: 0.9608 - val_loss: 0.0836 - val_accuracy: 0.9689\n",
      "Epoch 157/200\n",
      "11/11 [==============================] - 0s 26ms/step - loss: 0.1502 - accuracy: 0.9726 - val_loss: 0.0884 - val_accuracy: 0.9658\n",
      "Epoch 158/200\n",
      "11/11 [==============================] - 0s 25ms/step - loss: 0.2369 - accuracy: 0.9698 - val_loss: 0.1197 - val_accuracy: 0.9534\n",
      "Epoch 159/200\n",
      "11/11 [==============================] - 0s 26ms/step - loss: 0.2021 - accuracy: 0.9467 - val_loss: 0.0982 - val_accuracy: 0.9565\n",
      "Epoch 160/200\n",
      "11/11 [==============================] - 0s 25ms/step - loss: 0.2721 - accuracy: 0.9527 - val_loss: 0.1418 - val_accuracy: 0.9348\n",
      "Epoch 161/200\n",
      "11/11 [==============================] - 0s 26ms/step - loss: 0.4831 - accuracy: 0.8490 - val_loss: 0.1163 - val_accuracy: 0.9317\n",
      "Epoch 162/200\n",
      "11/11 [==============================] - 0s 26ms/step - loss: 0.3827 - accuracy: 0.8786 - val_loss: 0.0831 - val_accuracy: 0.9596\n",
      "Epoch 163/200\n",
      "11/11 [==============================] - 0s 26ms/step - loss: 0.3929 - accuracy: 0.8874 - val_loss: 0.0868 - val_accuracy: 0.9503\n",
      "Epoch 164/200\n",
      "11/11 [==============================] - 0s 26ms/step - loss: 0.4840 - accuracy: 0.8626 - val_loss: 0.0857 - val_accuracy: 0.9565\n",
      "Epoch 165/200\n",
      "11/11 [==============================] - 0s 25ms/step - loss: 0.2867 - accuracy: 0.9292 - val_loss: 0.0990 - val_accuracy: 0.9565\n",
      "Epoch 166/200\n",
      "11/11 [==============================] - 0s 26ms/step - loss: 0.3205 - accuracy: 0.9371 - val_loss: 0.1195 - val_accuracy: 0.9503\n",
      "Epoch 167/200\n",
      "11/11 [==============================] - 0s 26ms/step - loss: 0.3397 - accuracy: 0.9328 - val_loss: 0.0953 - val_accuracy: 0.9658\n",
      "Epoch 168/200\n",
      "11/11 [==============================] - 0s 26ms/step - loss: 0.5732 - accuracy: 0.9556 - val_loss: 0.0881 - val_accuracy: 0.9689\n",
      "Epoch 169/200\n",
      "11/11 [==============================] - 0s 26ms/step - loss: 0.1923 - accuracy: 0.9589 - val_loss: 0.0906 - val_accuracy: 0.9658\n",
      "Epoch 170/200\n",
      "11/11 [==============================] - 0s 25ms/step - loss: 0.1977 - accuracy: 0.9618 - val_loss: 0.1012 - val_accuracy: 0.9627\n",
      "Epoch 171/200\n",
      "11/11 [==============================] - 0s 25ms/step - loss: 0.2544 - accuracy: 0.9663 - val_loss: 0.1076 - val_accuracy: 0.9627\n",
      "Epoch 172/200\n",
      "11/11 [==============================] - 0s 26ms/step - loss: 0.2223 - accuracy: 0.9564 - val_loss: 0.1135 - val_accuracy: 0.9565\n",
      "Epoch 173/200\n",
      "11/11 [==============================] - 0s 25ms/step - loss: 0.2031 - accuracy: 0.9636 - val_loss: 0.1200 - val_accuracy: 0.9565\n",
      "Epoch 174/200\n",
      "11/11 [==============================] - 0s 25ms/step - loss: 0.2456 - accuracy: 0.9633 - val_loss: 0.1262 - val_accuracy: 0.9596\n",
      "Epoch 175/200\n",
      "11/11 [==============================] - 0s 26ms/step - loss: 0.4166 - accuracy: 0.9657 - val_loss: 0.1462 - val_accuracy: 0.9565\n",
      "Epoch 176/200\n",
      "11/11 [==============================] - 0s 27ms/step - loss: 0.2457 - accuracy: 0.9561 - val_loss: 0.1401 - val_accuracy: 0.9596\n",
      "Epoch 177/200\n",
      "11/11 [==============================] - 0s 27ms/step - loss: 0.4374 - accuracy: 0.8917 - val_loss: 0.1689 - val_accuracy: 0.9099\n",
      "Epoch 178/200\n",
      "11/11 [==============================] - 0s 26ms/step - loss: 0.4623 - accuracy: 0.8345 - val_loss: 0.0907 - val_accuracy: 0.9627\n",
      "Epoch 179/200\n",
      "11/11 [==============================] - 0s 25ms/step - loss: 0.3624 - accuracy: 0.9466 - val_loss: 0.0911 - val_accuracy: 0.9565\n",
      "Epoch 180/200\n",
      "11/11 [==============================] - 0s 26ms/step - loss: 0.3607 - accuracy: 0.9307 - val_loss: 0.2984 - val_accuracy: 0.8323\n",
      "Epoch 181/200\n",
      "11/11 [==============================] - 0s 26ms/step - loss: 0.5758 - accuracy: 0.7434 - val_loss: 0.2254 - val_accuracy: 0.8944\n",
      "Epoch 182/200\n",
      "11/11 [==============================] - 0s 27ms/step - loss: 0.3820 - accuracy: 0.8841 - val_loss: 0.0981 - val_accuracy: 0.9534\n",
      "Epoch 183/200\n",
      "11/11 [==============================] - 0s 26ms/step - loss: 0.2874 - accuracy: 0.9562 - val_loss: 0.0843 - val_accuracy: 0.9627\n",
      "Epoch 184/200\n",
      "11/11 [==============================] - 0s 27ms/step - loss: 0.2634 - accuracy: 0.9789 - val_loss: 0.1997 - val_accuracy: 0.8820\n",
      "Epoch 185/200\n",
      "11/11 [==============================] - 0s 26ms/step - loss: 0.2767 - accuracy: 0.8940 - val_loss: 0.2450 - val_accuracy: 0.8540\n",
      "Epoch 186/200\n",
      "11/11 [==============================] - 0s 26ms/step - loss: 0.3551 - accuracy: 0.8966 - val_loss: 0.2716 - val_accuracy: 0.8540\n",
      "Epoch 187/200\n",
      "11/11 [==============================] - 0s 26ms/step - loss: 0.3417 - accuracy: 0.8881 - val_loss: 0.2154 - val_accuracy: 0.8975\n",
      "Epoch 188/200\n",
      "11/11 [==============================] - 0s 26ms/step - loss: 0.2771 - accuracy: 0.9166 - val_loss: 0.1672 - val_accuracy: 0.9317\n",
      "Epoch 189/200\n",
      "11/11 [==============================] - 0s 26ms/step - loss: 0.1893 - accuracy: 0.9420 - val_loss: 0.1315 - val_accuracy: 0.9472\n",
      "Epoch 190/200\n",
      "11/11 [==============================] - 0s 27ms/step - loss: 0.3187 - accuracy: 0.9515 - val_loss: 0.2400 - val_accuracy: 0.8913\n",
      "Epoch 191/200\n",
      "11/11 [==============================] - 0s 26ms/step - loss: 0.2724 - accuracy: 0.9137 - val_loss: 0.2244 - val_accuracy: 0.8882\n",
      "Epoch 192/200\n",
      "11/11 [==============================] - 0s 26ms/step - loss: 0.1728 - accuracy: 0.9479 - val_loss: 0.1192 - val_accuracy: 0.9410\n",
      "Epoch 193/200\n",
      "11/11 [==============================] - 0s 27ms/step - loss: 0.2290 - accuracy: 0.9628 - val_loss: 0.1511 - val_accuracy: 0.9317\n",
      "Epoch 194/200\n",
      "11/11 [==============================] - 0s 26ms/step - loss: 0.1563 - accuracy: 0.9567 - val_loss: 0.0915 - val_accuracy: 0.9596\n",
      "Epoch 195/200\n",
      "11/11 [==============================] - 0s 26ms/step - loss: 0.1226 - accuracy: 0.9741 - val_loss: 0.2481 - val_accuracy: 0.9130\n",
      "Epoch 196/200\n",
      "11/11 [==============================] - 0s 26ms/step - loss: 0.3718 - accuracy: 0.8826 - val_loss: 0.4617 - val_accuracy: 0.7764\n",
      "Epoch 197/200\n",
      "11/11 [==============================] - 0s 27ms/step - loss: 0.3751 - accuracy: 0.8830 - val_loss: 0.2041 - val_accuracy: 0.8602\n",
      "Epoch 198/200\n",
      "11/11 [==============================] - 0s 26ms/step - loss: 0.2900 - accuracy: 0.9218 - val_loss: 0.2049 - val_accuracy: 0.8571\n",
      "Epoch 199/200\n",
      "11/11 [==============================] - 0s 26ms/step - loss: 0.2758 - accuracy: 0.9046 - val_loss: 0.1337 - val_accuracy: 0.9130\n",
      "Epoch 200/200\n",
      "11/11 [==============================] - 0s 26ms/step - loss: 0.2182 - accuracy: 0.9491 - val_loss: 0.1822 - val_accuracy: 0.8820\n"
     ]
    },
    {
     "data": {
      "text/plain": [
       "<tensorflow.python.keras.callbacks.History at 0x7fb3d9fe8400>"
      ]
     },
     "execution_count": 29,
     "metadata": {
      "tags": []
     },
     "output_type": "execute_result"
    }
   ],
   "source": [
    "model_t.fit(X,y_no37, epochs=200, batch_size=128, validation_split=0.2,class_weight={0:1,1:44.9})"
   ]
  },
  {
   "cell_type": "code",
   "execution_count": null,
   "metadata": {
    "id": "IbWu5THgGGSI"
   },
   "outputs": [],
   "source": []
  },
  {
   "cell_type": "code",
   "execution_count": null,
   "metadata": {
    "id": "bFpY9SggxyA5"
   },
   "outputs": [],
   "source": []
  },
  {
   "cell_type": "code",
   "execution_count": null,
   "metadata": {
    "id": "3ogoS0EmxxIt"
   },
   "outputs": [],
   "source": [
    "y_no37_ = train_labels_t['no37']"
   ]
  },
  {
   "cell_type": "code",
   "execution_count": null,
   "metadata": {
    "colab": {
     "base_uri": "https://localhost:8080/"
    },
    "executionInfo": {
     "elapsed": 1351,
     "status": "ok",
     "timestamp": 1612605714242,
     "user": {
      "displayName": "박인창",
      "photoUrl": "",
      "userId": "11568833197762759465"
     },
     "user_tz": -540
    },
    "id": "ZXEXjzgIGGOh",
    "outputId": "28a8fd8c-0e71-4ba1-ba0f-93be9201f780"
   },
   "outputs": [
    {
     "name": "stdout",
     "output_type": "stream",
     "text": [
      "Model: \"sequential_9\"\n",
      "_________________________________________________________________\n",
      "Layer (type)                 Output Shape              Param #   \n",
      "=================================================================\n",
      "conv1d_18 (Conv1D)           (None, 596, 32)           992       \n",
      "_________________________________________________________________\n",
      "conv1d_19 (Conv1D)           (None, 592, 64)           10304     \n",
      "_________________________________________________________________\n",
      "max_pooling1d_9 (MaxPooling1 (None, 296, 64)           0         \n",
      "_________________________________________________________________\n",
      "dropout_21 (Dropout)         (None, 296, 64)           0         \n",
      "_________________________________________________________________\n",
      "lstm_9 (LSTM)                (None, 55)                26400     \n",
      "_________________________________________________________________\n",
      "dense_32 (Dense)             (None, 256)               14336     \n",
      "_________________________________________________________________\n",
      "dropout_22 (Dropout)         (None, 256)               0         \n",
      "_________________________________________________________________\n",
      "dense_33 (Dense)             (None, 128)               32896     \n",
      "_________________________________________________________________\n",
      "dropout_23 (Dropout)         (None, 128)               0         \n",
      "_________________________________________________________________\n",
      "dense_34 (Dense)             (None, 64)                8256      \n",
      "_________________________________________________________________\n",
      "dense_35 (Dense)             (None, 1)                 65        \n",
      "=================================================================\n",
      "Total params: 93,249\n",
      "Trainable params: 93,249\n",
      "Non-trainable params: 0\n",
      "_________________________________________________________________\n"
     ]
    }
   ],
   "source": [
    "model_tw = Sequential()\n",
    "model_tw.add(Conv1D(filters = 32,kernel_size= 5, activation='relu',input_shape=(600,6)))\n",
    "model_tw.add(Conv1D(kernel_size=5, filters = 64,activation='relu'))\n",
    "model_tw.add(MaxPooling1D(pool_size=2))\n",
    "model_tw.add(Dropout(0.5))\n",
    "model_tw.add(LSTM(55))\n",
    "model_tw.add(Dense(256, activation='relu'))\n",
    "model_tw.add(Dropout(0.5))\n",
    "model_tw.add(Dense(128, activation='relu'))\n",
    "model_tw.add(Dropout(0.5))\n",
    "model_tw.add(Dense(64, activation='relu'))\n",
    "model_tw.add(Dense(1, activation='sigmoid'))\n",
    "model_tw.summary()\n",
    "\n",
    "model_tw.compile(optimizer=tf.keras.optimizers.Adam(lr=0.001), loss='binary_crossentropy', metrics=['accuracy'])"
   ]
  },
  {
   "cell_type": "code",
   "execution_count": null,
   "metadata": {
    "colab": {
     "base_uri": "https://localhost:8080/"
    },
    "executionInfo": {
     "elapsed": 31117,
     "status": "ok",
     "timestamp": 1612605744373,
     "user": {
      "displayName": "박인창",
      "photoUrl": "",
      "userId": "11568833197762759465"
     },
     "user_tz": -540
    },
    "id": "LS7RuGiRGGFl",
    "outputId": "fc689f3d-00e5-42df-e234-664c287239fe"
   },
   "outputs": [
    {
     "name": "stdout",
     "output_type": "stream",
     "text": [
      "Epoch 1/100\n",
      "11/11 [==============================] - 2s 64ms/step - loss: 1.5377 - accuracy: 0.6250 - val_loss: 0.4777 - val_accuracy: 0.9752\n",
      "Epoch 2/100\n",
      "11/11 [==============================] - 0s 26ms/step - loss: 1.3660 - accuracy: 0.9557 - val_loss: 0.4577 - val_accuracy: 0.9752\n",
      "Epoch 3/100\n",
      "11/11 [==============================] - 0s 26ms/step - loss: 1.5307 - accuracy: 0.9034 - val_loss: 0.5401 - val_accuracy: 0.9752\n",
      "Epoch 4/100\n",
      "11/11 [==============================] - 0s 26ms/step - loss: 1.1011 - accuracy: 0.8605 - val_loss: 0.5989 - val_accuracy: 0.9037\n",
      "Epoch 5/100\n",
      "11/11 [==============================] - 0s 25ms/step - loss: 1.3293 - accuracy: 0.7271 - val_loss: 0.6482 - val_accuracy: 0.5839\n",
      "Epoch 6/100\n",
      "11/11 [==============================] - 0s 26ms/step - loss: 1.3910 - accuracy: 0.6619 - val_loss: 0.6395 - val_accuracy: 0.5093\n",
      "Epoch 7/100\n",
      "11/11 [==============================] - 0s 26ms/step - loss: 1.3088 - accuracy: 0.6920 - val_loss: 0.5490 - val_accuracy: 0.6460\n",
      "Epoch 8/100\n",
      "11/11 [==============================] - 0s 26ms/step - loss: 1.1324 - accuracy: 0.8223 - val_loss: 0.4697 - val_accuracy: 0.6988\n",
      "Epoch 9/100\n",
      "11/11 [==============================] - 0s 26ms/step - loss: 1.4025 - accuracy: 0.7805 - val_loss: 0.5681 - val_accuracy: 0.5248\n",
      "Epoch 10/100\n",
      "11/11 [==============================] - 0s 25ms/step - loss: 1.2312 - accuracy: 0.6761 - val_loss: 0.6439 - val_accuracy: 0.4689\n",
      "Epoch 11/100\n",
      "11/11 [==============================] - 0s 26ms/step - loss: 1.0532 - accuracy: 0.6907 - val_loss: 0.5108 - val_accuracy: 0.6491\n",
      "Epoch 12/100\n",
      "11/11 [==============================] - 0s 26ms/step - loss: 1.3119 - accuracy: 0.6538 - val_loss: 0.7464 - val_accuracy: 0.3789\n",
      "Epoch 13/100\n",
      "11/11 [==============================] - 0s 25ms/step - loss: 1.1014 - accuracy: 0.5315 - val_loss: 0.6819 - val_accuracy: 0.4410\n",
      "Epoch 14/100\n",
      "11/11 [==============================] - 0s 25ms/step - loss: 1.0438 - accuracy: 0.6383 - val_loss: 0.6208 - val_accuracy: 0.5093\n",
      "Epoch 15/100\n",
      "11/11 [==============================] - 0s 26ms/step - loss: 0.9635 - accuracy: 0.6793 - val_loss: 0.7058 - val_accuracy: 0.4565\n",
      "Epoch 16/100\n",
      "11/11 [==============================] - 0s 26ms/step - loss: 1.1757 - accuracy: 0.6310 - val_loss: 0.5835 - val_accuracy: 0.5776\n",
      "Epoch 17/100\n",
      "11/11 [==============================] - 0s 25ms/step - loss: 1.0106 - accuracy: 0.7390 - val_loss: 0.5501 - val_accuracy: 0.6366\n",
      "Epoch 18/100\n",
      "11/11 [==============================] - 0s 25ms/step - loss: 1.1699 - accuracy: 0.6588 - val_loss: 0.6747 - val_accuracy: 0.5217\n",
      "Epoch 19/100\n",
      "11/11 [==============================] - 0s 26ms/step - loss: 1.0588 - accuracy: 0.5056 - val_loss: 0.8183 - val_accuracy: 0.3571\n",
      "Epoch 20/100\n",
      "11/11 [==============================] - 0s 26ms/step - loss: 1.1528 - accuracy: 0.5464 - val_loss: 0.5996 - val_accuracy: 0.5559\n",
      "Epoch 21/100\n",
      "11/11 [==============================] - 0s 25ms/step - loss: 1.2532 - accuracy: 0.6619 - val_loss: 0.5837 - val_accuracy: 0.5528\n",
      "Epoch 22/100\n",
      "11/11 [==============================] - 0s 25ms/step - loss: 1.0316 - accuracy: 0.6979 - val_loss: 0.5256 - val_accuracy: 0.6242\n",
      "Epoch 23/100\n",
      "11/11 [==============================] - 0s 25ms/step - loss: 0.8933 - accuracy: 0.7310 - val_loss: 0.4948 - val_accuracy: 0.6522\n",
      "Epoch 24/100\n",
      "11/11 [==============================] - 0s 25ms/step - loss: 0.9607 - accuracy: 0.6793 - val_loss: 0.4857 - val_accuracy: 0.6739\n",
      "Epoch 25/100\n",
      "11/11 [==============================] - 0s 26ms/step - loss: 0.8927 - accuracy: 0.6810 - val_loss: 0.4315 - val_accuracy: 0.7391\n",
      "Epoch 26/100\n",
      "11/11 [==============================] - 0s 25ms/step - loss: 0.9566 - accuracy: 0.6907 - val_loss: 0.4517 - val_accuracy: 0.7019\n",
      "Epoch 27/100\n",
      "11/11 [==============================] - 0s 26ms/step - loss: 0.8123 - accuracy: 0.7204 - val_loss: 0.4257 - val_accuracy: 0.7236\n",
      "Epoch 28/100\n",
      "11/11 [==============================] - 0s 25ms/step - loss: 0.8984 - accuracy: 0.6912 - val_loss: 0.5277 - val_accuracy: 0.6677\n",
      "Epoch 29/100\n",
      "11/11 [==============================] - 0s 25ms/step - loss: 0.8165 - accuracy: 0.7259 - val_loss: 0.6274 - val_accuracy: 0.6211\n",
      "Epoch 30/100\n",
      "11/11 [==============================] - 0s 26ms/step - loss: 1.0325 - accuracy: 0.6433 - val_loss: 0.6500 - val_accuracy: 0.5683\n",
      "Epoch 31/100\n",
      "11/11 [==============================] - 0s 25ms/step - loss: 0.8918 - accuracy: 0.6859 - val_loss: 0.4822 - val_accuracy: 0.6832\n",
      "Epoch 32/100\n",
      "11/11 [==============================] - 0s 25ms/step - loss: 0.8997 - accuracy: 0.7522 - val_loss: 0.5495 - val_accuracy: 0.6615\n",
      "Epoch 33/100\n",
      "11/11 [==============================] - 0s 26ms/step - loss: 0.8980 - accuracy: 0.6754 - val_loss: 0.4894 - val_accuracy: 0.6863\n",
      "Epoch 34/100\n",
      "11/11 [==============================] - 0s 25ms/step - loss: 0.7414 - accuracy: 0.7385 - val_loss: 0.3344 - val_accuracy: 0.7950\n",
      "Epoch 35/100\n",
      "11/11 [==============================] - 0s 25ms/step - loss: 1.0558 - accuracy: 0.8055 - val_loss: 0.3767 - val_accuracy: 0.7733\n",
      "Epoch 36/100\n",
      "11/11 [==============================] - 0s 25ms/step - loss: 0.6608 - accuracy: 0.8242 - val_loss: 0.4642 - val_accuracy: 0.7640\n",
      "Epoch 37/100\n",
      "11/11 [==============================] - 0s 25ms/step - loss: 0.7133 - accuracy: 0.7310 - val_loss: 0.5524 - val_accuracy: 0.7174\n",
      "Epoch 38/100\n",
      "11/11 [==============================] - 0s 25ms/step - loss: 0.7764 - accuracy: 0.7806 - val_loss: 0.2976 - val_accuracy: 0.8602\n",
      "Epoch 39/100\n",
      "11/11 [==============================] - 0s 25ms/step - loss: 0.7137 - accuracy: 0.8363 - val_loss: 0.4096 - val_accuracy: 0.7981\n",
      "Epoch 40/100\n",
      "11/11 [==============================] - 0s 25ms/step - loss: 0.6651 - accuracy: 0.7891 - val_loss: 0.2636 - val_accuracy: 0.8789\n",
      "Epoch 41/100\n",
      "11/11 [==============================] - 0s 25ms/step - loss: 0.8389 - accuracy: 0.8477 - val_loss: 0.3248 - val_accuracy: 0.8354\n",
      "Epoch 42/100\n",
      "11/11 [==============================] - 0s 25ms/step - loss: 0.8492 - accuracy: 0.8373 - val_loss: 0.4496 - val_accuracy: 0.7919\n",
      "Epoch 43/100\n",
      "11/11 [==============================] - 0s 26ms/step - loss: 0.6252 - accuracy: 0.7732 - val_loss: 0.3862 - val_accuracy: 0.8261\n",
      "Epoch 44/100\n",
      "11/11 [==============================] - 0s 25ms/step - loss: 0.5421 - accuracy: 0.8694 - val_loss: 0.2420 - val_accuracy: 0.8944\n",
      "Epoch 45/100\n",
      "11/11 [==============================] - 0s 26ms/step - loss: 0.6539 - accuracy: 0.8649 - val_loss: 0.2705 - val_accuracy: 0.8727\n",
      "Epoch 46/100\n",
      "11/11 [==============================] - 0s 25ms/step - loss: 0.4153 - accuracy: 0.8585 - val_loss: 0.1542 - val_accuracy: 0.9317\n",
      "Epoch 47/100\n",
      "11/11 [==============================] - 0s 26ms/step - loss: 0.5963 - accuracy: 0.9296 - val_loss: 0.2099 - val_accuracy: 0.9224\n",
      "Epoch 48/100\n",
      "11/11 [==============================] - 0s 25ms/step - loss: 0.4503 - accuracy: 0.8490 - val_loss: 0.1238 - val_accuracy: 0.9534\n",
      "Epoch 49/100\n",
      "11/11 [==============================] - 0s 25ms/step - loss: 0.5456 - accuracy: 0.8498 - val_loss: 0.6243 - val_accuracy: 0.7112\n",
      "Epoch 50/100\n",
      "11/11 [==============================] - 0s 25ms/step - loss: 0.7163 - accuracy: 0.7399 - val_loss: 0.5034 - val_accuracy: 0.7019\n",
      "Epoch 51/100\n",
      "11/11 [==============================] - 0s 25ms/step - loss: 0.6657 - accuracy: 0.7889 - val_loss: 0.3464 - val_accuracy: 0.8106\n",
      "Epoch 52/100\n",
      "11/11 [==============================] - 0s 25ms/step - loss: 0.5618 - accuracy: 0.9147 - val_loss: 0.3129 - val_accuracy: 0.8571\n",
      "Epoch 53/100\n",
      "11/11 [==============================] - 0s 25ms/step - loss: 0.6361 - accuracy: 0.8082 - val_loss: 0.5570 - val_accuracy: 0.7329\n",
      "Epoch 54/100\n",
      "11/11 [==============================] - 0s 26ms/step - loss: 0.4343 - accuracy: 0.8565 - val_loss: 0.2210 - val_accuracy: 0.8851\n",
      "Epoch 55/100\n",
      "11/11 [==============================] - 0s 25ms/step - loss: 0.5854 - accuracy: 0.9234 - val_loss: 0.4261 - val_accuracy: 0.8199\n",
      "Epoch 56/100\n",
      "11/11 [==============================] - 0s 25ms/step - loss: 0.4836 - accuracy: 0.8261 - val_loss: 0.1816 - val_accuracy: 0.9193\n",
      "Epoch 57/100\n",
      "11/11 [==============================] - 0s 25ms/step - loss: 0.5399 - accuracy: 0.9255 - val_loss: 0.1737 - val_accuracy: 0.9379\n",
      "Epoch 58/100\n",
      "11/11 [==============================] - 0s 26ms/step - loss: 0.4434 - accuracy: 0.9000 - val_loss: 0.2605 - val_accuracy: 0.9099\n",
      "Epoch 59/100\n",
      "11/11 [==============================] - 0s 40ms/step - loss: 0.6237 - accuracy: 0.8526 - val_loss: 0.2084 - val_accuracy: 0.9068\n",
      "Epoch 60/100\n",
      "11/11 [==============================] - 0s 25ms/step - loss: 0.5751 - accuracy: 0.9081 - val_loss: 0.1667 - val_accuracy: 0.9410\n",
      "Epoch 61/100\n",
      "11/11 [==============================] - 0s 25ms/step - loss: 0.5578 - accuracy: 0.8391 - val_loss: 0.3372 - val_accuracy: 0.8292\n",
      "Epoch 62/100\n",
      "11/11 [==============================] - 0s 26ms/step - loss: 0.4919 - accuracy: 0.8516 - val_loss: 0.1323 - val_accuracy: 0.9441\n",
      "Epoch 63/100\n",
      "11/11 [==============================] - 0s 25ms/step - loss: 0.5895 - accuracy: 0.9133 - val_loss: 0.2410 - val_accuracy: 0.8882\n",
      "Epoch 64/100\n",
      "11/11 [==============================] - 0s 25ms/step - loss: 0.4394 - accuracy: 0.8934 - val_loss: 0.1952 - val_accuracy: 0.9193\n",
      "Epoch 65/100\n",
      "11/11 [==============================] - 0s 25ms/step - loss: 0.5144 - accuracy: 0.9216 - val_loss: 0.1963 - val_accuracy: 0.9099\n",
      "Epoch 66/100\n",
      "11/11 [==============================] - 0s 25ms/step - loss: 0.5219 - accuracy: 0.9238 - val_loss: 0.2848 - val_accuracy: 0.9068\n",
      "Epoch 67/100\n",
      "11/11 [==============================] - 0s 25ms/step - loss: 0.4083 - accuracy: 0.9066 - val_loss: 0.3196 - val_accuracy: 0.8851\n",
      "Epoch 68/100\n",
      "11/11 [==============================] - 0s 26ms/step - loss: 0.3474 - accuracy: 0.8913 - val_loss: 0.2463 - val_accuracy: 0.9099\n",
      "Epoch 69/100\n",
      "11/11 [==============================] - 0s 25ms/step - loss: 0.3134 - accuracy: 0.9423 - val_loss: 0.2719 - val_accuracy: 0.8913\n",
      "Epoch 70/100\n",
      "11/11 [==============================] - 0s 25ms/step - loss: 0.2762 - accuracy: 0.9183 - val_loss: 0.2027 - val_accuracy: 0.9224\n",
      "Epoch 71/100\n",
      "11/11 [==============================] - 0s 25ms/step - loss: 0.1817 - accuracy: 0.9489 - val_loss: 0.1513 - val_accuracy: 0.9379\n",
      "Epoch 72/100\n",
      "11/11 [==============================] - 0s 25ms/step - loss: 0.2974 - accuracy: 0.9560 - val_loss: 0.1961 - val_accuracy: 0.9286\n",
      "Epoch 73/100\n",
      "11/11 [==============================] - 0s 25ms/step - loss: 0.2583 - accuracy: 0.9497 - val_loss: 0.2776 - val_accuracy: 0.9130\n",
      "Epoch 74/100\n",
      "11/11 [==============================] - 0s 25ms/step - loss: 0.2965 - accuracy: 0.9348 - val_loss: 0.1744 - val_accuracy: 0.9286\n",
      "Epoch 75/100\n",
      "11/11 [==============================] - 0s 25ms/step - loss: 0.3326 - accuracy: 0.9525 - val_loss: 0.2850 - val_accuracy: 0.8944\n",
      "Epoch 76/100\n",
      "11/11 [==============================] - 0s 26ms/step - loss: 0.2776 - accuracy: 0.9148 - val_loss: 0.2017 - val_accuracy: 0.9224\n",
      "Epoch 77/100\n",
      "11/11 [==============================] - 0s 25ms/step - loss: 0.2979 - accuracy: 0.9477 - val_loss: 0.3010 - val_accuracy: 0.9006\n",
      "Epoch 78/100\n",
      "11/11 [==============================] - 0s 26ms/step - loss: 0.2808 - accuracy: 0.9011 - val_loss: 0.2278 - val_accuracy: 0.9193\n",
      "Epoch 79/100\n",
      "11/11 [==============================] - 0s 25ms/step - loss: 0.2588 - accuracy: 0.9363 - val_loss: 0.1581 - val_accuracy: 0.9472\n",
      "Epoch 80/100\n",
      "11/11 [==============================] - 0s 25ms/step - loss: 1.9679 - accuracy: 0.9578 - val_loss: 0.3082 - val_accuracy: 0.8882\n",
      "Epoch 81/100\n",
      "11/11 [==============================] - 0s 26ms/step - loss: 0.2957 - accuracy: 0.9161 - val_loss: 0.3173 - val_accuracy: 0.8696\n",
      "Epoch 82/100\n",
      "11/11 [==============================] - 0s 25ms/step - loss: 0.2600 - accuracy: 0.9420 - val_loss: 0.1985 - val_accuracy: 0.9379\n",
      "Epoch 83/100\n",
      "11/11 [==============================] - 0s 26ms/step - loss: 0.1642 - accuracy: 0.9574 - val_loss: 0.1787 - val_accuracy: 0.9410\n",
      "Epoch 84/100\n",
      "11/11 [==============================] - 0s 25ms/step - loss: 0.1397 - accuracy: 0.9697 - val_loss: 0.2370 - val_accuracy: 0.9286\n",
      "Epoch 85/100\n",
      "11/11 [==============================] - 0s 25ms/step - loss: 0.1949 - accuracy: 0.9447 - val_loss: 0.2180 - val_accuracy: 0.9286\n",
      "Epoch 86/100\n",
      "11/11 [==============================] - 0s 25ms/step - loss: 0.2083 - accuracy: 0.9614 - val_loss: 0.2094 - val_accuracy: 0.9441\n",
      "Epoch 87/100\n",
      "11/11 [==============================] - 0s 25ms/step - loss: 0.1216 - accuracy: 0.9664 - val_loss: 0.1881 - val_accuracy: 0.9503\n",
      "Epoch 88/100\n",
      "11/11 [==============================] - 0s 25ms/step - loss: 0.1951 - accuracy: 0.9651 - val_loss: 0.2512 - val_accuracy: 0.9224\n",
      "Epoch 89/100\n",
      "11/11 [==============================] - 0s 25ms/step - loss: 0.2170 - accuracy: 0.9519 - val_loss: 0.1097 - val_accuracy: 0.9565\n",
      "Epoch 90/100\n",
      "11/11 [==============================] - 0s 25ms/step - loss: 0.2106 - accuracy: 0.9678 - val_loss: 0.2159 - val_accuracy: 0.9193\n",
      "Epoch 91/100\n",
      "11/11 [==============================] - 0s 25ms/step - loss: 0.1477 - accuracy: 0.9501 - val_loss: 0.1381 - val_accuracy: 0.9534\n",
      "Epoch 92/100\n",
      "11/11 [==============================] - 0s 25ms/step - loss: 0.5893 - accuracy: 0.9477 - val_loss: 0.5040 - val_accuracy: 0.8354\n",
      "Epoch 93/100\n",
      "11/11 [==============================] - 0s 25ms/step - loss: 0.3609 - accuracy: 0.9015 - val_loss: 0.1803 - val_accuracy: 0.9379\n",
      "Epoch 94/100\n",
      "11/11 [==============================] - 0s 26ms/step - loss: 0.5220 - accuracy: 0.9733 - val_loss: 0.5834 - val_accuracy: 0.7547\n",
      "Epoch 95/100\n",
      "11/11 [==============================] - 0s 26ms/step - loss: 0.6116 - accuracy: 0.7254 - val_loss: 0.2468 - val_accuracy: 0.8727\n",
      "Epoch 96/100\n",
      "11/11 [==============================] - 0s 27ms/step - loss: 0.3927 - accuracy: 0.8863 - val_loss: 0.1153 - val_accuracy: 0.9348\n",
      "Epoch 97/100\n",
      "11/11 [==============================] - 0s 26ms/step - loss: 0.3288 - accuracy: 0.9428 - val_loss: 0.1112 - val_accuracy: 0.9410\n",
      "Epoch 98/100\n",
      "11/11 [==============================] - 0s 25ms/step - loss: 0.2074 - accuracy: 0.9577 - val_loss: 0.1337 - val_accuracy: 0.9410\n",
      "Epoch 99/100\n",
      "11/11 [==============================] - 0s 26ms/step - loss: 0.2079 - accuracy: 0.9544 - val_loss: 0.0901 - val_accuracy: 0.9627\n",
      "Epoch 100/100\n",
      "11/11 [==============================] - 0s 26ms/step - loss: 0.2447 - accuracy: 0.9516 - val_loss: 0.0648 - val_accuracy: 0.9720\n"
     ]
    },
    {
     "data": {
      "text/plain": [
       "<tensorflow.python.keras.callbacks.History at 0x7fb39c47fe48>"
      ]
     },
     "execution_count": 36,
     "metadata": {
      "tags": []
     },
     "output_type": "execute_result"
    }
   ],
   "source": [
    "model_tw.fit(X,y_no37_, epochs=100, batch_size=128, validation_split=0.2,class_weight={0:1,1:44.9})"
   ]
  },
  {
   "cell_type": "code",
   "execution_count": null,
   "metadata": {
    "id": "RaJlu0uMzLIf"
   },
   "outputs": [],
   "source": [
    "test_X=tf.reshape(np.array(test.iloc[:,2:]),[-1, 600, 6])\n",
    "test_X.shape\n",
    "\n",
    "prediction=model.predict(test_X)\n",
    "\n",
    "submission.iloc[:,1:]=prediction\n",
    "\n",
    "submission.to_csv('1_try.csv')"
   ]
  },
  {
   "cell_type": "code",
   "execution_count": null,
   "metadata": {
    "id": "3mdsWia-zK8k"
   },
   "outputs": [],
   "source": []
  },
  {
   "cell_type": "code",
   "execution_count": null,
   "metadata": {
    "id": "vA6RBo0wzK5s"
   },
   "outputs": [],
   "source": []
  },
  {
   "cell_type": "code",
   "execution_count": null,
   "metadata": {
    "id": "rNHA3HZvzK3A"
   },
   "outputs": [],
   "source": []
  },
  {
   "cell_type": "code",
   "execution_count": null,
   "metadata": {
    "id": "scqQoPjMzKz9"
   },
   "outputs": [],
   "source": []
  },
  {
   "cell_type": "code",
   "execution_count": null,
   "metadata": {
    "id": "OXa1GSPOzKxE"
   },
   "outputs": [],
   "source": []
  },
  {
   "cell_type": "code",
   "execution_count": null,
   "metadata": {
    "id": "0bk22oxozKuE"
   },
   "outputs": [],
   "source": []
  },
  {
   "cell_type": "code",
   "execution_count": null,
   "metadata": {
    "id": "--n4PBJCzKrW"
   },
   "outputs": [],
   "source": []
  },
  {
   "cell_type": "code",
   "execution_count": null,
   "metadata": {
    "id": "ok-hzxXlzKoi"
   },
   "outputs": [],
   "source": []
  },
  {
   "cell_type": "code",
   "execution_count": null,
   "metadata": {
    "id": "f8TrMR0WzKl1"
   },
   "outputs": [],
   "source": []
  },
  {
   "cell_type": "code",
   "execution_count": null,
   "metadata": {
    "id": "GarlsnP0zKi8"
   },
   "outputs": [],
   "source": []
  },
  {
   "cell_type": "code",
   "execution_count": null,
   "metadata": {
    "id": "a3sWFcbOzKfn"
   },
   "outputs": [],
   "source": []
  },
  {
   "cell_type": "code",
   "execution_count": null,
   "metadata": {
    "id": "wCA9g3YMzKPE"
   },
   "outputs": [],
   "source": []
  }
 ],
 "metadata": {
  "accelerator": "GPU",
  "colab": {
   "authorship_tag": "ABX9TyPjscG/mykRUfXifEsGyhBj",
   "collapsed_sections": [],
   "mount_file_id": "1uht7QD49lu9gDOw5XChOBMBonVsLkqDn",
   "name": "Untitled0.ipynb",
   "provenance": []
  },
  "kernelspec": {
   "display_name": "Python 3",
   "language": "python",
   "name": "python3"
  },
  "language_info": {
   "codemirror_mode": {
    "name": "ipython",
    "version": 3
   },
   "file_extension": ".py",
   "mimetype": "text/x-python",
   "name": "python",
   "nbconvert_exporter": "python",
   "pygments_lexer": "ipython3",
   "version": "3.8.3"
  }
 },
 "nbformat": 4,
 "nbformat_minor": 1
}
